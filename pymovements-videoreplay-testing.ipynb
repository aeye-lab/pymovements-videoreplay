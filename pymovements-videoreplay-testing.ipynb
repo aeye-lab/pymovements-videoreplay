{
 "cells": [
  {
   "cell_type": "markdown",
   "source": [
    "## Getting Started\n",
    "Loading eye movement dataset with pymovements"
   ],
   "metadata": {
    "collapsed": false
   },
   "id": "70753008078c97ec"
  },
  {
   "cell_type": "code",
   "execution_count": 209,
   "outputs": [],
   "source": [
    "from __future__ import annotations\n",
    "\n",
    "import os\n",
    "import pymovements as pm"
   ],
   "metadata": {
    "collapsed": false,
    "ExecuteTime": {
     "end_time": "2025-03-06T23:56:57.159486200Z",
     "start_time": "2025-03-06T23:56:57.142366200Z"
    }
   },
   "id": "95479dc8abe66276"
  },
  {
   "cell_type": "code",
   "execution_count": 210,
   "outputs": [],
   "source": [
    "from dataclasses import dataclass, field\n",
    "from typing import Any\n",
    "\n",
    "import polars as pl\n",
    "from pymovements.dataset.dataset_definition import DatasetDefinition\n",
    "from pymovements.dataset.dataset_library import register_dataset\n",
    "from pymovements.gaze.experiment import Experiment\n",
    "\n",
    "\n",
    "@dataclass\n",
    "@register_dataset\n",
    "class SBSATDataset(DatasetDefinition):\n",
    "    name: str = \"SB-SAT\"\n",
    "\n",
    "    has_files: dict[str, bool] = field(\n",
    "        default_factory=lambda: {\n",
    "            \"gaze\": True,\n",
    "            \"precomputed_events\": False,\n",
    "            \"precomputed_reading_measures\": False,\n",
    "        }\n",
    "    )\n",
    "\n",
    "    mirrors: dict[str, tuple[str, ...]] = field(\n",
    "        default_factory=lambda: {}\n",
    "    )\n",
    "\n",
    "    resources: dict[str, tuple[dict[str, str], ...]] = field(\n",
    "        default_factory=lambda: {}\n",
    "    )\n",
    "\n",
    "    extract: dict[str, bool] = field(\n",
    "        default_factory=lambda: {\"gaze\": False}\n",
    "    )\n",
    "\n",
    "    # Adjust these experiment parameters if the real SB-SAT setup differs\n",
    "    experiment: Experiment = Experiment(\n",
    "        screen_width_px=1280,\n",
    "        screen_height_px=1024,\n",
    "        screen_width_cm=38,\n",
    "        screen_height_cm=30.2,\n",
    "        distance_cm=68,\n",
    "        origin=\"upper left\",\n",
    "        sampling_rate=1000,\n",
    "    )\n",
    "\n",
    "    # Regex: match any CSV ending in fixfinal.csv (e.g. 18sat_fixfinal.csv)\n",
    "    filename_format: dict[str, str] = field(\n",
    "        default_factory=lambda: {\"gaze\": r\".*fixfinal\\.csv\"}\n",
    "    )\n",
    "\n",
    "    # If you don't need typed named groups from the filename, just keep this empty\n",
    "    filename_format_schema_overrides: dict[str, dict[str, type]] = field(\n",
    "        default_factory=lambda: {\"gaze\": {}}\n",
    "    )\n",
    "\n",
    "    # If you want each row to be a separate trial, you can specify which columns mark trials\n",
    "    trial_columns: list[str] = field(\n",
    "        default_factory=lambda: [\"TRIAL_INDEX\"]\n",
    "    )\n",
    "\n",
    "    # We'll treat CURRENT_FIX_DURATION as a time measure (in ms)\n",
    "    time_column: str = \"CURRENT_FIX_DURATION\"\n",
    "    time_unit: str = \"ms\"\n",
    "\n",
    "    # The pixel coordinate columns\n",
    "    pixel_columns: list[str] = field(\n",
    "        default_factory=lambda: [\"CURRENT_FIX_X\", \"CURRENT_FIX_Y\"]\n",
    "    )\n",
    "\n",
    "    # If not renaming columns, keep this empty\n",
    "    column_map: dict[str, str] = field(\n",
    "        default_factory=lambda: {}\n",
    "    )\n",
    "\n",
    "    # Reading CSV files: specify columns, separator, and data types\n",
    "    custom_read_kwargs: dict[str, dict[str, Any]] = field(\n",
    "        default_factory=lambda: {\n",
    "            \"gaze\": {\n",
    "                \"columns\": [\n",
    "                    \"RECORDING_SESSION_LABEL\",\n",
    "                    \"TRIAL_INDEX\",\n",
    "                    \"CURRENT_FIX_X\",\n",
    "                    \"CURRENT_FIX_Y\",\n",
    "                    \"CURRENT_FIX_DURATION\",\n",
    "                ],\n",
    "                \"schema_overrides\": {\n",
    "                    \"CURRENT_FIX_DURATION\": pl.Float64,\n",
    "                    \"CURRENT_FIX_X\": pl.Float64,\n",
    "                    \"CURRENT_FIX_Y\": pl.Float64,\n",
    "                },\n",
    "                \"separator\": \",\",  # SB-SAT fixfinal.csv likely comma-separated\n",
    "                \"null_values\": \"\",\n",
    "            },\n",
    "        },\n",
    "    )"
   ],
   "metadata": {
    "collapsed": false,
    "ExecuteTime": {
     "end_time": "2025-03-06T23:56:58.442100300Z",
     "start_time": "2025-03-06T23:56:58.388837600Z"
    }
   },
   "id": "f6849b47a4e743b0"
  },
  {
   "cell_type": "code",
   "execution_count": 213,
   "outputs": [
    {
     "data": {
      "text/plain": "  0%|          | 0/1 [00:00<?, ?it/s]",
      "application/vnd.jupyter.widget-view+json": {
       "version_major": 2,
       "version_minor": 0,
       "model_id": "a02863a44cab4c18bce75f0c28c65fed"
      }
     },
     "metadata": {},
     "output_type": "display_data"
    },
    {
     "data": {
      "text/plain": "<pymovements.dataset.dataset.Dataset at 0x233634083d0>"
     },
     "execution_count": 213,
     "metadata": {},
     "output_type": "execute_result"
    }
   ],
   "source": [
    "# Initialize your dataset\n",
    "dataset = pm.Dataset(\n",
    "    definition=SBSATDataset(),  # Use your definition with name=\"SB-SAT\"\n",
    "    path=\"data/SB-SAT/fixation\",  # The custom paths ignoring fill_name\n",
    ")\n",
    "\n",
    "dataset.load()"
   ],
   "metadata": {
    "collapsed": false,
    "ExecuteTime": {
     "end_time": "2025-03-06T23:57:07.766496200Z",
     "start_time": "2025-03-06T23:57:07.582322Z"
    }
   },
   "id": "50a9867f1a22205"
  },
  {
   "cell_type": "code",
   "execution_count": 212,
   "outputs": [
    {
     "name": "stdout",
     "output_type": "stream",
     "text": [
      "Using already downloaded and verified file: data\\ToyDataset\\downloads\\pymovements-toy-dataset.zip\n",
      "Extracting pymovements-toy-dataset.zip to data\\ToyDataset\\raw\n"
     ]
    },
    {
     "data": {
      "text/plain": "  0%|          | 0/20 [00:00<?, ?it/s]",
      "application/vnd.jupyter.widget-view+json": {
       "version_major": 2,
       "version_minor": 0,
       "model_id": "74bd75154e9b4bc5b4b6a71c7ab87b38"
      }
     },
     "metadata": {},
     "output_type": "display_data"
    },
    {
     "data": {
      "text/plain": "<pymovements.dataset.dataset.Dataset at 0x23361da5450>"
     },
     "execution_count": 212,
     "metadata": {},
     "output_type": "execute_result"
    }
   ],
   "source": [
    "# Ensure the data directory exists\n",
    "os.makedirs('data/ToyDataset', exist_ok=True)\n",
    "\n",
    "dataset = pm.Dataset(\n",
    "    'ToyDataset',  # choose a public dataset from our dataset library\n",
    "    path='data/ToyDataset',  # set up your local dataset path\n",
    ")\n",
    "dataset.download()  # download a public dataset from our dataset library\n",
    "dataset.load()  # download the dataset"
   ],
   "metadata": {
    "collapsed": false,
    "ExecuteTime": {
     "end_time": "2025-03-06T23:57:03.525234500Z",
     "start_time": "2025-03-06T23:57:02.559823700Z"
    }
   },
   "id": "7b5e2bf67faf26f"
  },
  {
   "cell_type": "markdown",
   "source": [
    "Calculate velocities on the fly"
   ],
   "metadata": {
    "collapsed": false
   },
   "id": "bd1c7f330012ddf7"
  },
  {
   "cell_type": "code",
   "execution_count": 214,
   "outputs": [
    {
     "data": {
      "text/plain": "  0%|          | 0/1 [00:00<?, ?it/s]",
      "application/vnd.jupyter.widget-view+json": {
       "version_major": 2,
       "version_minor": 0,
       "model_id": "c72bc452f82b4ac7b9703d389342ce8f"
      }
     },
     "metadata": {},
     "output_type": "display_data"
    },
    {
     "data": {
      "text/plain": "  0%|          | 0/1 [00:00<?, ?it/s]",
      "application/vnd.jupyter.widget-view+json": {
       "version_major": 2,
       "version_minor": 0,
       "model_id": "74098b3dffbd467f8f821d653b29d190"
      }
     },
     "metadata": {},
     "output_type": "display_data"
    },
    {
     "data": {
      "text/plain": "<pymovements.dataset.dataset.Dataset at 0x233634083d0>"
     },
     "execution_count": 214,
     "metadata": {},
     "output_type": "execute_result"
    }
   ],
   "source": [
    "dataset.pix2deg()  # transform pixel coordinates to degrees of visual angle\n",
    "dataset.pos2vel()  # transform positional data to velocity data"
   ],
   "metadata": {
    "collapsed": false,
    "ExecuteTime": {
     "end_time": "2025-03-06T23:57:16.725551Z",
     "start_time": "2025-03-06T23:57:14.773641700Z"
    }
   },
   "id": "4df52673e6a97902"
  },
  {
   "cell_type": "markdown",
   "source": [
    "and extract events with different eye movements event extraction algorithms"
   ],
   "metadata": {
    "collapsed": false
   },
   "id": "2448599b5410d81e"
  },
  {
   "cell_type": "code",
   "execution_count": 215,
   "outputs": [
    {
     "data": {
      "text/plain": "0it [00:00, ?it/s]",
      "application/vnd.jupyter.widget-view+json": {
       "version_major": 2,
       "version_minor": 0,
       "model_id": "0b9fcae9deac4e0e961d9e1b32db2673"
      }
     },
     "metadata": {},
     "output_type": "display_data"
    },
    {
     "data": {
      "text/plain": "0it [00:00, ?it/s]",
      "application/vnd.jupyter.widget-view+json": {
       "version_major": 2,
       "version_minor": 0,
       "model_id": "4289bd43d5994afe869e68d5831f2ad5"
      }
     },
     "metadata": {},
     "output_type": "display_data"
    },
    {
     "data": {
      "text/plain": "<pymovements.dataset.dataset.Dataset at 0x233634083d0>"
     },
     "execution_count": 215,
     "metadata": {},
     "output_type": "execute_result"
    }
   ],
   "source": [
    "dataset.detect('ivt')  # detect fixation using the I-VT algorithm\n",
    "dataset.detect('microsaccades')  # detect saccades using the microsaccades algorithm"
   ],
   "metadata": {
    "collapsed": false,
    "ExecuteTime": {
     "end_time": "2025-03-06T23:57:21.187978900Z",
     "start_time": "2025-03-06T23:57:19.858232900Z"
    }
   },
   "id": "1b18c7c4659e9b9a"
  },
  {
   "cell_type": "markdown",
   "source": [
    "## Upload and Select Stimulus (Video or Image)\n",
    "Upload the stimulus video or image file."
   ],
   "metadata": {
    "collapsed": false
   },
   "id": "f9eaa6d2e61fa349"
  },
  {
   "cell_type": "code",
   "execution_count": 216,
   "outputs": [],
   "source": [
    "def create_eye_tracking_video(gaze_df, video_filename=\"eye_tracking_video.mp4\", fps=30, width=1280, height=1024):\n",
    "    \"\"\"\n",
    "    Creates a blank video with a duration matching the eye movement timestamps in the dataset.\n",
    "\n",
    "    Parameters:\n",
    "        gaze_df (pandas.DataFrame): The eye movement dataset containing 'time' column.\n",
    "        video_filename (str): Name of the output video file.\n",
    "        fps (int): Frames per second.\n",
    "        width (int): Video width.\n",
    "        height (int): Video height.\n",
    "    \"\"\"\n",
    "    if \"frame_idx\" in gaze_df.columns:\n",
    "        # If 'frame_idx' exists, use its max value to determine total frames\n",
    "        total_frames = int(gaze_df[\"frame_idx\"].max()) + 1\n",
    "    else:\n",
    "        # Otherwise, compute total frames based on timestamps\n",
    "        min_time = gaze_df[\"time\"].min() / 1000.0  # Convert ms → s\n",
    "        max_time = gaze_df[\"time\"].max() / 1000.0  # Convert ms → s\n",
    "        duration = max_time - min_time  # Total video duration in seconds\n",
    "        total_frames = int(duration * fps)\n",
    "\n",
    "    # Ensure at least 1 frame is written\n",
    "    total_frames = max(1, total_frames)\n",
    "\n",
    "    print(f\"Creating video of duration: {duration:.2f} sec ({total_frames} frames)\")\n",
    "\n",
    "    # Set up the video writer\n",
    "    fourcc = cv2.VideoWriter_fourcc(*\"mp4v\")  # Codec\n",
    "    out = cv2.VideoWriter(video_filename, fourcc, fps, (width, height))\n",
    "\n",
    "    # Create white frames and write to video\n",
    "    white_frame = np.ones((height, width, 3), dtype=np.uint8) * 255  # White background\n",
    "    for _ in range(total_frames):\n",
    "        out.write(white_frame)\n",
    "\n",
    "    out.release()\n",
    "    print(f\"Video saved as {video_filename}\")"
   ],
   "metadata": {
    "collapsed": false,
    "ExecuteTime": {
     "end_time": "2025-03-06T23:57:25.036795800Z",
     "start_time": "2025-03-06T23:57:25.025417500Z"
    }
   },
   "id": "e8b5157d361e5990"
  },
  {
   "cell_type": "code",
   "execution_count": 219,
   "outputs": [
    {
     "data": {
      "text/plain": "FileChooser(path='C:\\Users\\Kirthan\\IdeaProjects\\pymovements-videoreplay\\data', filename='', title='', show_hid…",
      "application/vnd.jupyter.widget-view+json": {
       "version_major": 2,
       "version_minor": 0,
       "model_id": "7d4b698594c9493986e4e0e0b8c56f3a"
      }
     },
     "metadata": {},
     "output_type": "display_data"
    }
   ],
   "source": [
    "import shutil\n",
    "import ipyfilechooser\n",
    "import cv2\n",
    "import numpy as np\n",
    "from IPython.display import display\n",
    "\n",
    "# Step 1: Create the file chooser widget\n",
    "base_dir = os.getcwd()  # Start from the current working directory\n",
    "while not base_dir.endswith(\"pymovements-videoreplay\") and os.path.dirname(base_dir) != base_dir:\n",
    "    base_dir = os.path.dirname(base_dir)  # Go up one level until we find the project root\n",
    "\n",
    "default_path = os.path.join(base_dir, \"data\")\n",
    "\n",
    "os.makedirs(default_path, exist_ok=True)\n",
    "\n",
    "chooser = ipyfilechooser.FileChooser(default_path)\n",
    "chooser.filter_pattern = ['*.mp4', '*.jpg', '*.jpeg', '*.png']  # Show video & image files\n",
    "display(chooser)\n",
    "\n",
    "\n",
    "# Step 2: Function to move the selected file or use the generated video\n",
    "def save_uploaded_video():\n",
    "    selected_file = chooser.selected  # Get selected file path\n",
    "\n",
    "    if selected_file is None:\n",
    "        # If no video or image is uploaded, generate a white background video\n",
    "        default_video = \"white_background.mp4\"\n",
    "        if not os.path.exists(default_video):\n",
    "            print(f\"No stimulus uploaded. Generating default white image: {default_video}\")\n",
    "            create_eye_tracking_video(dataset.gaze[0].frame.to_pandas(), default_video)\n",
    "\n",
    "        # Check if the generated image exists\n",
    "        if os.path.exists(default_video):\n",
    "            print(f\"Using generated white background video: {default_video}\")\n",
    "            selected_file = default_video\n",
    "        else:\n",
    "            print(\"ERROR: No stimulus uploaded and failed to generate an image. Please upload an image or video.\")\n",
    "            return\n",
    "\n",
    "    # Move the selected file to 'stimulus.ext' (handle both video and image)\n",
    "    stimulus_ext = os.path.splitext(selected_file)[-1].lower()\n",
    "    stimulus_name = \"stimulus\" + stimulus_ext\n",
    "    shutil.copy(selected_file, stimulus_name)\n",
    "\n",
    "    # Verify the file exists\n",
    "    if os.path.exists(stimulus_name):\n",
    "        print(f\"Stimulus saved successfully as '{stimulus_name}'!\")\n",
    "        print(f\"File Size: {os.path.getsize(stimulus_name)} bytes\")\n",
    "    else:\n",
    "        print(\"ERROR: Stimulus file was not saved correctly!\")\n",
    "\n"
   ],
   "metadata": {
    "collapsed": false,
    "ExecuteTime": {
     "end_time": "2025-03-06T23:57:49.263795800Z",
     "start_time": "2025-03-06T23:57:49.186813400Z"
    }
   },
   "id": "1162337fc9170355"
  },
  {
   "cell_type": "code",
   "execution_count": 220,
   "outputs": [
    {
     "name": "stdout",
     "output_type": "stream",
     "text": [
      "Stimulus saved successfully as 'stimulus.png'!\n",
      "File Size: 169398 bytes\n"
     ]
    }
   ],
   "source": [
    "# Step 3: After Selecting the File, Run:\n",
    "save_uploaded_video()"
   ],
   "metadata": {
    "collapsed": false,
    "ExecuteTime": {
     "end_time": "2025-03-06T23:57:58.966147600Z",
     "start_time": "2025-03-06T23:57:58.948993100Z"
    }
   },
   "id": "a809dd6db8c32e68"
  },
  {
   "cell_type": "markdown",
   "source": [
    "## Initialize and Run VideoPlayer\n",
    "Run the VideoPlayer to visualize eye-tracking data overlay."
   ],
   "metadata": {
    "collapsed": false
   },
   "id": "10a82e6f8033e65e"
  },
  {
   "cell_type": "code",
   "execution_count": 225,
   "outputs": [
    {
     "data": {
      "text/plain": "  0%|          | 0/1 [00:00<?, ?it/s]",
      "application/vnd.jupyter.widget-view+json": {
       "version_major": 2,
       "version_minor": 0,
       "model_id": "11f2f113c169468bbdd71d2d28b93a1e"
      }
     },
     "metadata": {},
     "output_type": "display_data"
    }
   ],
   "source": [
    "import sys\n",
    "import importlib\n",
    "\n",
    "# Ensure 'src' is in sys.path\n",
    "src_path = os.path.abspath(os.path.join('src'))\n",
    "if src_path not in sys.path:\n",
    "    sys.path.append(src_path)\n",
    "\n",
    "# Import the module\n",
    "import videoreplay.video_player\n",
    "\n",
    "# Reload the module (corrected)\n",
    "importlib.reload(videoreplay.video_player)\n",
    "\n",
    "# Now import the updated class\n",
    "from videoreplay.video_player import VideoPlayer\n",
    "\n",
    "# Determine stimulus file (image or video)\n",
    "stimulus_files = [f for f in os.listdir() if f.startswith(\"stimulus.\")]\n",
    "if stimulus_files:\n",
    "    stimulus_path = stimulus_files[0]\n",
    "else:\n",
    "    print(\"ERROR: No stimulus file found!\")\n",
    "\n",
    "# Initialize the VideoPlayer with the uploaded video\n",
    "player = VideoPlayer(stimulus_path=stimulus_path,\n",
    "                     dataset_path=\"data/SB-SAT/fixation\",\n",
    "                     dataset_name=SBSATDataset)"
   ],
   "metadata": {
    "collapsed": false,
    "ExecuteTime": {
     "end_time": "2025-03-07T00:01:29.259678600Z",
     "start_time": "2025-03-07T00:01:28.821711300Z"
    }
   },
   "id": "7c39103f12e1f3a6"
  },
  {
   "cell_type": "markdown",
   "source": [
    "## Play Video with Gaze Overlay"
   ],
   "metadata": {
    "collapsed": false
   },
   "id": "e9052d0fc6291892"
  },
  {
   "cell_type": "code",
   "execution_count": 226,
   "outputs": [
    {
     "name": "stdout",
     "output_type": "stream",
     "text": [
      "Available columns in gaze_df: ['RECORDING_SESSION_LABEL', 'TRIAL_INDEX', 'time', 'pixel', 'frame_idx']\n"
     ]
    }
   ],
   "source": [
    "player.play(speed=1)  # Play at normal speed"
   ],
   "metadata": {
    "collapsed": false,
    "ExecuteTime": {
     "end_time": "2025-03-07T00:01:58.318123700Z",
     "start_time": "2025-03-07T00:01:31.925778800Z"
    }
   },
   "id": "3aee00cf0ec53a19"
  },
  {
   "cell_type": "markdown",
   "source": [
    "## Navigate Through Fixations\n",
    "Use 'n' for next fixation, 'p' for previous, 'q' to quit."
   ],
   "metadata": {
    "collapsed": false
   },
   "id": "3dcd85d32ca9377c"
  },
  {
   "cell_type": "code",
   "execution_count": 227,
   "outputs": [],
   "source": [
    "player.fixation_navigation()"
   ],
   "metadata": {
    "collapsed": false,
    "ExecuteTime": {
     "end_time": "2025-03-07T00:02:12.564703900Z",
     "start_time": "2025-03-07T00:02:01.561142800Z"
    }
   },
   "id": "52cb04263c330cfd"
  },
  {
   "cell_type": "markdown",
   "source": [
    "## Export Gaze Replay as MP4\n",
    "Save the replay with gaze overlay."
   ],
   "metadata": {
    "collapsed": false
   },
   "id": "b1f1a0f4921025"
  },
  {
   "cell_type": "code",
   "execution_count": 69,
   "outputs": [
    {
     "name": "stdout",
     "output_type": "stream",
     "text": [
      "Exporting gaze replay for a video stimulus...\n",
      "Video replay saved as gaze_replay.mp4\n"
     ]
    }
   ],
   "source": [
    "player.export_replay(\"gaze_replay\")"
   ],
   "metadata": {
    "collapsed": false,
    "ExecuteTime": {
     "end_time": "2025-03-06T22:11:17.210213800Z",
     "start_time": "2025-03-06T22:10:58.722183600Z"
    }
   },
   "id": "631bc00bc6a9d76d"
  },
  {
   "cell_type": "markdown",
   "source": [],
   "metadata": {
    "collapsed": false
   },
   "id": "6bc442766764f5e1"
  }
 ],
 "metadata": {
  "kernelspec": {
   "display_name": "Python 3",
   "language": "python",
   "name": "python3"
  },
  "language_info": {
   "codemirror_mode": {
    "name": "ipython",
    "version": 2
   },
   "file_extension": ".py",
   "mimetype": "text/x-python",
   "name": "python",
   "nbconvert_exporter": "python",
   "pygments_lexer": "ipython2",
   "version": "2.7.6"
  }
 },
 "nbformat": 4,
 "nbformat_minor": 5
}
