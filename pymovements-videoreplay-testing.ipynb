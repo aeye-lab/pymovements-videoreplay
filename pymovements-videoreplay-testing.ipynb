{
 "cells": [
  {
   "cell_type": "markdown",
   "source": [
    "## Getting Started\n",
    "Loading eye movement dataset with pymovements"
   ],
   "metadata": {
    "collapsed": false
   },
   "id": "70753008078c97ec"
  },
  {
   "cell_type": "code",
   "execution_count": 1,
   "outputs": [
    {
     "name": "stdout",
     "output_type": "stream",
     "text": [
      "Using already downloaded and verified file: data\\ToyDataset\\downloads\\pymovements-toy-dataset.zip\n",
      "Extracting pymovements-toy-dataset.zip to data\\ToyDataset\\raw\n"
     ]
    },
    {
     "data": {
      "text/plain": "  0%|          | 0/20 [00:00<?, ?it/s]",
      "application/vnd.jupyter.widget-view+json": {
       "version_major": 2,
       "version_minor": 0,
       "model_id": "387e2908e2644d4e863edb60c68081d4"
      }
     },
     "metadata": {},
     "output_type": "display_data"
    },
    {
     "data": {
      "text/plain": "<pymovements.dataset.dataset.Dataset at 0x253c63c8830>"
     },
     "execution_count": 1,
     "metadata": {},
     "output_type": "execute_result"
    }
   ],
   "source": [
    "import os\n",
    "import pymovements as pm\n",
    "\n",
    "# Ensure the data directory exists\n",
    "os.makedirs('data/ToyDataset', exist_ok=True)\n",
    "\n",
    "dataset = pm.Dataset(\n",
    "    'ToyDataset',                # choose a public dataset from our dataset library\n",
    "    path='data/ToyDataset',      # set up your local dataset path\n",
    ")\n",
    "dataset.download()               # download a public dataset from our dataset library\n",
    "dataset.load()                   # download the dataset"
   ],
   "metadata": {
    "collapsed": false,
    "ExecuteTime": {
     "end_time": "2025-02-27T10:51:09.196094300Z",
     "start_time": "2025-02-27T10:50:52.288248700Z"
    }
   },
   "id": "7b5e2bf67faf26f"
  },
  {
   "cell_type": "markdown",
   "source": [
    "Calculate velocities on the fly"
   ],
   "metadata": {
    "collapsed": false
   },
   "id": "bd1c7f330012ddf7"
  },
  {
   "cell_type": "code",
   "execution_count": 2,
   "outputs": [
    {
     "data": {
      "text/plain": "  0%|          | 0/20 [00:00<?, ?it/s]",
      "application/vnd.jupyter.widget-view+json": {
       "version_major": 2,
       "version_minor": 0,
       "model_id": "dd01979f26f1413fa76b582dcdbadc5c"
      }
     },
     "metadata": {},
     "output_type": "display_data"
    },
    {
     "data": {
      "text/plain": "  0%|          | 0/20 [00:00<?, ?it/s]",
      "application/vnd.jupyter.widget-view+json": {
       "version_major": 2,
       "version_minor": 0,
       "model_id": "f77df084dcaf474eb6e87a8af4c17169"
      }
     },
     "metadata": {},
     "output_type": "display_data"
    },
    {
     "data": {
      "text/plain": "<pymovements.dataset.dataset.Dataset at 0x253c63c8830>"
     },
     "execution_count": 2,
     "metadata": {},
     "output_type": "execute_result"
    }
   ],
   "source": [
    "dataset.pix2deg()                # transform pixel coordinates to degrees of visual angle\n",
    "dataset.pos2vel()                # transform positional data to velocity data"
   ],
   "metadata": {
    "collapsed": false,
    "ExecuteTime": {
     "end_time": "2025-02-27T10:52:02.134692700Z",
     "start_time": "2025-02-27T10:52:00.557226700Z"
    }
   },
   "id": "4df52673e6a97902"
  },
  {
   "cell_type": "markdown",
   "source": [
    "and extract events with different eye movements event extraction algorithms"
   ],
   "metadata": {
    "collapsed": false
   },
   "id": "2448599b5410d81e"
  },
  {
   "cell_type": "code",
   "execution_count": 3,
   "outputs": [
    {
     "data": {
      "text/plain": "0it [00:00, ?it/s]",
      "application/vnd.jupyter.widget-view+json": {
       "version_major": 2,
       "version_minor": 0,
       "model_id": "64e79d367e2e4f35824d821bb97dee43"
      }
     },
     "metadata": {},
     "output_type": "display_data"
    },
    {
     "data": {
      "text/plain": "0it [00:00, ?it/s]",
      "application/vnd.jupyter.widget-view+json": {
       "version_major": 2,
       "version_minor": 0,
       "model_id": "e071a12544d7496e8ac34f34e6dbf98f"
      }
     },
     "metadata": {},
     "output_type": "display_data"
    },
    {
     "data": {
      "text/plain": "<pymovements.dataset.dataset.Dataset at 0x253c63c8830>"
     },
     "execution_count": 3,
     "metadata": {},
     "output_type": "execute_result"
    }
   ],
   "source": [
    "dataset.detect('ivt')            # detect fixation using the I-VT algorithm\n",
    "dataset.detect('microsaccades')  # detect saccades using the microsaccades algorithm"
   ],
   "metadata": {
    "collapsed": false,
    "ExecuteTime": {
     "end_time": "2025-02-27T10:52:05.387058800Z",
     "start_time": "2025-02-27T10:52:04.599325800Z"
    }
   },
   "id": "1b18c7c4659e9b9a"
  },
  {
   "cell_type": "markdown",
   "source": [
    "## Upload and Select Stimulus (Video or Image)\n",
    "Upload the stimulus video or image file."
   ],
   "metadata": {
    "collapsed": false
   },
   "id": "f9eaa6d2e61fa349"
  },
  {
   "cell_type": "code",
   "execution_count": 4,
   "outputs": [
    {
     "data": {
      "text/plain": "FileChooser(path='C:\\Users\\Kirthan\\IdeaProjects\\pymovements-videoreplay', filename='', title='', show_hidden=F…",
      "application/vnd.jupyter.widget-view+json": {
       "version_major": 2,
       "version_minor": 0,
       "model_id": "648195a7ba684422a053e32687401214"
      }
     },
     "metadata": {},
     "output_type": "display_data"
    }
   ],
   "source": [
    "import shutil\n",
    "import ipyfilechooser\n",
    "import cv2\n",
    "import numpy as np\n",
    "from IPython.display import display\n",
    "\n",
    "# Step 1: Create the file chooser widget\n",
    "chooser = ipyfilechooser.FileChooser(os.getcwd())  # Opens in the current directory\n",
    "chooser.filter_pattern = ['*.mp4', '*.jpg', '*.jpeg', '*.png']  # Show video & image files\n",
    "display(chooser)\n",
    "\n",
    "# Step 2: Function to move the selected file or use the generated video\n",
    "def save_uploaded_video():\n",
    "    selected_file = chooser.selected  # Get selected file path\n",
    "\n",
    "    if selected_file is None:\n",
    "        # If no video or image is uploaded, generate a white background image\n",
    "        default_image = \"white_background.png\"\n",
    "        if not os.path.exists(default_image):\n",
    "            print(f\"No stimulus uploaded. Generating default white image: {default_image}\")\n",
    "            white_background = np.ones((480, 640, 3), dtype=np.uint8) * 255  # White 640x480 image\n",
    "            cv2.imwrite(default_image, white_background)\n",
    "\n",
    "        # Check if the generated image exists\n",
    "        if os.path.exists(default_image):\n",
    "            print(f\"Using generated white image: {default_image}\")\n",
    "            selected_file = default_image\n",
    "        else:\n",
    "            print(\"ERROR: No stimulus uploaded and failed to generate an image. Please upload an image or video.\")\n",
    "            return\n",
    "\n",
    "    # Move the selected file to 'stimulus.ext' (handle both video and image)\n",
    "    stimulus_ext = os.path.splitext(selected_file)[-1].lower()\n",
    "    stimulus_name = \"stimulus\" + stimulus_ext\n",
    "    shutil.copy(selected_file, stimulus_name)\n",
    "\n",
    "    # Verify the file exists\n",
    "    if os.path.exists(stimulus_name):\n",
    "        print(f\"Stimulus saved successfully as '{stimulus_name}'!\")\n",
    "        print(f\"File Size: {os.path.getsize(stimulus_name)} bytes\")\n",
    "    else:\n",
    "        print(\"ERROR: Stimulus file was not saved correctly!\")\n"
   ],
   "metadata": {
    "collapsed": false,
    "ExecuteTime": {
     "end_time": "2025-02-27T10:52:08.133493100Z",
     "start_time": "2025-02-27T10:52:07.909309900Z"
    }
   },
   "id": "1162337fc9170355"
  },
  {
   "cell_type": "code",
   "execution_count": 5,
   "outputs": [
    {
     "name": "stdout",
     "output_type": "stream",
     "text": [
      "No stimulus uploaded. Generating default white image: white_background.png\n",
      "Using generated white image: white_background.png\n",
      "Stimulus saved successfully as 'stimulus.png'!\n",
      "File Size: 2299 bytes\n"
     ]
    }
   ],
   "source": [
    "# Step 3: After Selecting the File, Run:\n",
    "save_uploaded_video()"
   ],
   "metadata": {
    "collapsed": false,
    "ExecuteTime": {
     "end_time": "2025-02-27T10:52:10.552336300Z",
     "start_time": "2025-02-27T10:52:10.515338500Z"
    }
   },
   "id": "a809dd6db8c32e68"
  },
  {
   "cell_type": "markdown",
   "source": [
    "## Initialize and Run VideoPlayer\n",
    "Run the VideoPlayer to visualize eye-tracking data overlay."
   ],
   "metadata": {
    "collapsed": false
   },
   "id": "10a82e6f8033e65e"
  },
  {
   "cell_type": "code",
   "execution_count": 6,
   "outputs": [
    {
     "data": {
      "text/plain": "  0%|          | 0/20 [00:00<?, ?it/s]",
      "application/vnd.jupyter.widget-view+json": {
       "version_major": 2,
       "version_minor": 0,
       "model_id": "157796e55bce4ca5ad435ca7d88add99"
      }
     },
     "metadata": {},
     "output_type": "display_data"
    },
    {
     "name": "stdout",
     "output_type": "stream",
     "text": [
      "Checking video path: C:\\Users\\Kirthan\\IdeaProjects\\pymovements-videoreplay\\stimulus.mp4\n",
      "Video loaded successfully! FPS: 30.0, Total Frames: 516\n",
      "Available columns in gaze_df: ['time', 'stimuli_x', 'stimuli_y', 'text_id', 'page_id', 'pixel']\n",
      "frame_idx added! (Now properly scaled)\n",
      "      time  normalized_time  frame_idx\n",
      "0  1988145            0.000          0\n",
      "1  1988146            0.001          0\n",
      "2  1988147            0.002          0\n",
      "3  1988148            0.003          0\n",
      "4  1988149            0.004          0\n",
      "🕒 Min Frame Index: 0\n",
      "🕒 Max Frame Index: 515\n"
     ]
    }
   ],
   "source": [
    "import sys\n",
    "import importlib\n",
    "\n",
    "# Ensure 'src' is in sys.path\n",
    "src_path = os.path.abspath(os.path.join('src'))\n",
    "if src_path not in sys.path:\n",
    "    sys.path.append(src_path)\n",
    "\n",
    "# Import the module\n",
    "import videoreplay.video_player\n",
    "\n",
    "# Reload the module (corrected)\n",
    "importlib.reload(videoreplay.video_player)\n",
    "\n",
    "# Now import the updated class\n",
    "from videoreplay.video_player import VideoPlayer\n",
    "\n",
    "# Determine stimulus file (image or video)\n",
    "stimulus_files = [f for f in os.listdir() if f.startswith(\"stimulus.\")]\n",
    "if stimulus_files:\n",
    "    stimulus_path = stimulus_files[0]\n",
    "else:\n",
    "    print(\"ERROR: No stimulus file found!\")\n",
    "\n",
    "# Initialize the VideoPlayer with the uploaded video\n",
    "player = VideoPlayer(stimulus_path=stimulus_path,\n",
    "                     dataset_path=\"data/ToyDataset\",\n",
    "                     dataset_name=\"ToyDataset\")"
   ],
   "metadata": {
    "collapsed": false,
    "ExecuteTime": {
     "end_time": "2025-02-27T10:52:18.413766400Z",
     "start_time": "2025-02-27T10:52:17.684170100Z"
    }
   },
   "id": "7c39103f12e1f3a6"
  },
  {
   "cell_type": "markdown",
   "source": [
    "## Play Video with Gaze Overlay"
   ],
   "metadata": {
    "collapsed": false
   },
   "id": "e9052d0fc6291892"
  },
  {
   "cell_type": "code",
   "execution_count": 7,
   "outputs": [
    {
     "name": "stdout",
     "output_type": "stream",
     "text": [
      "Available columns in gaze_df: ['time', 'stimuli_x', 'stimuli_y', 'text_id', 'page_id', 'pixel', 'normalized_time', 'frame_idx']\n",
      "Frame 1 | Gaze: X=207, Y=151\n",
      "Frame 2 | Gaze: X=207, Y=150\n",
      "Frame 3 | Gaze: X=207, Y=150\n",
      "Frame 4 | Gaze: X=207, Y=152\n",
      "Frame 5 | Gaze: X=206, Y=153\n",
      "Frame 6 | Gaze: X=160, Y=148\n",
      "Frame 7 | Gaze: X=167, Y=149\n",
      "Frame 8 | Gaze: X=167, Y=147\n",
      "Frame 9 | Gaze: X=167, Y=146\n",
      "Frame 10 | Gaze: X=167, Y=144\n",
      "Frame 11 | Gaze: X=166, Y=148\n",
      "Frame 12 | Gaze: X=166, Y=147\n",
      "Frame 13 | Gaze: X=248, Y=153\n",
      "Frame 14 | Gaze: X=251, Y=154\n",
      "Frame 15 | Gaze: X=251, Y=151\n",
      "Frame 16 | Gaze: X=252, Y=154\n",
      "Frame 17 | Gaze: X=252, Y=150\n",
      "Frame 18 | Gaze: X=301, Y=156\n",
      "Frame 19 | Gaze: X=362, Y=156\n",
      "Frame 20 | Gaze: X=374, Y=155\n",
      "Frame 21 | Gaze: X=375, Y=154\n",
      "Frame 22 | Gaze: X=375, Y=157\n",
      "Frame 23 | Gaze: X=375, Y=156\n",
      "Frame 24 | Gaze: X=377, Y=158\n",
      "Frame 25 | Gaze: X=375, Y=158\n",
      "Frame 26 | Gaze: X=375, Y=157\n",
      "Frame 27 | Gaze: X=440, Y=154\n",
      "Frame 28 | Gaze: X=445, Y=154\n",
      "Frame 29 | Gaze: X=447, Y=153\n",
      "Frame 30 | Gaze: X=449, Y=153\n",
      "Frame 31 | Gaze: X=469, Y=156\n",
      "Frame 32 | Gaze: X=508, Y=157\n",
      "Frame 33 | Gaze: X=513, Y=158\n",
      "Frame 34 | Gaze: X=513, Y=157\n",
      "Frame 35 | Gaze: X=513, Y=155\n",
      "Frame 36 | Gaze: X=514, Y=157\n",
      "Frame 37 | Gaze: X=514, Y=155\n",
      "Frame 38 | Gaze: X=515, Y=160\n",
      "Frame 39 | Gaze: X=589, Y=159\n",
      "Frame 40 | Gaze: X=579, Y=160\n",
      "Frame 41 | Gaze: X=580, Y=160\n",
      "Frame 42 | Gaze: X=583, Y=159\n",
      "Frame 43 | Gaze: X=583, Y=158\n",
      "Frame 44 | Gaze: X=721, Y=162\n",
      "Frame 45 | Gaze: X=707, Y=161\n",
      "Frame 46 | Gaze: X=707, Y=162\n",
      "Frame 47 | Gaze: X=707, Y=163\n",
      "Frame 48 | Gaze: X=708, Y=164\n",
      "Frame 49 | Gaze: X=708, Y=165\n",
      "Frame 50 | Gaze: X=708, Y=163\n",
      "Frame 51 | Gaze: X=707, Y=162\n",
      "Frame 52 | Gaze: X=708, Y=161\n",
      "Frame 53 | Gaze: X=791, Y=161\n",
      "Frame 54 | Gaze: X=784, Y=161\n",
      "Frame 55 | Gaze: X=788, Y=163\n",
      "Frame 56 | Gaze: X=788, Y=163\n",
      "Frame 57 | Gaze: X=788, Y=164\n",
      "Frame 58 | Gaze: X=848, Y=165\n",
      "Frame 59 | Gaze: X=844, Y=165\n",
      "Frame 60 | Gaze: X=845, Y=166\n",
      "Frame 61 | Gaze: X=845, Y=167\n",
      "Frame 62 | Gaze: X=845, Y=166\n",
      "Frame 63 | Gaze: X=846, Y=167\n",
      "Frame 64 | Gaze: X=849, Y=166\n",
      "Frame 65 | Gaze: X=888, Y=168\n",
      "Frame 66 | Gaze: X=969, Y=160\n",
      "Frame 67 | Gaze: X=978, Y=161\n",
      "Frame 68 | Gaze: X=977, Y=162\n",
      "Frame 69 | Gaze: X=978, Y=164\n",
      "Frame 70 | Gaze: X=979, Y=164\n",
      "Frame 71 | Gaze: X=979, Y=164\n",
      "Frame 72 | Gaze: X=979, Y=163\n",
      "Frame 73 | Gaze: X=977, Y=163\n",
      "Frame 74 | Gaze: X=977, Y=163\n",
      "Frame 75 | Gaze: X=978, Y=163\n",
      "Frame 76 | Gaze: X=661, Y=178\n",
      "Frame 77 | Gaze: X=245, Y=215\n",
      "Frame 78 | Gaze: X=189, Y=205\n",
      "Frame 79 | Gaze: X=183, Y=208\n",
      "Frame 80 | Gaze: X=182, Y=208\n",
      "Frame 81 | Gaze: X=180, Y=207\n",
      "Frame 82 | Gaze: X=179, Y=208\n",
      "Frame 83 | Gaze: X=179, Y=208\n",
      "Frame 84 | Gaze: X=141, Y=212\n",
      "Frame 85 | Gaze: X=151, Y=210\n",
      "Frame 86 | Gaze: X=151, Y=214\n",
      "Frame 87 | Gaze: X=150, Y=211\n",
      "Frame 88 | Gaze: X=148, Y=211\n",
      "Frame 89 | Gaze: X=150, Y=208\n",
      "Frame 90 | Gaze: X=160, Y=208\n",
      "Frame 91 | Gaze: X=229, Y=211\n",
      "Frame 92 | Gaze: X=239, Y=210\n",
      "Frame 93 | Gaze: X=240, Y=212\n",
      "Frame 94 | Gaze: X=240, Y=212\n",
      "Frame 95 | Gaze: X=239, Y=211\n",
      "Frame 96 | Gaze: X=302, Y=214\n",
      "Frame 97 | Gaze: X=301, Y=216\n",
      "Frame 98 | Gaze: X=303, Y=216\n",
      "Frame 99 | Gaze: X=303, Y=217\n",
      "Frame 100 | Gaze: X=303, Y=216\n",
      "Frame 101 | Gaze: X=390, Y=217\n",
      "Frame 102 | Gaze: X=372, Y=218\n",
      "Frame 103 | Gaze: X=374, Y=219\n",
      "Frame 104 | Gaze: X=375, Y=219\n",
      "Frame 105 | Gaze: X=375, Y=219\n",
      "Frame 106 | Gaze: X=376, Y=219\n",
      "Frame 107 | Gaze: X=376, Y=217\n",
      "Frame 108 | Gaze: X=428, Y=215\n",
      "Frame 109 | Gaze: X=428, Y=216\n",
      "Frame 110 | Gaze: X=427, Y=219\n",
      "Frame 111 | Gaze: X=427, Y=216\n",
      "Frame 112 | Gaze: X=427, Y=218\n",
      "Frame 113 | Gaze: X=533, Y=217\n",
      "Frame 114 | Gaze: X=589, Y=210\n",
      "Frame 115 | Gaze: X=598, Y=211\n",
      "Frame 116 | Gaze: X=598, Y=213\n",
      "Frame 117 | Gaze: X=599, Y=213\n",
      "Frame 118 | Gaze: X=600, Y=213\n",
      "Frame 119 | Gaze: X=600, Y=214\n",
      "Frame 120 | Gaze: X=601, Y=215\n",
      "Frame 121 | Gaze: X=600, Y=213\n",
      "Frame 122 | Gaze: X=600, Y=213\n",
      "Frame 123 | Gaze: X=698, Y=217\n",
      "Frame 124 | Gaze: X=716, Y=216\n",
      "Frame 125 | Gaze: X=725, Y=220\n",
      "Frame 126 | Gaze: X=725, Y=222\n",
      "Frame 127 | Gaze: X=725, Y=223\n",
      "Frame 128 | Gaze: X=726, Y=223\n",
      "Frame 129 | Gaze: X=726, Y=223\n",
      "Frame 130 | Gaze: X=727, Y=222\n",
      "Frame 131 | Gaze: X=726, Y=221\n",
      "Frame 132 | Gaze: X=727, Y=222\n",
      "Frame 133 | Gaze: X=766, Y=224\n",
      "Frame 134 | Gaze: X=787, Y=220\n",
      "Frame 135 | Gaze: X=791, Y=223\n",
      "Frame 136 | Gaze: X=790, Y=222\n",
      "Frame 137 | Gaze: X=792, Y=219\n",
      "Frame 138 | Gaze: X=792, Y=219\n",
      "Frame 139 | Gaze: X=858, Y=219\n",
      "Frame 140 | Gaze: X=848, Y=218\n",
      "Frame 141 | Gaze: X=848, Y=221\n",
      "Frame 142 | Gaze: X=849, Y=222\n",
      "Frame 143 | Gaze: X=848, Y=222\n",
      "Frame 144 | Gaze: X=848, Y=221\n",
      "Frame 145 | Gaze: X=892, Y=222\n",
      "Frame 146 | Gaze: X=926, Y=220\n",
      "Frame 147 | Gaze: X=930, Y=222\n",
      "Frame 148 | Gaze: X=931, Y=221\n",
      "Frame 149 | Gaze: X=932, Y=220\n",
      "Frame 150 | Gaze: X=933, Y=222\n",
      "Frame 151 | Gaze: X=932, Y=221\n",
      "Frame 152 | Gaze: X=933, Y=221\n",
      "Frame 153 | Gaze: X=961, Y=226\n",
      "Frame 154 | Gaze: X=1015, Y=221\n",
      "Frame 155 | Gaze: X=1024, Y=222\n",
      "Frame 156 | Gaze: X=1024, Y=222\n",
      "Frame 157 | Gaze: X=1025, Y=222\n",
      "Frame 158 | Gaze: X=1024, Y=218\n",
      "Frame 159 | Gaze: X=1025, Y=221\n",
      "Frame 160 | Gaze: X=1024, Y=221\n",
      "Frame 161 | Gaze: X=1021, Y=223\n",
      "Frame 162 | Gaze: X=610, Y=258\n",
      "Frame 163 | Gaze: X=220, Y=268\n",
      "Frame 164 | Gaze: X=201, Y=264\n",
      "Frame 165 | Gaze: X=200, Y=265\n",
      "Frame 166 | Gaze: X=199, Y=263\n",
      "Frame 167 | Gaze: X=199, Y=265\n",
      "Frame 168 | Gaze: X=163, Y=265\n",
      "Frame 169 | Gaze: X=158, Y=267\n",
      "Frame 170 | Gaze: X=158, Y=268\n",
      "Frame 171 | Gaze: X=157, Y=269\n",
      "Frame 172 | Gaze: X=157, Y=268\n",
      "Frame 173 | Gaze: X=157, Y=268\n",
      "Frame 174 | Gaze: X=158, Y=268\n",
      "Frame 175 | Gaze: X=235, Y=269\n",
      "Frame 176 | Gaze: X=241, Y=271\n",
      "Frame 177 | Gaze: X=240, Y=271\n",
      "Frame 178 | Gaze: X=241, Y=271\n",
      "Frame 179 | Gaze: X=241, Y=271\n",
      "Frame 180 | Gaze: X=241, Y=272\n",
      "Frame 181 | Gaze: X=242, Y=272\n",
      "Frame 182 | Gaze: X=315, Y=271\n",
      "Frame 183 | Gaze: X=298, Y=272\n",
      "Frame 184 | Gaze: X=298, Y=272\n",
      "Frame 185 | Gaze: X=294, Y=274\n",
      "Frame 186 | Gaze: X=296, Y=272\n",
      "Frame 187 | Gaze: X=297, Y=275\n",
      "Frame 188 | Gaze: X=447, Y=280\n",
      "Frame 189 | Gaze: X=434, Y=280\n",
      "Frame 190 | Gaze: X=434, Y=283\n",
      "Frame 191 | Gaze: X=436, Y=285\n",
      "Frame 192 | Gaze: X=436, Y=287\n",
      "Frame 193 | Gaze: X=436, Y=287\n",
      "Frame 194 | Gaze: X=436, Y=287\n",
      "Frame 195 | Gaze: X=437, Y=289\n",
      "Frame 196 | Gaze: X=436, Y=289\n",
      "Frame 197 | Gaze: X=437, Y=289\n",
      "Frame 198 | Gaze: X=522, Y=289\n",
      "Frame 199 | Gaze: X=519, Y=289\n",
      "Frame 200 | Gaze: X=521, Y=286\n",
      "Frame 201 | Gaze: X=523, Y=287\n",
      "Frame 202 | Gaze: X=523, Y=284\n",
      "Frame 203 | Gaze: X=585, Y=284\n",
      "Frame 204 | Gaze: X=598, Y=283\n",
      "Frame 205 | Gaze: X=607, Y=286\n",
      "Frame 206 | Gaze: X=607, Y=285\n",
      "Frame 207 | Gaze: X=607, Y=286\n",
      "Frame 208 | Gaze: X=606, Y=285\n",
      "Frame 209 | Gaze: X=610, Y=283\n",
      "Frame 210 | Gaze: X=679, Y=286\n",
      "Frame 211 | Gaze: X=688, Y=284\n",
      "Frame 212 | Gaze: X=687, Y=286\n",
      "Frame 213 | Gaze: X=689, Y=284\n",
      "Frame 214 | Gaze: X=689, Y=281\n",
      "Frame 215 | Gaze: X=689, Y=284\n",
      "Frame 216 | Gaze: X=778, Y=285\n",
      "Frame 217 | Gaze: X=768, Y=288\n",
      "Frame 218 | Gaze: X=770, Y=288\n",
      "Frame 219 | Gaze: X=771, Y=291\n",
      "Frame 220 | Gaze: X=771, Y=289\n",
      "Frame 221 | Gaze: X=770, Y=288\n",
      "Frame 222 | Gaze: X=822, Y=288\n",
      "Frame 223 | Gaze: X=823, Y=282\n",
      "Frame 224 | Gaze: X=825, Y=286\n",
      "Frame 225 | Gaze: X=825, Y=286\n",
      "Frame 226 | Gaze: X=825, Y=287\n",
      "Frame 227 | Gaze: X=827, Y=288\n",
      "Frame 228 | Gaze: X=827, Y=288\n",
      "Frame 229 | Gaze: X=826, Y=289\n",
      "Frame 230 | Gaze: X=845, Y=286\n",
      "Frame 231 | Gaze: X=874, Y=282\n",
      "Frame 232 | Gaze: X=879, Y=283\n",
      "Frame 233 | Gaze: X=881, Y=282\n",
      "Frame 234 | Gaze: X=882, Y=282\n",
      "Frame 235 | Gaze: X=882, Y=284\n",
      "Frame 236 | Gaze: X=946, Y=279\n",
      "Frame 237 | Gaze: X=940, Y=279\n",
      "Frame 238 | Gaze: X=938, Y=281\n",
      "Frame 239 | Gaze: X=938, Y=281\n",
      "Frame 240 | Gaze: X=938, Y=281\n",
      "Frame 241 | Gaze: X=937, Y=284\n",
      "Frame 242 | Gaze: X=1006, Y=281\n",
      "Frame 243 | Gaze: X=1019, Y=278\n",
      "Frame 244 | Gaze: X=1022, Y=278\n",
      "Frame 245 | Gaze: X=1021, Y=278\n",
      "Frame 246 | Gaze: X=1023, Y=277\n",
      "Frame 247 | Gaze: X=1022, Y=277\n",
      "Frame 248 | Gaze: X=1023, Y=277\n",
      "Frame 249 | Gaze: X=627, Y=314\n",
      "Frame 250 | Gaze: X=207, Y=329\n",
      "Frame 251 | Gaze: X=163, Y=321\n",
      "Frame 252 | Gaze: X=160, Y=322\n",
      "Frame 253 | Gaze: X=158, Y=321\n",
      "Frame 254 | Gaze: X=158, Y=323\n",
      "Frame 255 | Gaze: X=157, Y=324\n",
      "Frame 256 | Gaze: X=157, Y=324\n",
      "Frame 257 | Gaze: X=154, Y=325\n",
      "Frame 258 | Gaze: X=154, Y=322\n",
      "Frame 259 | Gaze: X=228, Y=332\n",
      "Frame 260 | Gaze: X=219, Y=333\n",
      "Frame 261 | Gaze: X=222, Y=337\n",
      "Frame 262 | Gaze: X=224, Y=338\n",
      "Frame 263 | Gaze: X=224, Y=337\n",
      "Frame 264 | Gaze: X=225, Y=338\n",
      "Frame 265 | Gaze: X=224, Y=338\n",
      "Frame 266 | Gaze: X=222, Y=338\n",
      "Frame 267 | Gaze: X=272, Y=345\n",
      "Frame 268 | Gaze: X=275, Y=346\n",
      "Frame 269 | Gaze: X=275, Y=345\n",
      "Frame 270 | Gaze: X=275, Y=343\n",
      "Frame 271 | Gaze: X=276, Y=344\n",
      "Frame 272 | Gaze: X=386, Y=348\n",
      "Frame 273 | Gaze: X=368, Y=350\n",
      "Frame 274 | Gaze: X=369, Y=349\n",
      "Frame 275 | Gaze: X=368, Y=348\n",
      "Frame 276 | Gaze: X=369, Y=349\n",
      "Frame 277 | Gaze: X=367, Y=349\n",
      "Frame 278 | Gaze: X=369, Y=350\n",
      "Frame 279 | Gaze: X=395, Y=355\n",
      "Frame 280 | Gaze: X=451, Y=357\n",
      "Frame 281 | Gaze: X=460, Y=358\n",
      "Frame 282 | Gaze: X=461, Y=356\n",
      "Frame 283 | Gaze: X=460, Y=360\n",
      "Frame 284 | Gaze: X=460, Y=361\n",
      "Frame 285 | Gaze: X=459, Y=360\n",
      "Frame 286 | Gaze: X=436, Y=359\n",
      "Frame 287 | Gaze: X=434, Y=359\n",
      "Frame 288 | Gaze: X=432, Y=358\n",
      "Frame 289 | Gaze: X=431, Y=354\n",
      "Frame 290 | Gaze: X=431, Y=357\n",
      "Frame 291 | Gaze: X=431, Y=356\n",
      "Frame 292 | Gaze: X=431, Y=357\n",
      "Frame 293 | Gaze: X=451, Y=363\n",
      "Frame 294 | Gaze: X=511, Y=355\n",
      "Frame 295 | Gaze: X=519, Y=355\n",
      "Frame 296 | Gaze: X=522, Y=354\n",
      "Frame 297 | Gaze: X=520, Y=356\n",
      "Frame 298 | Gaze: X=521, Y=356\n",
      "Frame 299 | Gaze: X=521, Y=358\n",
      "Frame 300 | Gaze: X=521, Y=355\n",
      "Frame 301 | Gaze: X=522, Y=356\n",
      "Frame 302 | Gaze: X=522, Y=358\n",
      "Frame 303 | Gaze: X=524, Y=358\n",
      "Frame 304 | Gaze: X=470, Y=358\n",
      "Frame 305 | Gaze: X=477, Y=354\n",
      "Frame 306 | Gaze: X=477, Y=358\n",
      "Frame 307 | Gaze: X=475, Y=357\n",
      "Frame 308 | Gaze: X=475, Y=358\n",
      "Frame 309 | Gaze: X=478, Y=359\n",
      "Frame 310 | Gaze: X=477, Y=359\n",
      "Frame 311 | Gaze: X=475, Y=354\n",
      "Frame 312 | Gaze: X=571, Y=360\n",
      "Frame 313 | Gaze: X=578, Y=363\n",
      "Frame 314 | Gaze: X=577, Y=363\n",
      "Frame 315 | Gaze: X=579, Y=363\n",
      "Frame 316 | Gaze: X=578, Y=365\n",
      "Frame 317 | Gaze: X=577, Y=364\n",
      "Frame 318 | Gaze: X=577, Y=364\n",
      "Frame 319 | Gaze: X=577, Y=365\n",
      "Frame 320 | Gaze: X=716, Y=358\n",
      "Frame 321 | Gaze: X=700, Y=360\n",
      "Frame 322 | Gaze: X=702, Y=362\n",
      "Frame 323 | Gaze: X=702, Y=361\n",
      "Frame 324 | Gaze: X=703, Y=361\n",
      "Frame 325 | Gaze: X=705, Y=360\n",
      "Frame 326 | Gaze: X=704, Y=359\n",
      "Frame 327 | Gaze: X=704, Y=360\n",
      "Frame 328 | Gaze: X=741, Y=357\n",
      "Frame 329 | Gaze: X=821, Y=356\n",
      "Frame 330 | Gaze: X=832, Y=355\n",
      "Frame 331 | Gaze: X=830, Y=357\n",
      "Frame 332 | Gaze: X=829, Y=356\n",
      "Frame 333 | Gaze: X=830, Y=356\n",
      "Frame 334 | Gaze: X=830, Y=358\n",
      "Frame 335 | Gaze: X=830, Y=352\n",
      "Frame 336 | Gaze: X=831, Y=353\n",
      "Frame 337 | Gaze: X=832, Y=349\n",
      "Frame 338 | Gaze: X=958, Y=347\n",
      "Frame 339 | Gaze: X=951, Y=352\n",
      "Frame 340 | Gaze: X=951, Y=353\n",
      "Frame 341 | Gaze: X=953, Y=351\n",
      "Frame 342 | Gaze: X=954, Y=351\n",
      "Frame 343 | Gaze: X=953, Y=352\n",
      "Frame 344 | Gaze: X=952, Y=349\n",
      "Frame 345 | Gaze: X=1019, Y=340\n",
      "Frame 346 | Gaze: X=1010, Y=341\n",
      "Frame 347 | Gaze: X=1009, Y=343\n",
      "Frame 348 | Gaze: X=1010, Y=341\n",
      "Frame 349 | Gaze: X=1009, Y=342\n",
      "Frame 350 | Gaze: X=1011, Y=342\n",
      "Frame 351 | Gaze: X=716, Y=395\n",
      "Frame 352 | Gaze: X=278, Y=414\n",
      "Frame 353 | Gaze: X=178, Y=413\n",
      "Frame 354 | Gaze: X=155, Y=410\n",
      "Frame 355 | Gaze: X=159, Y=413\n",
      "Frame 356 | Gaze: X=161, Y=414\n",
      "Frame 357 | Gaze: X=158, Y=412\n",
      "Frame 358 | Gaze: X=158, Y=416\n",
      "Frame 359 | Gaze: X=178, Y=414\n",
      "Frame 360 | Gaze: X=184, Y=410\n",
      "Frame 361 | Gaze: X=185, Y=408\n",
      "Frame 362 | Gaze: X=184, Y=409\n",
      "Frame 363 | Gaze: X=184, Y=409\n",
      "Frame 364 | Gaze: X=271, Y=414\n",
      "Frame 365 | Gaze: X=271, Y=417\n",
      "Frame 366 | Gaze: X=271, Y=418\n",
      "Frame 367 | Gaze: X=273, Y=416\n",
      "Frame 368 | Gaze: X=273, Y=416\n",
      "Frame 369 | Gaze: X=272, Y=415\n",
      "Frame 370 | Gaze: X=404, Y=411\n",
      "Frame 371 | Gaze: X=386, Y=417\n",
      "Frame 372 | Gaze: X=388, Y=417\n",
      "Frame 373 | Gaze: X=388, Y=415\n",
      "Frame 374 | Gaze: X=389, Y=417\n",
      "Frame 375 | Gaze: X=394, Y=418\n",
      "Frame 376 | Gaze: X=440, Y=417\n",
      "Frame 377 | Gaze: X=445, Y=418\n",
      "Frame 378 | Gaze: X=446, Y=417\n",
      "Frame 379 | Gaze: X=446, Y=422\n",
      "Frame 380 | Gaze: X=448, Y=419\n",
      "Frame 381 | Gaze: X=447, Y=419\n",
      "Frame 382 | Gaze: X=446, Y=420\n",
      "Frame 383 | Gaze: X=535, Y=421\n",
      "Frame 384 | Gaze: X=524, Y=421\n",
      "Frame 385 | Gaze: X=526, Y=421\n",
      "Frame 386 | Gaze: X=527, Y=421\n",
      "Frame 387 | Gaze: X=526, Y=423\n",
      "Frame 388 | Gaze: X=526, Y=425\n",
      "Frame 389 | Gaze: X=526, Y=425\n",
      "Frame 390 | Gaze: X=526, Y=424\n",
      "Frame 391 | Gaze: X=544, Y=423\n",
      "Frame 392 | Gaze: X=606, Y=420\n",
      "Frame 393 | Gaze: X=611, Y=424\n",
      "Frame 394 | Gaze: X=611, Y=425\n",
      "Frame 395 | Gaze: X=612, Y=426\n",
      "Frame 396 | Gaze: X=613, Y=426\n",
      "Frame 397 | Gaze: X=613, Y=426\n",
      "Frame 398 | Gaze: X=613, Y=426\n",
      "Frame 399 | Gaze: X=613, Y=426\n",
      "Frame 400 | Gaze: X=729, Y=418\n",
      "Frame 401 | Gaze: X=705, Y=419\n",
      "Frame 402 | Gaze: X=708, Y=423\n",
      "Frame 403 | Gaze: X=708, Y=422\n",
      "Frame 404 | Gaze: X=709, Y=425\n",
      "Frame 405 | Gaze: X=710, Y=422\n",
      "Frame 406 | Gaze: X=710, Y=425\n",
      "Frame 407 | Gaze: X=709, Y=424\n",
      "Frame 408 | Gaze: X=767, Y=422\n",
      "Frame 409 | Gaze: X=772, Y=422\n",
      "Frame 410 | Gaze: X=772, Y=424\n",
      "Frame 411 | Gaze: X=774, Y=423\n",
      "Frame 412 | Gaze: X=776, Y=422\n",
      "Frame 413 | Gaze: X=776, Y=423\n",
      "Frame 414 | Gaze: X=855, Y=421\n",
      "Frame 415 | Gaze: X=854, Y=421\n",
      "Frame 416 | Gaze: X=857, Y=422\n",
      "Frame 417 | Gaze: X=856, Y=422\n",
      "Frame 418 | Gaze: X=856, Y=423\n",
      "Frame 419 | Gaze: X=858, Y=422\n",
      "Frame 420 | Gaze: X=945, Y=412\n",
      "Frame 421 | Gaze: X=934, Y=418\n",
      "Frame 422 | Gaze: X=935, Y=419\n",
      "Frame 423 | Gaze: X=936, Y=418\n",
      "Frame 424 | Gaze: X=938, Y=418\n",
      "Frame 425 | Gaze: X=941, Y=414\n",
      "Frame 426 | Gaze: X=939, Y=416\n",
      "Frame 427 | Gaze: X=940, Y=416\n",
      "Frame 428 | Gaze: X=941, Y=418\n",
      "Frame 429 | Gaze: X=942, Y=421\n",
      "Frame 430 | Gaze: X=1038, Y=402\n",
      "Frame 431 | Gaze: X=1034, Y=407\n",
      "Frame 432 | Gaze: X=1033, Y=410\n",
      "Frame 433 | Gaze: X=1034, Y=411\n",
      "Frame 434 | Gaze: X=978, Y=419\n",
      "Frame 435 | Gaze: X=494, Y=479\n",
      "Frame 436 | Gaze: X=133, Y=497\n",
      "Frame 437 | Gaze: X=133, Y=489\n",
      "Frame 438 | Gaze: X=137, Y=491\n",
      "Frame 439 | Gaze: X=134, Y=492\n",
      "Frame 440 | Gaze: X=130, Y=489\n",
      "Frame 441 | Gaze: X=182, Y=479\n",
      "Frame 442 | Gaze: X=160, Y=481\n",
      "Frame 443 | Gaze: X=162, Y=484\n",
      "Frame 444 | Gaze: X=162, Y=483\n",
      "Frame 445 | Gaze: X=162, Y=482\n",
      "Frame 446 | Gaze: X=190, Y=484\n",
      "Frame 447 | Gaze: X=210, Y=484\n",
      "Frame 448 | Gaze: X=213, Y=483\n",
      "Frame 449 | Gaze: X=210, Y=483\n",
      "Frame 450 | Gaze: X=209, Y=483\n",
      "Frame 451 | Gaze: X=210, Y=481\n",
      "Frame 452 | Gaze: X=212, Y=484\n",
      "Frame 453 | Gaze: X=213, Y=483\n",
      "Frame 454 | Gaze: X=210, Y=483\n",
      "Frame 455 | Gaze: X=210, Y=482\n",
      "Frame 456 | Gaze: X=210, Y=483\n",
      "Frame 457 | Gaze: X=210, Y=483\n",
      "Frame 458 | Gaze: X=212, Y=483\n",
      "Frame 459 | Gaze: X=298, Y=482\n",
      "Frame 460 | Gaze: X=282, Y=485\n",
      "Frame 461 | Gaze: X=285, Y=486\n",
      "Frame 462 | Gaze: X=285, Y=485\n",
      "Frame 463 | Gaze: X=285, Y=485\n",
      "Frame 464 | Gaze: X=285, Y=485\n",
      "Frame 465 | Gaze: X=284, Y=487\n",
      "Frame 466 | Gaze: X=444, Y=474\n",
      "Frame 467 | Gaze: X=416, Y=481\n",
      "Frame 468 | Gaze: X=422, Y=484\n",
      "Frame 469 | Gaze: X=422, Y=484\n",
      "Frame 470 | Gaze: X=422, Y=482\n",
      "Frame 471 | Gaze: X=422, Y=484\n",
      "Frame 472 | Gaze: X=422, Y=485\n",
      "Frame 473 | Gaze: X=422, Y=484\n",
      "Frame 474 | Gaze: X=517, Y=480\n",
      "Frame 475 | Gaze: X=508, Y=479\n",
      "Frame 476 | Gaze: X=510, Y=480\n",
      "Frame 477 | Gaze: X=509, Y=482\n",
      "Frame 478 | Gaze: X=515, Y=482\n",
      "Frame 479 | Gaze: X=600, Y=486\n",
      "Frame 480 | Gaze: X=609, Y=488\n",
      "Frame 481 | Gaze: X=611, Y=487\n",
      "Frame 482 | Gaze: X=611, Y=485\n",
      "Frame 483 | Gaze: X=611, Y=485\n",
      "Frame 484 | Gaze: X=611, Y=483\n",
      "Frame 485 | Gaze: X=610, Y=478\n",
      "Frame 486 | Gaze: X=611, Y=483\n",
      "Frame 487 | Gaze: X=716, Y=486\n",
      "Frame 488 | Gaze: X=713, Y=486\n",
      "Frame 489 | Gaze: X=716, Y=485\n",
      "Frame 490 | Gaze: X=718, Y=486\n",
      "Frame 491 | Gaze: X=718, Y=486\n",
      "Frame 492 | Gaze: X=718, Y=484\n",
      "Frame 493 | Gaze: X=718, Y=486\n",
      "Frame 494 | Gaze: X=718, Y=487\n",
      "Frame 495 | Gaze: X=718, Y=486\n",
      "Frame 496 | Gaze: X=719, Y=487\n",
      "Frame 497 | Gaze: X=786, Y=482\n",
      "Frame 498 | Gaze: X=782, Y=484\n",
      "Frame 499 | Gaze: X=785, Y=483\n",
      "Frame 500 | Gaze: X=788, Y=474\n",
      "Frame 501 | Gaze: X=787, Y=481\n",
      "Frame 502 | Gaze: X=787, Y=482\n",
      "Frame 503 | Gaze: X=900, Y=479\n",
      "Frame 504 | Gaze: X=898, Y=476\n",
      "Frame 505 | Gaze: X=897, Y=482\n",
      "Frame 506 | Gaze: X=899, Y=474\n",
      "Frame 507 | Gaze: X=895, Y=483\n",
      "Frame 508 | Gaze: X=895, Y=483\n",
      "Frame 509 | Gaze: X=897, Y=483\n",
      "Frame 510 | Gaze: X=931, Y=483\n",
      "Frame 511 | Gaze: X=935, Y=482\n",
      "Frame 512 | Gaze: X=935, Y=481\n",
      "Frame 513 | Gaze: X=934, Y=479\n",
      "Frame 514 | Gaze: X=932, Y=482\n",
      "Frame 515 | Gaze: X=661, Y=459\n"
     ]
    }
   ],
   "source": [
    "player.play(speed=1.0)  # Play at normal speed"
   ],
   "metadata": {
    "collapsed": false,
    "ExecuteTime": {
     "end_time": "2025-02-27T10:52:49.129038700Z",
     "start_time": "2025-02-27T10:52:23.488243200Z"
    }
   },
   "id": "3aee00cf0ec53a19"
  },
  {
   "cell_type": "markdown",
   "source": [
    "## Navigate Through Fixations\n",
    "Use 'n' for next fixation, 'p' for previous, 'q' to quit."
   ],
   "metadata": {
    "collapsed": false
   },
   "id": "3dcd85d32ca9377c"
  },
  {
   "cell_type": "code",
   "execution_count": 19,
   "outputs": [
    {
     "ename": "IndexError",
     "evalue": "single positional indexer is out-of-bounds",
     "output_type": "error",
     "traceback": [
      "\u001B[1;31m---------------------------------------------------------------------------\u001B[0m",
      "\u001B[1;31mIndexError\u001B[0m                                Traceback (most recent call last)",
      "Cell \u001B[1;32mIn[19], line 1\u001B[0m\n\u001B[1;32m----> 1\u001B[0m \u001B[43mplayer\u001B[49m\u001B[38;5;241;43m.\u001B[39;49m\u001B[43mfixation_navigation\u001B[49m\u001B[43m(\u001B[49m\u001B[43m)\u001B[49m\n",
      "File \u001B[1;32m~\\IdeaProjects\\pymovements-videoreplay\\src\\videoreplay\\video_player.py:113\u001B[0m, in \u001B[0;36mVideoPlayer.fixation_navigation\u001B[1;34m(self)\u001B[0m\n\u001B[0;32m    110\u001B[0m idx \u001B[38;5;241m=\u001B[39m \u001B[38;5;241m0\u001B[39m\n\u001B[0;32m    112\u001B[0m \u001B[38;5;28;01mwhile\u001B[39;00m \u001B[38;5;28;01mTrue\u001B[39;00m:\n\u001B[1;32m--> 113\u001B[0m     capture\u001B[38;5;241m.\u001B[39mset(cv2\u001B[38;5;241m.\u001B[39mCAP_PROP_POS_FRAMES, \u001B[43mfixations\u001B[49m\u001B[38;5;241;43m.\u001B[39;49m\u001B[43miloc\u001B[49m\u001B[43m[\u001B[49m\u001B[43midx\u001B[49m\u001B[43m]\u001B[49m[\u001B[38;5;124m'\u001B[39m\u001B[38;5;124mframe_idx\u001B[39m\u001B[38;5;124m'\u001B[39m])\n\u001B[0;32m    114\u001B[0m     frame_read_successful, video_frame \u001B[38;5;241m=\u001B[39m capture\u001B[38;5;241m.\u001B[39mread()\n\u001B[0;32m    115\u001B[0m     \u001B[38;5;28;01mif\u001B[39;00m \u001B[38;5;129;01mnot\u001B[39;00m frame_read_successful:\n",
      "File \u001B[1;32m~\\IdeaProjects\\pymovements-videoreplay\\venv\\Lib\\site-packages\\pandas\\core\\indexing.py:1191\u001B[0m, in \u001B[0;36m_LocationIndexer.__getitem__\u001B[1;34m(self, key)\u001B[0m\n\u001B[0;32m   1189\u001B[0m maybe_callable \u001B[38;5;241m=\u001B[39m com\u001B[38;5;241m.\u001B[39mapply_if_callable(key, \u001B[38;5;28mself\u001B[39m\u001B[38;5;241m.\u001B[39mobj)\n\u001B[0;32m   1190\u001B[0m maybe_callable \u001B[38;5;241m=\u001B[39m \u001B[38;5;28mself\u001B[39m\u001B[38;5;241m.\u001B[39m_check_deprecated_callable_usage(key, maybe_callable)\n\u001B[1;32m-> 1191\u001B[0m \u001B[38;5;28;01mreturn\u001B[39;00m \u001B[38;5;28;43mself\u001B[39;49m\u001B[38;5;241;43m.\u001B[39;49m\u001B[43m_getitem_axis\u001B[49m\u001B[43m(\u001B[49m\u001B[43mmaybe_callable\u001B[49m\u001B[43m,\u001B[49m\u001B[43m \u001B[49m\u001B[43maxis\u001B[49m\u001B[38;5;241;43m=\u001B[39;49m\u001B[43maxis\u001B[49m\u001B[43m)\u001B[49m\n",
      "File \u001B[1;32m~\\IdeaProjects\\pymovements-videoreplay\\venv\\Lib\\site-packages\\pandas\\core\\indexing.py:1752\u001B[0m, in \u001B[0;36m_iLocIndexer._getitem_axis\u001B[1;34m(self, key, axis)\u001B[0m\n\u001B[0;32m   1749\u001B[0m     \u001B[38;5;28;01mraise\u001B[39;00m \u001B[38;5;167;01mTypeError\u001B[39;00m(\u001B[38;5;124m\"\u001B[39m\u001B[38;5;124mCannot index by location index with a non-integer key\u001B[39m\u001B[38;5;124m\"\u001B[39m)\n\u001B[0;32m   1751\u001B[0m \u001B[38;5;66;03m# validate the location\u001B[39;00m\n\u001B[1;32m-> 1752\u001B[0m \u001B[38;5;28;43mself\u001B[39;49m\u001B[38;5;241;43m.\u001B[39;49m\u001B[43m_validate_integer\u001B[49m\u001B[43m(\u001B[49m\u001B[43mkey\u001B[49m\u001B[43m,\u001B[49m\u001B[43m \u001B[49m\u001B[43maxis\u001B[49m\u001B[43m)\u001B[49m\n\u001B[0;32m   1754\u001B[0m \u001B[38;5;28;01mreturn\u001B[39;00m \u001B[38;5;28mself\u001B[39m\u001B[38;5;241m.\u001B[39mobj\u001B[38;5;241m.\u001B[39m_ixs(key, axis\u001B[38;5;241m=\u001B[39maxis)\n",
      "File \u001B[1;32m~\\IdeaProjects\\pymovements-videoreplay\\venv\\Lib\\site-packages\\pandas\\core\\indexing.py:1685\u001B[0m, in \u001B[0;36m_iLocIndexer._validate_integer\u001B[1;34m(self, key, axis)\u001B[0m\n\u001B[0;32m   1683\u001B[0m len_axis \u001B[38;5;241m=\u001B[39m \u001B[38;5;28mlen\u001B[39m(\u001B[38;5;28mself\u001B[39m\u001B[38;5;241m.\u001B[39mobj\u001B[38;5;241m.\u001B[39m_get_axis(axis))\n\u001B[0;32m   1684\u001B[0m \u001B[38;5;28;01mif\u001B[39;00m key \u001B[38;5;241m>\u001B[39m\u001B[38;5;241m=\u001B[39m len_axis \u001B[38;5;129;01mor\u001B[39;00m key \u001B[38;5;241m<\u001B[39m \u001B[38;5;241m-\u001B[39mlen_axis:\n\u001B[1;32m-> 1685\u001B[0m     \u001B[38;5;28;01mraise\u001B[39;00m \u001B[38;5;167;01mIndexError\u001B[39;00m(\u001B[38;5;124m\"\u001B[39m\u001B[38;5;124msingle positional indexer is out-of-bounds\u001B[39m\u001B[38;5;124m\"\u001B[39m)\n",
      "\u001B[1;31mIndexError\u001B[0m: single positional indexer is out-of-bounds"
     ]
    }
   ],
   "source": [
    "player.fixation_navigation()"
   ],
   "metadata": {
    "collapsed": false,
    "ExecuteTime": {
     "end_time": "2025-02-21T14:11:20.057547100Z",
     "start_time": "2025-02-21T14:11:19.912627800Z"
    }
   },
   "id": "52cb04263c330cfd"
  },
  {
   "cell_type": "markdown",
   "source": [
    "## Export Gaze Replay as MP4\n",
    "Save the replay with gaze overlay."
   ],
   "metadata": {
    "collapsed": false
   },
   "id": "b1f1a0f4921025"
  },
  {
   "cell_type": "code",
   "execution_count": 20,
   "outputs": [
    {
     "ename": "KeyError",
     "evalue": "'x'",
     "output_type": "error",
     "traceback": [
      "\u001B[1;31m---------------------------------------------------------------------------\u001B[0m",
      "\u001B[1;31mKeyError\u001B[0m                                  Traceback (most recent call last)",
      "File \u001B[1;32m~\\IdeaProjects\\pymovements-videoreplay\\venv\\Lib\\site-packages\\pandas\\core\\indexes\\base.py:3805\u001B[0m, in \u001B[0;36mIndex.get_loc\u001B[1;34m(self, key)\u001B[0m\n\u001B[0;32m   3804\u001B[0m \u001B[38;5;28;01mtry\u001B[39;00m:\n\u001B[1;32m-> 3805\u001B[0m     \u001B[38;5;28;01mreturn\u001B[39;00m \u001B[38;5;28;43mself\u001B[39;49m\u001B[38;5;241;43m.\u001B[39;49m\u001B[43m_engine\u001B[49m\u001B[38;5;241;43m.\u001B[39;49m\u001B[43mget_loc\u001B[49m\u001B[43m(\u001B[49m\u001B[43mcasted_key\u001B[49m\u001B[43m)\u001B[49m\n\u001B[0;32m   3806\u001B[0m \u001B[38;5;28;01mexcept\u001B[39;00m \u001B[38;5;167;01mKeyError\u001B[39;00m \u001B[38;5;28;01mas\u001B[39;00m err:\n",
      "File \u001B[1;32mindex.pyx:167\u001B[0m, in \u001B[0;36mpandas._libs.index.IndexEngine.get_loc\u001B[1;34m()\u001B[0m\n",
      "File \u001B[1;32mindex.pyx:196\u001B[0m, in \u001B[0;36mpandas._libs.index.IndexEngine.get_loc\u001B[1;34m()\u001B[0m\n",
      "File \u001B[1;32mpandas\\\\_libs\\\\hashtable_class_helper.pxi:7081\u001B[0m, in \u001B[0;36mpandas._libs.hashtable.PyObjectHashTable.get_item\u001B[1;34m()\u001B[0m\n",
      "File \u001B[1;32mpandas\\\\_libs\\\\hashtable_class_helper.pxi:7089\u001B[0m, in \u001B[0;36mpandas._libs.hashtable.PyObjectHashTable.get_item\u001B[1;34m()\u001B[0m\n",
      "\u001B[1;31mKeyError\u001B[0m: 'x'",
      "\nThe above exception was the direct cause of the following exception:\n",
      "\u001B[1;31mKeyError\u001B[0m                                  Traceback (most recent call last)",
      "Cell \u001B[1;32mIn[20], line 3\u001B[0m\n\u001B[0;32m      1\u001B[0m \u001B[38;5;28;01mfrom\u001B[39;00m\u001B[38;5;250m \u001B[39m\u001B[38;5;21;01mIPython\u001B[39;00m\u001B[38;5;21;01m.\u001B[39;00m\u001B[38;5;21;01mdisplay\u001B[39;00m\u001B[38;5;250m \u001B[39m\u001B[38;5;28;01mimport\u001B[39;00m Video\n\u001B[1;32m----> 3\u001B[0m \u001B[43mplayer\u001B[49m\u001B[38;5;241;43m.\u001B[39;49m\u001B[43mexport_replay\u001B[49m\u001B[43m(\u001B[49m\u001B[38;5;124;43m\"\u001B[39;49m\u001B[38;5;124;43mgaze_replay.mp4\u001B[39;49m\u001B[38;5;124;43m\"\u001B[39;49m\u001B[43m)\u001B[49m\n\u001B[0;32m      5\u001B[0m \u001B[38;5;66;03m# Display the exported video\u001B[39;00m\n\u001B[0;32m      6\u001B[0m Video(\u001B[38;5;124m\"\u001B[39m\u001B[38;5;124mgaze_replay.mp4\u001B[39m\u001B[38;5;124m\"\u001B[39m, embed\u001B[38;5;241m=\u001B[39m\u001B[38;5;28;01mTrue\u001B[39;00m)\n",
      "File \u001B[1;32m~\\IdeaProjects\\pymovements-videoreplay\\src\\videoreplay\\video_player.py:150\u001B[0m, in \u001B[0;36mVideoPlayer.export_replay\u001B[1;34m(self, output_path)\u001B[0m\n\u001B[0;32m    147\u001B[0m \u001B[38;5;28;01mif\u001B[39;00m \u001B[38;5;129;01mnot\u001B[39;00m frame_read_successful:\n\u001B[0;32m    148\u001B[0m     \u001B[38;5;28;01mbreak\u001B[39;00m\n\u001B[1;32m--> 150\u001B[0m x, y \u001B[38;5;241m=\u001B[39m \u001B[38;5;28mint\u001B[39m(\u001B[43mrow\u001B[49m\u001B[43m[\u001B[49m\u001B[38;5;124;43m'\u001B[39;49m\u001B[38;5;124;43mx\u001B[39;49m\u001B[38;5;124;43m'\u001B[39;49m\u001B[43m]\u001B[49m), \u001B[38;5;28mint\u001B[39m(row[\u001B[38;5;124m'\u001B[39m\u001B[38;5;124my\u001B[39m\u001B[38;5;124m'\u001B[39m])\n\u001B[0;32m    151\u001B[0m cv2\u001B[38;5;241m.\u001B[39mcircle(video_frame, (x, y), \u001B[38;5;241m5\u001B[39m, (\u001B[38;5;241m0\u001B[39m, \u001B[38;5;241m0\u001B[39m, \u001B[38;5;241m255\u001B[39m), \u001B[38;5;241m-\u001B[39m\u001B[38;5;241m1\u001B[39m)  \u001B[38;5;66;03m# Red dot for gaze (BGR format)\u001B[39;00m\n\u001B[0;32m    153\u001B[0m frames\u001B[38;5;241m.\u001B[39mappend(cv2\u001B[38;5;241m.\u001B[39mcvtColor(video_frame, cv2\u001B[38;5;241m.\u001B[39mCOLOR_BGR2RGB))  \u001B[38;5;66;03m# Convert for imageio\u001B[39;00m\n",
      "File \u001B[1;32m~\\IdeaProjects\\pymovements-videoreplay\\venv\\Lib\\site-packages\\pandas\\core\\series.py:1121\u001B[0m, in \u001B[0;36mSeries.__getitem__\u001B[1;34m(self, key)\u001B[0m\n\u001B[0;32m   1118\u001B[0m     \u001B[38;5;28;01mreturn\u001B[39;00m \u001B[38;5;28mself\u001B[39m\u001B[38;5;241m.\u001B[39m_values[key]\n\u001B[0;32m   1120\u001B[0m \u001B[38;5;28;01melif\u001B[39;00m key_is_scalar:\n\u001B[1;32m-> 1121\u001B[0m     \u001B[38;5;28;01mreturn\u001B[39;00m \u001B[38;5;28;43mself\u001B[39;49m\u001B[38;5;241;43m.\u001B[39;49m\u001B[43m_get_value\u001B[49m\u001B[43m(\u001B[49m\u001B[43mkey\u001B[49m\u001B[43m)\u001B[49m\n\u001B[0;32m   1123\u001B[0m \u001B[38;5;66;03m# Convert generator to list before going through hashable part\u001B[39;00m\n\u001B[0;32m   1124\u001B[0m \u001B[38;5;66;03m# (We will iterate through the generator there to check for slices)\u001B[39;00m\n\u001B[0;32m   1125\u001B[0m \u001B[38;5;28;01mif\u001B[39;00m is_iterator(key):\n",
      "File \u001B[1;32m~\\IdeaProjects\\pymovements-videoreplay\\venv\\Lib\\site-packages\\pandas\\core\\series.py:1237\u001B[0m, in \u001B[0;36mSeries._get_value\u001B[1;34m(self, label, takeable)\u001B[0m\n\u001B[0;32m   1234\u001B[0m     \u001B[38;5;28;01mreturn\u001B[39;00m \u001B[38;5;28mself\u001B[39m\u001B[38;5;241m.\u001B[39m_values[label]\n\u001B[0;32m   1236\u001B[0m \u001B[38;5;66;03m# Similar to Index.get_value, but we do not fall back to positional\u001B[39;00m\n\u001B[1;32m-> 1237\u001B[0m loc \u001B[38;5;241m=\u001B[39m \u001B[38;5;28;43mself\u001B[39;49m\u001B[38;5;241;43m.\u001B[39;49m\u001B[43mindex\u001B[49m\u001B[38;5;241;43m.\u001B[39;49m\u001B[43mget_loc\u001B[49m\u001B[43m(\u001B[49m\u001B[43mlabel\u001B[49m\u001B[43m)\u001B[49m\n\u001B[0;32m   1239\u001B[0m \u001B[38;5;28;01mif\u001B[39;00m is_integer(loc):\n\u001B[0;32m   1240\u001B[0m     \u001B[38;5;28;01mreturn\u001B[39;00m \u001B[38;5;28mself\u001B[39m\u001B[38;5;241m.\u001B[39m_values[loc]\n",
      "File \u001B[1;32m~\\IdeaProjects\\pymovements-videoreplay\\venv\\Lib\\site-packages\\pandas\\core\\indexes\\base.py:3812\u001B[0m, in \u001B[0;36mIndex.get_loc\u001B[1;34m(self, key)\u001B[0m\n\u001B[0;32m   3807\u001B[0m     \u001B[38;5;28;01mif\u001B[39;00m \u001B[38;5;28misinstance\u001B[39m(casted_key, \u001B[38;5;28mslice\u001B[39m) \u001B[38;5;129;01mor\u001B[39;00m (\n\u001B[0;32m   3808\u001B[0m         \u001B[38;5;28misinstance\u001B[39m(casted_key, abc\u001B[38;5;241m.\u001B[39mIterable)\n\u001B[0;32m   3809\u001B[0m         \u001B[38;5;129;01mand\u001B[39;00m \u001B[38;5;28many\u001B[39m(\u001B[38;5;28misinstance\u001B[39m(x, \u001B[38;5;28mslice\u001B[39m) \u001B[38;5;28;01mfor\u001B[39;00m x \u001B[38;5;129;01min\u001B[39;00m casted_key)\n\u001B[0;32m   3810\u001B[0m     ):\n\u001B[0;32m   3811\u001B[0m         \u001B[38;5;28;01mraise\u001B[39;00m InvalidIndexError(key)\n\u001B[1;32m-> 3812\u001B[0m     \u001B[38;5;28;01mraise\u001B[39;00m \u001B[38;5;167;01mKeyError\u001B[39;00m(key) \u001B[38;5;28;01mfrom\u001B[39;00m\u001B[38;5;250m \u001B[39m\u001B[38;5;21;01merr\u001B[39;00m\n\u001B[0;32m   3813\u001B[0m \u001B[38;5;28;01mexcept\u001B[39;00m \u001B[38;5;167;01mTypeError\u001B[39;00m:\n\u001B[0;32m   3814\u001B[0m     \u001B[38;5;66;03m# If we have a listlike key, _check_indexing_error will raise\u001B[39;00m\n\u001B[0;32m   3815\u001B[0m     \u001B[38;5;66;03m#  InvalidIndexError. Otherwise we fall through and re-raise\u001B[39;00m\n\u001B[0;32m   3816\u001B[0m     \u001B[38;5;66;03m#  the TypeError.\u001B[39;00m\n\u001B[0;32m   3817\u001B[0m     \u001B[38;5;28mself\u001B[39m\u001B[38;5;241m.\u001B[39m_check_indexing_error(key)\n",
      "\u001B[1;31mKeyError\u001B[0m: 'x'"
     ]
    }
   ],
   "source": [
    "from IPython.display import Video\n",
    "\n",
    "player.export_replay(\"gaze_replay.mp4\")\n",
    "\n",
    "# Display the exported video\n",
    "Video(\"gaze_replay.mp4\", embed=True)"
   ],
   "metadata": {
    "collapsed": false,
    "ExecuteTime": {
     "end_time": "2025-02-21T14:11:23.496652800Z",
     "start_time": "2025-02-21T14:11:23.049933100Z"
    }
   },
   "id": "631bc00bc6a9d76d"
  },
  {
   "cell_type": "markdown",
   "source": [],
   "metadata": {
    "collapsed": false
   },
   "id": "6bc442766764f5e1"
  }
 ],
 "metadata": {
  "kernelspec": {
   "display_name": "Python 3",
   "language": "python",
   "name": "python3"
  },
  "language_info": {
   "codemirror_mode": {
    "name": "ipython",
    "version": 2
   },
   "file_extension": ".py",
   "mimetype": "text/x-python",
   "name": "python",
   "nbconvert_exporter": "python",
   "pygments_lexer": "ipython2",
   "version": "2.7.6"
  }
 },
 "nbformat": 4,
 "nbformat_minor": 5
}
