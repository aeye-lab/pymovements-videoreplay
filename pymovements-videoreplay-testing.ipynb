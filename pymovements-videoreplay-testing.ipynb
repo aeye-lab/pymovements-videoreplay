{
 "cells": [
  {
   "cell_type": "markdown",
   "source": [
    "## Upload and Select Stimulus (Video or Image)\n",
    "Upload the stimulus video or image file."
   ],
   "metadata": {
    "collapsed": false
   },
   "id": "f9eaa6d2e61fa349"
  },
  {
   "cell_type": "code",
   "execution_count": 26,
   "outputs": [],
   "source": [
    "import os"
   ],
   "metadata": {
    "collapsed": false,
    "ExecuteTime": {
     "end_time": "2025-03-21T13:11:34.657905800Z",
     "start_time": "2025-03-21T13:11:34.650923800Z"
    }
   },
   "id": "359d3b16dea3f41a"
  },
  {
   "cell_type": "code",
   "execution_count": 27,
   "outputs": [],
   "source": [
    "def create_eye_tracking_video(gaze_df, video_filename=\"eye_tracking_video.mp4\", fps=30, width=1280, height=1024):\n",
    "    \"\"\"\n",
    "    Creates a blank video with a duration matching the eye movement timestamps in the dataset.\n",
    "\n",
    "    Parameters:\n",
    "        gaze_df (pandas.DataFrame): The eye movement dataset containing 'time' column.\n",
    "        video_filename (str): Name of the output video file.\n",
    "        fps (int): Frames per second.\n",
    "        width (int): Video width.\n",
    "        height (int): Video height.\n",
    "    \"\"\"\n",
    "    if \"frame_idx\" in gaze_df.columns:\n",
    "        # If 'frame_idx' exists, use its max value to determine total frames\n",
    "        total_frames = int(gaze_df[\"frame_idx\"].max()) + 1\n",
    "    else:\n",
    "        # Otherwise, compute total frames based on timestamps\n",
    "        min_time = gaze_df[\"time\"].min() / 1000.0  # Convert ms → s\n",
    "        max_time = gaze_df[\"time\"].max() / 1000.0  # Convert ms → s\n",
    "        duration = max_time - min_time  # Total video duration in seconds\n",
    "        total_frames = int(duration * fps)\n",
    "\n",
    "    # Ensure at least 1 frame is written\n",
    "    total_frames = max(1, total_frames)\n",
    "\n",
    "    print(f\"Creating video of duration: {duration:.2f} sec ({total_frames} frames)\")\n",
    "\n",
    "    # Set up the video writer\n",
    "    fourcc = cv2.VideoWriter_fourcc(*\"mp4v\")  # Codec\n",
    "    out = cv2.VideoWriter(video_filename, fourcc, fps, (width, height))\n",
    "\n",
    "    # Create white frames and write to video\n",
    "    white_frame = np.ones((height, width, 3), dtype=np.uint8) * 255  # White background\n",
    "    for _ in range(total_frames):\n",
    "        out.write(white_frame)\n",
    "\n",
    "    out.release()\n",
    "    print(f\"Video saved as {video_filename}\")"
   ],
   "metadata": {
    "collapsed": false,
    "ExecuteTime": {
     "end_time": "2025-03-21T13:11:36.019594100Z",
     "start_time": "2025-03-21T13:11:35.987755100Z"
    }
   },
   "id": "e8b5157d361e5990"
  },
  {
   "cell_type": "code",
   "execution_count": 28,
   "outputs": [
    {
     "data": {
      "text/plain": "FileChooser(path='C:\\Users\\Kirthan\\IdeaProjects\\pymovements-videoreplay\\data', filename='', title='', show_hid…",
      "application/vnd.jupyter.widget-view+json": {
       "version_major": 2,
       "version_minor": 0,
       "model_id": "ff74be32deee45efac27389fe228e7eb"
      }
     },
     "metadata": {},
     "output_type": "display_data"
    }
   ],
   "source": [
    "import ipyfilechooser\n",
    "import cv2\n",
    "import numpy as np\n",
    "from IPython.display import display\n",
    "\n",
    "# Step 1: Create the file chooser widget\n",
    "base_dir = os.getcwd()  # Start from the current working directory\n",
    "while not base_dir.endswith(\"pymovements-videoreplay\") and os.path.dirname(base_dir) != base_dir:\n",
    "    base_dir = os.path.dirname(base_dir)  # Go up one level until we find the project root\n",
    "\n",
    "default_path = os.path.join(base_dir, \"data\")\n",
    "\n",
    "os.makedirs(default_path, exist_ok=True)\n",
    "\n",
    "chooser = ipyfilechooser.FileChooser(default_path)\n",
    "chooser.filter_pattern = ['*.mp4', '*.jpg', '*.jpeg', '*.png']  # Show video & image files\n",
    "display(chooser)\n",
    "\n",
    "# Step 2: Function to move the selected file or use the generated video\n",
    "def save_uploaded_stimulus():\n",
    "    selected_file_path = chooser.selected  # Get selected file path\n",
    "\n",
    "    if selected_file_path is None:\n",
    "        # If no video or image is uploaded, generate a white background video\n",
    "        default_video = \"white_background.mp4\"\n",
    "        if not os.path.exists(default_video):\n",
    "            print(f\"No stimulus uploaded. Generating default video with white background: {default_video}\")\n",
    "            create_eye_tracking_video(dataset.gaze[0].frame.to_pandas(), default_video)\n",
    "\n",
    "        # Check if the generated image exists\n",
    "        if os.path.exists(default_video):\n",
    "            print(f\"Using generated white background video: {default_video}\")\n",
    "            selected_file_path = default_video\n",
    "        else:\n",
    "            print(\"ERROR: No stimulus uploaded and failed to generate an image. Please upload an image or video.\")\n",
    "            return\n",
    "\n",
    "    # Verify the file exists\n",
    "    stimulus_name = os.path.basename(selected_file_path)\n",
    "    if os.path.exists(selected_file_path):\n",
    "        print(f\"Stimulus saved successfully as '{stimulus_name}'!\")\n",
    "        print(f\"File Size: {os.path.getsize(selected_file_path)} bytes\")\n",
    "    else:\n",
    "        print(\"ERROR: Stimulus file was not saved correctly!\")\n",
    "        \n",
    "    return selected_file_path    "
   ],
   "metadata": {
    "collapsed": false,
    "ExecuteTime": {
     "end_time": "2025-03-21T13:11:37.161683700Z",
     "start_time": "2025-03-21T13:11:37.076911Z"
    }
   },
   "id": "1162337fc9170355"
  },
  {
   "cell_type": "code",
   "execution_count": 29,
   "outputs": [
    {
     "name": "stdout",
     "output_type": "stream",
     "text": [
      "Stimulus saved successfully as 'reading-genome-2.png'!\n",
      "File Size: 175729 bytes\n"
     ]
    }
   ],
   "source": [
    "# Step 3: After Selecting the File, Run:\n",
    "selected_file_path = save_uploaded_stimulus()"
   ],
   "metadata": {
    "collapsed": false,
    "ExecuteTime": {
     "end_time": "2025-03-21T13:11:58.559021400Z",
     "start_time": "2025-03-21T13:11:58.532644800Z"
    }
   },
   "id": "a809dd6db8c32e68"
  },
  {
   "cell_type": "markdown",
   "source": [
    "## Initialize and Run VideoPlayer\n",
    "Run the VideoPlayer to visualize eye-tracking data overlay."
   ],
   "metadata": {
    "collapsed": false
   },
   "id": "10a82e6f8033e65e"
  },
  {
   "cell_type": "code",
   "execution_count": 30,
   "outputs": [
    {
     "name": "stdout",
     "output_type": "stream",
     "text": [
      "Loading gaze data from: data\\SB-SAT\\fixation\\18sat_fixfinal.csv\n"
     ]
    }
   ],
   "source": [
    "import sys\n",
    "import importlib\n",
    "\n",
    "# Ensure 'src' is in sys.path\n",
    "src_path = os.path.abspath(os.path.join('src'))\n",
    "if src_path not in sys.path:\n",
    "    sys.path.append(src_path)\n",
    "\n",
    "# Import the module\n",
    "import videoreplay.video_player\n",
    "\n",
    "# Reload the module\n",
    "importlib.reload(videoreplay.video_player)\n",
    "\n",
    "# Now import the updated class\n",
    "from videoreplay.video_player import VideoPlayer\n",
    "\n",
    "# Initialize the VideoPlayer with the uploaded video\n",
    "player = VideoPlayer(stimulus_path=selected_file_path,\n",
    "                     dataset_path=\"data/SB-SAT/fixation\",\n",
    "                     recording_session=\"msd001\")"
   ],
   "metadata": {
    "collapsed": false,
    "ExecuteTime": {
     "end_time": "2025-03-21T13:12:02.632882300Z",
     "start_time": "2025-03-21T13:12:01.420302600Z"
    }
   },
   "id": "7c39103f12e1f3a6"
  },
  {
   "cell_type": "markdown",
   "source": [
    "## Play Video with Gaze Overlay"
   ],
   "metadata": {
    "collapsed": false
   },
   "id": "e9052d0fc6291892"
  },
  {
   "cell_type": "code",
   "execution_count": 31,
   "outputs": [],
   "source": [
    "player.play(speed=5.0)"
   ],
   "metadata": {
    "collapsed": false,
    "ExecuteTime": {
     "end_time": "2025-03-21T13:12:33.301728100Z",
     "start_time": "2025-03-21T13:12:12.672002900Z"
    }
   },
   "id": "3aee00cf0ec53a19"
  },
  {
   "cell_type": "markdown",
   "source": [
    "## Navigate Through Fixations\n",
    "Use 'n' for next fixation, 'p' for previous, 'q' to quit."
   ],
   "metadata": {
    "collapsed": false
   },
   "id": "3dcd85d32ca9377c"
  },
  {
   "cell_type": "code",
   "execution_count": 32,
   "outputs": [],
   "source": [
    "player.fixation_navigation()"
   ],
   "metadata": {
    "collapsed": false,
    "ExecuteTime": {
     "end_time": "2025-03-21T13:12:44.795792700Z",
     "start_time": "2025-03-21T13:12:37.845588700Z"
    }
   },
   "id": "52cb04263c330cfd"
  },
  {
   "cell_type": "markdown",
   "source": [
    "## Export Gaze Replay as MP4\n",
    "Save the replay with gaze overlay."
   ],
   "metadata": {
    "collapsed": false
   },
   "id": "b1f1a0f4921025"
  },
  {
   "cell_type": "code",
   "execution_count": 33,
   "outputs": [
    {
     "name": "stdout",
     "output_type": "stream",
     "text": [
      "Exporting gaze replay for an image stimulus...\n",
      "Image-based replay exported as MP4: gaze_replay_slow.mp4\n"
     ]
    }
   ],
   "source": [
    "player.export_replay(\"gaze_replay_slow\", 5)"
   ],
   "metadata": {
    "collapsed": false,
    "ExecuteTime": {
     "end_time": "2025-03-21T13:12:49.320915Z",
     "start_time": "2025-03-21T13:12:48.046554300Z"
    }
   },
   "id": "631bc00bc6a9d76d"
  },
  {
   "cell_type": "markdown",
   "source": [],
   "metadata": {
    "collapsed": false
   },
   "id": "6bc442766764f5e1"
  }
 ],
 "metadata": {
  "kernelspec": {
   "display_name": "Python 3",
   "language": "python",
   "name": "python3"
  },
  "language_info": {
   "codemirror_mode": {
    "name": "ipython",
    "version": 2
   },
   "file_extension": ".py",
   "mimetype": "text/x-python",
   "name": "python",
   "nbconvert_exporter": "python",
   "pygments_lexer": "ipython2",
   "version": "2.7.6"
  }
 },
 "nbformat": 4,
 "nbformat_minor": 5
}
