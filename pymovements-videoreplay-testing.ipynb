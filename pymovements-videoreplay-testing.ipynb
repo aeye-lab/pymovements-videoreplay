{
 "cells": [
  {
   "cell_type": "markdown",
   "source": [
    "## Getting Started\n",
    "Loading eye movement dataset with pymovements"
   ],
   "metadata": {
    "collapsed": false
   },
   "id": "70753008078c97ec"
  },
  {
   "cell_type": "code",
   "execution_count": 1,
   "outputs": [
    {
     "name": "stdout",
     "output_type": "stream",
     "text": [
      "Using already downloaded and verified file: data\\ToyDataset\\downloads\\pymovements-toy-dataset.zip\n",
      "Extracting pymovements-toy-dataset.zip to data\\ToyDataset\\raw\n"
     ]
    },
    {
     "data": {
      "text/plain": "  0%|          | 0/20 [00:00<?, ?it/s]",
      "application/vnd.jupyter.widget-view+json": {
       "version_major": 2,
       "version_minor": 0,
       "model_id": "2d8bf90b46d04477af9382f7d5744c64"
      }
     },
     "metadata": {},
     "output_type": "display_data"
    },
    {
     "data": {
      "text/plain": "<pymovements.dataset.dataset.Dataset at 0x2335fac8830>"
     },
     "execution_count": 1,
     "metadata": {},
     "output_type": "execute_result"
    }
   ],
   "source": [
    "import os\n",
    "import pymovements as pm\n",
    "\n",
    "# Ensure the data directory exists\n",
    "os.makedirs('data/ToyDataset', exist_ok=True)\n",
    "\n",
    "dataset = pm.Dataset(\n",
    "    'ToyDataset',                # choose a public dataset from our dataset library\n",
    "    path='data/ToyDataset',      # set up your local dataset path\n",
    ")\n",
    "dataset.download()               # download a public dataset from our dataset library\n",
    "dataset.load()                   # download the dataset"
   ],
   "metadata": {
    "collapsed": false,
    "ExecuteTime": {
     "end_time": "2025-02-27T12:14:40.942069600Z",
     "start_time": "2025-02-27T12:14:37.186585400Z"
    }
   },
   "id": "7b5e2bf67faf26f"
  },
  {
   "cell_type": "markdown",
   "source": [
    "Calculate velocities on the fly"
   ],
   "metadata": {
    "collapsed": false
   },
   "id": "bd1c7f330012ddf7"
  },
  {
   "cell_type": "code",
   "execution_count": 2,
   "outputs": [
    {
     "data": {
      "text/plain": "  0%|          | 0/20 [00:00<?, ?it/s]",
      "application/vnd.jupyter.widget-view+json": {
       "version_major": 2,
       "version_minor": 0,
       "model_id": "25c1ecd17a1e4dbf990cb3ec3441e6ae"
      }
     },
     "metadata": {},
     "output_type": "display_data"
    },
    {
     "data": {
      "text/plain": "  0%|          | 0/20 [00:00<?, ?it/s]",
      "application/vnd.jupyter.widget-view+json": {
       "version_major": 2,
       "version_minor": 0,
       "model_id": "12cc9ca2438c43e88b9833da5a794c6c"
      }
     },
     "metadata": {},
     "output_type": "display_data"
    },
    {
     "data": {
      "text/plain": "<pymovements.dataset.dataset.Dataset at 0x2335fac8830>"
     },
     "execution_count": 2,
     "metadata": {},
     "output_type": "execute_result"
    }
   ],
   "source": [
    "dataset.pix2deg()                # transform pixel coordinates to degrees of visual angle\n",
    "dataset.pos2vel()                # transform positional data to velocity data"
   ],
   "metadata": {
    "collapsed": false,
    "ExecuteTime": {
     "end_time": "2025-02-27T12:14:47.190186200Z",
     "start_time": "2025-02-27T12:14:45.631717500Z"
    }
   },
   "id": "4df52673e6a97902"
  },
  {
   "cell_type": "markdown",
   "source": [
    "and extract events with different eye movements event extraction algorithms"
   ],
   "metadata": {
    "collapsed": false
   },
   "id": "2448599b5410d81e"
  },
  {
   "cell_type": "code",
   "execution_count": 3,
   "outputs": [
    {
     "data": {
      "text/plain": "0it [00:00, ?it/s]",
      "application/vnd.jupyter.widget-view+json": {
       "version_major": 2,
       "version_minor": 0,
       "model_id": "4750b9e1d38a4f62a88c0727e460f986"
      }
     },
     "metadata": {},
     "output_type": "display_data"
    },
    {
     "data": {
      "text/plain": "0it [00:00, ?it/s]",
      "application/vnd.jupyter.widget-view+json": {
       "version_major": 2,
       "version_minor": 0,
       "model_id": "63823c48b2424eccb9c86096c2cc85fc"
      }
     },
     "metadata": {},
     "output_type": "display_data"
    },
    {
     "data": {
      "text/plain": "<pymovements.dataset.dataset.Dataset at 0x2335fac8830>"
     },
     "execution_count": 3,
     "metadata": {},
     "output_type": "execute_result"
    }
   ],
   "source": [
    "dataset.detect('ivt')            # detect fixation using the I-VT algorithm\n",
    "dataset.detect('microsaccades')  # detect saccades using the microsaccades algorithm"
   ],
   "metadata": {
    "collapsed": false,
    "ExecuteTime": {
     "end_time": "2025-02-27T12:14:50.079530300Z",
     "start_time": "2025-02-27T12:14:49.079425Z"
    }
   },
   "id": "1b18c7c4659e9b9a"
  },
  {
   "cell_type": "markdown",
   "source": [
    "## Upload and Select Stimulus (Video or Image)\n",
    "Upload the stimulus video or image file."
   ],
   "metadata": {
    "collapsed": false
   },
   "id": "f9eaa6d2e61fa349"
  },
  {
   "cell_type": "code",
   "execution_count": 4,
   "outputs": [
    {
     "data": {
      "text/plain": "FileChooser(path='C:\\Users\\Kirthan\\IdeaProjects\\pymovements-videoreplay', filename='', title='', show_hidden=F…",
      "application/vnd.jupyter.widget-view+json": {
       "version_major": 2,
       "version_minor": 0,
       "model_id": "0c71bd23792f44cdb782c2b666b1bc6a"
      }
     },
     "metadata": {},
     "output_type": "display_data"
    }
   ],
   "source": [
    "import shutil\n",
    "import ipyfilechooser\n",
    "import cv2\n",
    "import numpy as np\n",
    "from IPython.display import display\n",
    "\n",
    "# Step 1: Create the file chooser widget\n",
    "chooser = ipyfilechooser.FileChooser(os.getcwd())  # Opens in the current directory\n",
    "chooser.filter_pattern = ['*.mp4', '*.jpg', '*.jpeg', '*.png']  # Show video & image files\n",
    "display(chooser)\n",
    "\n",
    "# Step 2: Function to move the selected file or use the generated video\n",
    "def save_uploaded_video():\n",
    "    selected_file = chooser.selected  # Get selected file path\n",
    "\n",
    "    if selected_file is None:\n",
    "        # If no video or image is uploaded, generate a white background image\n",
    "        default_image = \"white_background.png\"\n",
    "        if not os.path.exists(default_image):\n",
    "            print(f\"No stimulus uploaded. Generating default white image: {default_image}\")\n",
    "            white_background = np.ones((480, 640, 3), dtype=np.uint8) * 255  # White 640x480 image\n",
    "            cv2.imwrite(default_image, white_background)\n",
    "\n",
    "        # Check if the generated image exists\n",
    "        if os.path.exists(default_image):\n",
    "            print(f\"Using generated white image: {default_image}\")\n",
    "            selected_file = default_image\n",
    "        else:\n",
    "            print(\"ERROR: No stimulus uploaded and failed to generate an image. Please upload an image or video.\")\n",
    "            return\n",
    "\n",
    "    # Move the selected file to 'stimulus.ext' (handle both video and image)\n",
    "    stimulus_ext = os.path.splitext(selected_file)[-1].lower()\n",
    "    stimulus_name = \"stimulus\" + stimulus_ext\n",
    "    shutil.copy(selected_file, stimulus_name)\n",
    "\n",
    "    # Verify the file exists\n",
    "    if os.path.exists(stimulus_name):\n",
    "        print(f\"Stimulus saved successfully as '{stimulus_name}'!\")\n",
    "        print(f\"File Size: {os.path.getsize(stimulus_name)} bytes\")\n",
    "    else:\n",
    "        print(\"ERROR: Stimulus file was not saved correctly!\")\n"
   ],
   "metadata": {
    "collapsed": false,
    "ExecuteTime": {
     "end_time": "2025-02-27T12:14:52.996137600Z",
     "start_time": "2025-02-27T12:14:52.865628900Z"
    }
   },
   "id": "1162337fc9170355"
  },
  {
   "cell_type": "code",
   "execution_count": 5,
   "outputs": [
    {
     "name": "stdout",
     "output_type": "stream",
     "text": [
      "No stimulus uploaded. Generating default white image: white_background.png\n",
      "Using generated white image: white_background.png\n",
      "Stimulus saved successfully as 'stimulus.png'!\n",
      "File Size: 2299 bytes\n"
     ]
    }
   ],
   "source": [
    "# Step 3: After Selecting the File, Run:\n",
    "save_uploaded_video()"
   ],
   "metadata": {
    "collapsed": false,
    "ExecuteTime": {
     "end_time": "2025-02-27T12:14:55.911520300Z",
     "start_time": "2025-02-27T12:14:55.882701200Z"
    }
   },
   "id": "a809dd6db8c32e68"
  },
  {
   "cell_type": "markdown",
   "source": [
    "## Initialize and Run VideoPlayer\n",
    "Run the VideoPlayer to visualize eye-tracking data overlay."
   ],
   "metadata": {
    "collapsed": false
   },
   "id": "10a82e6f8033e65e"
  },
  {
   "cell_type": "code",
   "execution_count": 6,
   "outputs": [
    {
     "data": {
      "text/plain": "  0%|          | 0/20 [00:00<?, ?it/s]",
      "application/vnd.jupyter.widget-view+json": {
       "version_major": 2,
       "version_minor": 0,
       "model_id": "7586463b993a49548220ad250c9d8535"
      }
     },
     "metadata": {},
     "output_type": "display_data"
    }
   ],
   "source": [
    "import sys\n",
    "import importlib\n",
    "\n",
    "# Ensure 'src' is in sys.path\n",
    "src_path = os.path.abspath(os.path.join('src'))\n",
    "if src_path not in sys.path:\n",
    "    sys.path.append(src_path)\n",
    "\n",
    "# Import the module\n",
    "import videoreplay.video_player\n",
    "\n",
    "# Reload the module (corrected)\n",
    "importlib.reload(videoreplay.video_player)\n",
    "\n",
    "# Now import the updated class\n",
    "from videoreplay.video_player import VideoPlayer\n",
    "\n",
    "# Determine stimulus file (image or video)\n",
    "stimulus_files = [f for f in os.listdir() if f.startswith(\"stimulus.\")]\n",
    "if stimulus_files:\n",
    "    stimulus_path = stimulus_files[0]\n",
    "else:\n",
    "    print(\"ERROR: No stimulus file found!\")\n",
    "\n",
    "# Initialize the VideoPlayer with the uploaded video\n",
    "player = VideoPlayer(stimulus_path=stimulus_path,\n",
    "                     dataset_path=\"data/ToyDataset\",\n",
    "                     dataset_name=\"ToyDataset\")"
   ],
   "metadata": {
    "collapsed": false,
    "ExecuteTime": {
     "end_time": "2025-02-27T12:15:01.318010Z",
     "start_time": "2025-02-27T12:15:00.928349700Z"
    }
   },
   "id": "7c39103f12e1f3a6"
  },
  {
   "cell_type": "markdown",
   "source": [
    "## Play Video with Gaze Overlay"
   ],
   "metadata": {
    "collapsed": false
   },
   "id": "e9052d0fc6291892"
  },
  {
   "cell_type": "code",
   "execution_count": 10,
   "outputs": [
    {
     "name": "stdout",
     "output_type": "stream",
     "text": [
      "Available columns in gaze_df: ['time', 'stimuli_x', 'stimuli_y', 'text_id', 'page_id', 'pixel', 'frame_idx']\n"
     ]
    }
   ],
   "source": [
    "player.play(speed=50.0)  # Play at normal speed"
   ],
   "metadata": {
    "collapsed": false,
    "ExecuteTime": {
     "end_time": "2025-02-27T12:17:35.221691300Z",
     "start_time": "2025-02-27T12:17:31.127058400Z"
    }
   },
   "id": "3aee00cf0ec53a19"
  },
  {
   "cell_type": "markdown",
   "source": [
    "## Navigate Through Fixations\n",
    "Use 'n' for next fixation, 'p' for previous, 'q' to quit."
   ],
   "metadata": {
    "collapsed": false
   },
   "id": "3dcd85d32ca9377c"
  },
  {
   "cell_type": "code",
   "execution_count": 11,
   "outputs": [],
   "source": [
    "player.fixation_navigation()"
   ],
   "metadata": {
    "collapsed": false,
    "ExecuteTime": {
     "end_time": "2025-02-27T12:17:43.031751500Z",
     "start_time": "2025-02-27T12:17:40.999879400Z"
    }
   },
   "id": "52cb04263c330cfd"
  },
  {
   "cell_type": "markdown",
   "source": [
    "## Export Gaze Replay as MP4\n",
    "Save the replay with gaze overlay."
   ],
   "metadata": {
    "collapsed": false
   },
   "id": "b1f1a0f4921025"
  },
  {
   "cell_type": "code",
   "execution_count": 12,
   "outputs": [
    {
     "name": "stdout",
     "output_type": "stream",
     "text": [
      "Exporting gaze replay for an image stimulus...\n",
      "Image replay saved as gaze_replay.gif\n"
     ]
    }
   ],
   "source": [
    "player.export_replay(\"gaze_replay\")"
   ],
   "metadata": {
    "collapsed": false,
    "ExecuteTime": {
     "end_time": "2025-02-27T12:24:15.314134100Z",
     "start_time": "2025-02-27T12:17:44.569370800Z"
    }
   },
   "id": "631bc00bc6a9d76d"
  },
  {
   "cell_type": "markdown",
   "source": [],
   "metadata": {
    "collapsed": false
   },
   "id": "6bc442766764f5e1"
  }
 ],
 "metadata": {
  "kernelspec": {
   "display_name": "Python 3",
   "language": "python",
   "name": "python3"
  },
  "language_info": {
   "codemirror_mode": {
    "name": "ipython",
    "version": 2
   },
   "file_extension": ".py",
   "mimetype": "text/x-python",
   "name": "python",
   "nbconvert_exporter": "python",
   "pygments_lexer": "ipython2",
   "version": "2.7.6"
  }
 },
 "nbformat": 4,
 "nbformat_minor": 5
}
