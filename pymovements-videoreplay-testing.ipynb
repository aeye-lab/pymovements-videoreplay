{
 "cells": [
  {
   "cell_type": "markdown",
   "source": [
    "## Getting Started\n",
    "Loading eye movement dataset with pymovements"
   ],
   "metadata": {
    "collapsed": false
   },
   "id": "70753008078c97ec"
  },
  {
   "cell_type": "code",
   "execution_count": 4,
   "outputs": [
    {
     "name": "stdout",
     "output_type": "stream",
     "text": [
      "Downloading http://github.com/aeye-lab/pymovements-toy-dataset/zipball/6cb5d663317bf418cec0c9abe1dde5085a8a8ebd/ to data\\ToyDataset\\downloads\\pymovements-toy-dataset.zip\n"
     ]
    },
    {
     "data": {
      "text/plain": "pymovements-toy-dataset.zip: 0.00B [00:00, ?B/s]",
      "application/vnd.jupyter.widget-view+json": {
       "version_major": 2,
       "version_minor": 0,
       "model_id": "e0be2a5d2054414bb06c6abb6ecd6f5d"
      }
     },
     "metadata": {},
     "output_type": "display_data"
    },
    {
     "name": "stdout",
     "output_type": "stream",
     "text": [
      "Checking integrity of pymovements-toy-dataset.zip\n",
      "Extracting pymovements-toy-dataset.zip to data\\ToyDataset\\raw\n"
     ]
    },
    {
     "data": {
      "text/plain": "  0%|          | 0/20 [00:00<?, ?it/s]",
      "application/vnd.jupyter.widget-view+json": {
       "version_major": 2,
       "version_minor": 0,
       "model_id": "4a8c2b78c1154f28af6efe9358b36cdd"
      }
     },
     "metadata": {},
     "output_type": "display_data"
    },
    {
     "data": {
      "text/plain": "<pymovements.dataset.dataset.Dataset at 0x1662b1e87a0>"
     },
     "execution_count": 4,
     "metadata": {},
     "output_type": "execute_result"
    }
   ],
   "source": [
    "import pymovements as pm\n",
    "\n",
    "dataset = pm.Dataset(\n",
    "    'ToyDataset',                # choose a public dataset from our dataset library\n",
    "    path='data/ToyDataset',      # set up your local dataset path\n",
    ")\n",
    "dataset.download()               # download a public dataset from our dataset library\n",
    "dataset.load()                   # download the dataset"
   ],
   "metadata": {
    "collapsed": false,
    "ExecuteTime": {
     "end_time": "2024-12-08T20:20:25.991973100Z",
     "start_time": "2024-12-08T20:20:05.299167900Z"
    }
   },
   "id": "7b5e2bf67faf26f"
  },
  {
   "cell_type": "markdown",
   "source": [
    "Calculate velocities on the fly"
   ],
   "metadata": {
    "collapsed": false
   },
   "id": "bd1c7f330012ddf7"
  },
  {
   "cell_type": "code",
   "execution_count": 5,
   "outputs": [
    {
     "data": {
      "text/plain": "  0%|          | 0/20 [00:00<?, ?it/s]",
      "application/vnd.jupyter.widget-view+json": {
       "version_major": 2,
       "version_minor": 0,
       "model_id": "be30d318f1194d0ab34a2824dc71d3bf"
      }
     },
     "metadata": {},
     "output_type": "display_data"
    },
    {
     "data": {
      "text/plain": "  0%|          | 0/20 [00:00<?, ?it/s]",
      "application/vnd.jupyter.widget-view+json": {
       "version_major": 2,
       "version_minor": 0,
       "model_id": "a89cd84a7d8044fdafd1ceb5f5f9d4ce"
      }
     },
     "metadata": {},
     "output_type": "display_data"
    },
    {
     "data": {
      "text/plain": "<pymovements.dataset.dataset.Dataset at 0x1662b1e87a0>"
     },
     "execution_count": 5,
     "metadata": {},
     "output_type": "execute_result"
    }
   ],
   "source": [
    "dataset.pix2deg()                # transform pixel coordinates to degrees of visual angle\n",
    "dataset.pos2vel()                # transform positional data to velocity data"
   ],
   "metadata": {
    "collapsed": false,
    "ExecuteTime": {
     "end_time": "2024-12-08T20:20:59.581966300Z",
     "start_time": "2024-12-08T20:20:53.962363300Z"
    }
   },
   "id": "4df52673e6a97902"
  },
  {
   "cell_type": "markdown",
   "source": [
    "and extract events with different eye movements event extraction algorithms"
   ],
   "metadata": {
    "collapsed": false
   },
   "id": "2448599b5410d81e"
  },
  {
   "cell_type": "code",
   "execution_count": 6,
   "outputs": [
    {
     "data": {
      "text/plain": "0it [00:00, ?it/s]",
      "application/vnd.jupyter.widget-view+json": {
       "version_major": 2,
       "version_minor": 0,
       "model_id": "b04955a094e94ffd9ac1cbe24d076828"
      }
     },
     "metadata": {},
     "output_type": "display_data"
    },
    {
     "data": {
      "text/plain": "0it [00:00, ?it/s]",
      "application/vnd.jupyter.widget-view+json": {
       "version_major": 2,
       "version_minor": 0,
       "model_id": "b723ceb6997a4346abbe64f157546c6d"
      }
     },
     "metadata": {},
     "output_type": "display_data"
    },
    {
     "data": {
      "text/plain": "<pymovements.dataset.dataset.Dataset at 0x1662b1e87a0>"
     },
     "execution_count": 6,
     "metadata": {},
     "output_type": "execute_result"
    }
   ],
   "source": [
    "dataset.detect('ivt')            # detect fixation using the I-VT algorithm\n",
    "dataset.detect('microsaccades')  # detect saccades using the microsaccades algorithm"
   ],
   "metadata": {
    "collapsed": false,
    "ExecuteTime": {
     "end_time": "2024-12-08T20:21:45.440203500Z",
     "start_time": "2024-12-08T20:21:44.423423900Z"
    }
   },
   "id": "1b18c7c4659e9b9a"
  },
  {
   "cell_type": "code",
   "execution_count": null,
   "outputs": [],
   "source": [],
   "metadata": {
    "collapsed": false
   },
   "id": "471b7ecf0050f0ec"
  }
 ],
 "metadata": {
  "kernelspec": {
   "display_name": "Python 3",
   "language": "python",
   "name": "python3"
  },
  "language_info": {
   "codemirror_mode": {
    "name": "ipython",
    "version": 2
   },
   "file_extension": ".py",
   "mimetype": "text/x-python",
   "name": "python",
   "nbconvert_exporter": "python",
   "pygments_lexer": "ipython2",
   "version": "2.7.6"
  }
 },
 "nbformat": 4,
 "nbformat_minor": 5
}
