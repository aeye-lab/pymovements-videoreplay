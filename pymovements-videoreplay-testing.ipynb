{
 "cells": [
  {
   "cell_type": "markdown",
   "source": [
    "## Getting Started\n",
    "Loading eye movement dataset with pymovements"
   ],
   "metadata": {
    "collapsed": false
   },
   "id": "70753008078c97ec"
  },
  {
   "cell_type": "code",
   "execution_count": 1,
   "outputs": [
    {
     "name": "stdout",
     "output_type": "stream",
     "text": [
      "Using already downloaded and verified file: data\\ToyDataset\\downloads\\pymovements-toy-dataset.zip\n",
      "Extracting pymovements-toy-dataset.zip to data\\ToyDataset\\raw\n"
     ]
    },
    {
     "data": {
      "text/plain": "  0%|          | 0/20 [00:00<?, ?it/s]",
      "application/vnd.jupyter.widget-view+json": {
       "version_major": 2,
       "version_minor": 0,
       "model_id": "387e2908e2644d4e863edb60c68081d4"
      }
     },
     "metadata": {},
     "output_type": "display_data"
    },
    {
     "data": {
      "text/plain": "<pymovements.dataset.dataset.Dataset at 0x253c63c8830>"
     },
     "execution_count": 1,
     "metadata": {},
     "output_type": "execute_result"
    }
   ],
   "source": [
    "import os\n",
    "import pymovements as pm\n",
    "\n",
    "# Ensure the data directory exists\n",
    "os.makedirs('data/ToyDataset', exist_ok=True)\n",
    "\n",
    "dataset = pm.Dataset(\n",
    "    'ToyDataset',                # choose a public dataset from our dataset library\n",
    "    path='data/ToyDataset',      # set up your local dataset path\n",
    ")\n",
    "dataset.download()               # download a public dataset from our dataset library\n",
    "dataset.load()                   # download the dataset"
   ],
   "metadata": {
    "collapsed": false,
    "ExecuteTime": {
     "end_time": "2025-02-27T10:51:09.196094300Z",
     "start_time": "2025-02-27T10:50:52.288248700Z"
    }
   },
   "id": "7b5e2bf67faf26f"
  },
  {
   "cell_type": "markdown",
   "source": [
    "Calculate velocities on the fly"
   ],
   "metadata": {
    "collapsed": false
   },
   "id": "bd1c7f330012ddf7"
  },
  {
   "cell_type": "code",
   "execution_count": 2,
   "outputs": [
    {
     "data": {
      "text/plain": "  0%|          | 0/20 [00:00<?, ?it/s]",
      "application/vnd.jupyter.widget-view+json": {
       "version_major": 2,
       "version_minor": 0,
       "model_id": "dd01979f26f1413fa76b582dcdbadc5c"
      }
     },
     "metadata": {},
     "output_type": "display_data"
    },
    {
     "data": {
      "text/plain": "  0%|          | 0/20 [00:00<?, ?it/s]",
      "application/vnd.jupyter.widget-view+json": {
       "version_major": 2,
       "version_minor": 0,
       "model_id": "f77df084dcaf474eb6e87a8af4c17169"
      }
     },
     "metadata": {},
     "output_type": "display_data"
    },
    {
     "data": {
      "text/plain": "<pymovements.dataset.dataset.Dataset at 0x253c63c8830>"
     },
     "execution_count": 2,
     "metadata": {},
     "output_type": "execute_result"
    }
   ],
   "source": [
    "dataset.pix2deg()                # transform pixel coordinates to degrees of visual angle\n",
    "dataset.pos2vel()                # transform positional data to velocity data"
   ],
   "metadata": {
    "collapsed": false,
    "ExecuteTime": {
     "end_time": "2025-02-27T10:52:02.134692700Z",
     "start_time": "2025-02-27T10:52:00.557226700Z"
    }
   },
   "id": "4df52673e6a97902"
  },
  {
   "cell_type": "markdown",
   "source": [
    "and extract events with different eye movements event extraction algorithms"
   ],
   "metadata": {
    "collapsed": false
   },
   "id": "2448599b5410d81e"
  },
  {
   "cell_type": "code",
   "execution_count": 3,
   "outputs": [
    {
     "data": {
      "text/plain": "0it [00:00, ?it/s]",
      "application/vnd.jupyter.widget-view+json": {
       "version_major": 2,
       "version_minor": 0,
       "model_id": "64e79d367e2e4f35824d821bb97dee43"
      }
     },
     "metadata": {},
     "output_type": "display_data"
    },
    {
     "data": {
      "text/plain": "0it [00:00, ?it/s]",
      "application/vnd.jupyter.widget-view+json": {
       "version_major": 2,
       "version_minor": 0,
       "model_id": "e071a12544d7496e8ac34f34e6dbf98f"
      }
     },
     "metadata": {},
     "output_type": "display_data"
    },
    {
     "data": {
      "text/plain": "<pymovements.dataset.dataset.Dataset at 0x253c63c8830>"
     },
     "execution_count": 3,
     "metadata": {},
     "output_type": "execute_result"
    }
   ],
   "source": [
    "dataset.detect('ivt')            # detect fixation using the I-VT algorithm\n",
    "dataset.detect('microsaccades')  # detect saccades using the microsaccades algorithm"
   ],
   "metadata": {
    "collapsed": false,
    "ExecuteTime": {
     "end_time": "2025-02-27T10:52:05.387058800Z",
     "start_time": "2025-02-27T10:52:04.599325800Z"
    }
   },
   "id": "1b18c7c4659e9b9a"
  },
  {
   "cell_type": "markdown",
   "source": [
    "## Upload and Select Stimulus (Video or Image)\n",
    "Upload the stimulus video or image file."
   ],
   "metadata": {
    "collapsed": false
   },
   "id": "f9eaa6d2e61fa349"
  },
  {
   "cell_type": "code",
   "execution_count": 4,
   "outputs": [
    {
     "data": {
      "text/plain": "FileChooser(path='C:\\Users\\Kirthan\\IdeaProjects\\pymovements-videoreplay', filename='', title='', show_hidden=F…",
      "application/vnd.jupyter.widget-view+json": {
       "version_major": 2,
       "version_minor": 0,
       "model_id": "648195a7ba684422a053e32687401214"
      }
     },
     "metadata": {},
     "output_type": "display_data"
    }
   ],
   "source": [
    "import shutil\n",
    "import ipyfilechooser\n",
    "import cv2\n",
    "import numpy as np\n",
    "from IPython.display import display\n",
    "\n",
    "# Step 1: Create the file chooser widget\n",
    "chooser = ipyfilechooser.FileChooser(os.getcwd())  # Opens in the current directory\n",
    "chooser.filter_pattern = ['*.mp4', '*.jpg', '*.jpeg', '*.png']  # Show video & image files\n",
    "display(chooser)\n",
    "\n",
    "# Step 2: Function to move the selected file or use the generated video\n",
    "def save_uploaded_video():\n",
    "    selected_file = chooser.selected  # Get selected file path\n",
    "\n",
    "    if selected_file is None:\n",
    "        # If no video or image is uploaded, generate a white background image\n",
    "        default_image = \"white_background.png\"\n",
    "        if not os.path.exists(default_image):\n",
    "            print(f\"No stimulus uploaded. Generating default white image: {default_image}\")\n",
    "            white_background = np.ones((480, 640, 3), dtype=np.uint8) * 255  # White 640x480 image\n",
    "            cv2.imwrite(default_image, white_background)\n",
    "\n",
    "        # Check if the generated image exists\n",
    "        if os.path.exists(default_image):\n",
    "            print(f\"Using generated white image: {default_image}\")\n",
    "            selected_file = default_image\n",
    "        else:\n",
    "            print(\"ERROR: No stimulus uploaded and failed to generate an image. Please upload an image or video.\")\n",
    "            return\n",
    "\n",
    "    # Move the selected file to 'stimulus.ext' (handle both video and image)\n",
    "    stimulus_ext = os.path.splitext(selected_file)[-1].lower()\n",
    "    stimulus_name = \"stimulus\" + stimulus_ext\n",
    "    shutil.copy(selected_file, stimulus_name)\n",
    "\n",
    "    # Verify the file exists\n",
    "    if os.path.exists(stimulus_name):\n",
    "        print(f\"Stimulus saved successfully as '{stimulus_name}'!\")\n",
    "        print(f\"File Size: {os.path.getsize(stimulus_name)} bytes\")\n",
    "    else:\n",
    "        print(\"ERROR: Stimulus file was not saved correctly!\")\n"
   ],
   "metadata": {
    "collapsed": false,
    "ExecuteTime": {
     "end_time": "2025-02-27T10:52:08.133493100Z",
     "start_time": "2025-02-27T10:52:07.909309900Z"
    }
   },
   "id": "1162337fc9170355"
  },
  {
   "cell_type": "code",
   "execution_count": 5,
   "outputs": [
    {
     "name": "stdout",
     "output_type": "stream",
     "text": [
      "No stimulus uploaded. Generating default white image: white_background.png\n",
      "Using generated white image: white_background.png\n",
      "Stimulus saved successfully as 'stimulus.png'!\n",
      "File Size: 2299 bytes\n"
     ]
    }
   ],
   "source": [
    "# Step 3: After Selecting the File, Run:\n",
    "save_uploaded_video()"
   ],
   "metadata": {
    "collapsed": false,
    "ExecuteTime": {
     "end_time": "2025-02-27T10:52:10.552336300Z",
     "start_time": "2025-02-27T10:52:10.515338500Z"
    }
   },
   "id": "a809dd6db8c32e68"
  },
  {
   "cell_type": "markdown",
   "source": [
    "## Initialize and Run VideoPlayer\n",
    "Run the VideoPlayer to visualize eye-tracking data overlay."
   ],
   "metadata": {
    "collapsed": false
   },
   "id": "10a82e6f8033e65e"
  },
  {
   "cell_type": "code",
   "execution_count": 14,
   "outputs": [
    {
     "data": {
      "text/plain": "  0%|          | 0/20 [00:00<?, ?it/s]",
      "application/vnd.jupyter.widget-view+json": {
       "version_major": 2,
       "version_minor": 0,
       "model_id": "0f79241813a448c1bf0cb88839a58219"
      }
     },
     "metadata": {},
     "output_type": "display_data"
    },
    {
     "name": "stdout",
     "output_type": "stream",
     "text": [
      "Checking video path: C:\\Users\\Kirthan\\IdeaProjects\\pymovements-videoreplay\\stimulus.mp4\n",
      "Video loaded successfully! FPS: 30.0, Total Frames: 516\n",
      "Available columns in gaze_df: ['time', 'stimuli_x', 'stimuli_y', 'text_id', 'page_id', 'pixel']\n",
      "frame_idx added! (Now properly scaled)\n",
      "      time  normalized_time  frame_idx\n",
      "0  1988145            0.000          0\n",
      "1  1988146            0.001          0\n",
      "2  1988147            0.002          0\n",
      "3  1988148            0.003          0\n",
      "4  1988149            0.004          0\n",
      "🕒 Min Frame Index: 0\n",
      "🕒 Max Frame Index: 515\n"
     ]
    }
   ],
   "source": [
    "import sys\n",
    "import importlib\n",
    "\n",
    "# Ensure 'src' is in sys.path\n",
    "src_path = os.path.abspath(os.path.join('src'))\n",
    "if src_path not in sys.path:\n",
    "    sys.path.append(src_path)\n",
    "\n",
    "# Import the module\n",
    "import videoreplay.video_player\n",
    "\n",
    "# Reload the module (corrected)\n",
    "importlib.reload(videoreplay.video_player)\n",
    "\n",
    "# Now import the updated class\n",
    "from videoreplay.video_player import VideoPlayer\n",
    "\n",
    "# Determine stimulus file (image or video)\n",
    "stimulus_files = [f for f in os.listdir() if f.startswith(\"stimulus.\")]\n",
    "if stimulus_files:\n",
    "    stimulus_path = stimulus_files[0]\n",
    "else:\n",
    "    print(\"ERROR: No stimulus file found!\")\n",
    "\n",
    "# Initialize the VideoPlayer with the uploaded video\n",
    "player = VideoPlayer(stimulus_path=stimulus_path,\n",
    "                     dataset_path=\"data/ToyDataset\",\n",
    "                     dataset_name=\"ToyDataset\")"
   ],
   "metadata": {
    "collapsed": false,
    "ExecuteTime": {
     "end_time": "2025-02-27T11:31:03.726902300Z",
     "start_time": "2025-02-27T11:31:03.272054600Z"
    }
   },
   "id": "7c39103f12e1f3a6"
  },
  {
   "cell_type": "markdown",
   "source": [
    "## Play Video with Gaze Overlay"
   ],
   "metadata": {
    "collapsed": false
   },
   "id": "e9052d0fc6291892"
  },
  {
   "cell_type": "code",
   "execution_count": 15,
   "outputs": [
    {
     "name": "stdout",
     "output_type": "stream",
     "text": [
      "Available columns in gaze_df: ['time', 'stimuli_x', 'stimuli_y', 'text_id', 'page_id', 'pixel', 'normalized_time', 'frame_idx']\n"
     ]
    }
   ],
   "source": [
    "player.play(speed=1.0)  # Play at normal speed"
   ],
   "metadata": {
    "collapsed": false,
    "ExecuteTime": {
     "end_time": "2025-02-27T11:31:38.663464200Z",
     "start_time": "2025-02-27T11:31:08.505847200Z"
    }
   },
   "id": "3aee00cf0ec53a19"
  },
  {
   "cell_type": "markdown",
   "source": [
    "## Navigate Through Fixations\n",
    "Use 'n' for next fixation, 'p' for previous, 'q' to quit."
   ],
   "metadata": {
    "collapsed": false
   },
   "id": "3dcd85d32ca9377c"
  },
  {
   "cell_type": "code",
   "execution_count": 17,
   "outputs": [],
   "source": [
    "player.fixation_navigation()"
   ],
   "metadata": {
    "collapsed": false,
    "ExecuteTime": {
     "end_time": "2025-02-27T11:35:50.545858500Z",
     "start_time": "2025-02-27T11:34:41.957887600Z"
    }
   },
   "id": "52cb04263c330cfd"
  },
  {
   "cell_type": "markdown",
   "source": [
    "## Export Gaze Replay as MP4\n",
    "Save the replay with gaze overlay."
   ],
   "metadata": {
    "collapsed": false
   },
   "id": "b1f1a0f4921025"
  },
  {
   "cell_type": "code",
   "execution_count": 20,
   "outputs": [
    {
     "ename": "KeyError",
     "evalue": "'x'",
     "output_type": "error",
     "traceback": [
      "\u001B[1;31m---------------------------------------------------------------------------\u001B[0m",
      "\u001B[1;31mKeyError\u001B[0m                                  Traceback (most recent call last)",
      "File \u001B[1;32m~\\IdeaProjects\\pymovements-videoreplay\\venv\\Lib\\site-packages\\pandas\\core\\indexes\\base.py:3805\u001B[0m, in \u001B[0;36mIndex.get_loc\u001B[1;34m(self, key)\u001B[0m\n\u001B[0;32m   3804\u001B[0m \u001B[38;5;28;01mtry\u001B[39;00m:\n\u001B[1;32m-> 3805\u001B[0m     \u001B[38;5;28;01mreturn\u001B[39;00m \u001B[38;5;28;43mself\u001B[39;49m\u001B[38;5;241;43m.\u001B[39;49m\u001B[43m_engine\u001B[49m\u001B[38;5;241;43m.\u001B[39;49m\u001B[43mget_loc\u001B[49m\u001B[43m(\u001B[49m\u001B[43mcasted_key\u001B[49m\u001B[43m)\u001B[49m\n\u001B[0;32m   3806\u001B[0m \u001B[38;5;28;01mexcept\u001B[39;00m \u001B[38;5;167;01mKeyError\u001B[39;00m \u001B[38;5;28;01mas\u001B[39;00m err:\n",
      "File \u001B[1;32mindex.pyx:167\u001B[0m, in \u001B[0;36mpandas._libs.index.IndexEngine.get_loc\u001B[1;34m()\u001B[0m\n",
      "File \u001B[1;32mindex.pyx:196\u001B[0m, in \u001B[0;36mpandas._libs.index.IndexEngine.get_loc\u001B[1;34m()\u001B[0m\n",
      "File \u001B[1;32mpandas\\\\_libs\\\\hashtable_class_helper.pxi:7081\u001B[0m, in \u001B[0;36mpandas._libs.hashtable.PyObjectHashTable.get_item\u001B[1;34m()\u001B[0m\n",
      "File \u001B[1;32mpandas\\\\_libs\\\\hashtable_class_helper.pxi:7089\u001B[0m, in \u001B[0;36mpandas._libs.hashtable.PyObjectHashTable.get_item\u001B[1;34m()\u001B[0m\n",
      "\u001B[1;31mKeyError\u001B[0m: 'x'",
      "\nThe above exception was the direct cause of the following exception:\n",
      "\u001B[1;31mKeyError\u001B[0m                                  Traceback (most recent call last)",
      "Cell \u001B[1;32mIn[20], line 3\u001B[0m\n\u001B[0;32m      1\u001B[0m \u001B[38;5;28;01mfrom\u001B[39;00m\u001B[38;5;250m \u001B[39m\u001B[38;5;21;01mIPython\u001B[39;00m\u001B[38;5;21;01m.\u001B[39;00m\u001B[38;5;21;01mdisplay\u001B[39;00m\u001B[38;5;250m \u001B[39m\u001B[38;5;28;01mimport\u001B[39;00m Video\n\u001B[1;32m----> 3\u001B[0m \u001B[43mplayer\u001B[49m\u001B[38;5;241;43m.\u001B[39;49m\u001B[43mexport_replay\u001B[49m\u001B[43m(\u001B[49m\u001B[38;5;124;43m\"\u001B[39;49m\u001B[38;5;124;43mgaze_replay.mp4\u001B[39;49m\u001B[38;5;124;43m\"\u001B[39;49m\u001B[43m)\u001B[49m\n\u001B[0;32m      5\u001B[0m \u001B[38;5;66;03m# Display the exported video\u001B[39;00m\n\u001B[0;32m      6\u001B[0m Video(\u001B[38;5;124m\"\u001B[39m\u001B[38;5;124mgaze_replay.mp4\u001B[39m\u001B[38;5;124m\"\u001B[39m, embed\u001B[38;5;241m=\u001B[39m\u001B[38;5;28;01mTrue\u001B[39;00m)\n",
      "File \u001B[1;32m~\\IdeaProjects\\pymovements-videoreplay\\src\\videoreplay\\video_player.py:150\u001B[0m, in \u001B[0;36mVideoPlayer.export_replay\u001B[1;34m(self, output_path)\u001B[0m\n\u001B[0;32m    147\u001B[0m \u001B[38;5;28;01mif\u001B[39;00m \u001B[38;5;129;01mnot\u001B[39;00m frame_read_successful:\n\u001B[0;32m    148\u001B[0m     \u001B[38;5;28;01mbreak\u001B[39;00m\n\u001B[1;32m--> 150\u001B[0m x, y \u001B[38;5;241m=\u001B[39m \u001B[38;5;28mint\u001B[39m(\u001B[43mrow\u001B[49m\u001B[43m[\u001B[49m\u001B[38;5;124;43m'\u001B[39;49m\u001B[38;5;124;43mx\u001B[39;49m\u001B[38;5;124;43m'\u001B[39;49m\u001B[43m]\u001B[49m), \u001B[38;5;28mint\u001B[39m(row[\u001B[38;5;124m'\u001B[39m\u001B[38;5;124my\u001B[39m\u001B[38;5;124m'\u001B[39m])\n\u001B[0;32m    151\u001B[0m cv2\u001B[38;5;241m.\u001B[39mcircle(video_frame, (x, y), \u001B[38;5;241m5\u001B[39m, (\u001B[38;5;241m0\u001B[39m, \u001B[38;5;241m0\u001B[39m, \u001B[38;5;241m255\u001B[39m), \u001B[38;5;241m-\u001B[39m\u001B[38;5;241m1\u001B[39m)  \u001B[38;5;66;03m# Red dot for gaze (BGR format)\u001B[39;00m\n\u001B[0;32m    153\u001B[0m frames\u001B[38;5;241m.\u001B[39mappend(cv2\u001B[38;5;241m.\u001B[39mcvtColor(video_frame, cv2\u001B[38;5;241m.\u001B[39mCOLOR_BGR2RGB))  \u001B[38;5;66;03m# Convert for imageio\u001B[39;00m\n",
      "File \u001B[1;32m~\\IdeaProjects\\pymovements-videoreplay\\venv\\Lib\\site-packages\\pandas\\core\\series.py:1121\u001B[0m, in \u001B[0;36mSeries.__getitem__\u001B[1;34m(self, key)\u001B[0m\n\u001B[0;32m   1118\u001B[0m     \u001B[38;5;28;01mreturn\u001B[39;00m \u001B[38;5;28mself\u001B[39m\u001B[38;5;241m.\u001B[39m_values[key]\n\u001B[0;32m   1120\u001B[0m \u001B[38;5;28;01melif\u001B[39;00m key_is_scalar:\n\u001B[1;32m-> 1121\u001B[0m     \u001B[38;5;28;01mreturn\u001B[39;00m \u001B[38;5;28;43mself\u001B[39;49m\u001B[38;5;241;43m.\u001B[39;49m\u001B[43m_get_value\u001B[49m\u001B[43m(\u001B[49m\u001B[43mkey\u001B[49m\u001B[43m)\u001B[49m\n\u001B[0;32m   1123\u001B[0m \u001B[38;5;66;03m# Convert generator to list before going through hashable part\u001B[39;00m\n\u001B[0;32m   1124\u001B[0m \u001B[38;5;66;03m# (We will iterate through the generator there to check for slices)\u001B[39;00m\n\u001B[0;32m   1125\u001B[0m \u001B[38;5;28;01mif\u001B[39;00m is_iterator(key):\n",
      "File \u001B[1;32m~\\IdeaProjects\\pymovements-videoreplay\\venv\\Lib\\site-packages\\pandas\\core\\series.py:1237\u001B[0m, in \u001B[0;36mSeries._get_value\u001B[1;34m(self, label, takeable)\u001B[0m\n\u001B[0;32m   1234\u001B[0m     \u001B[38;5;28;01mreturn\u001B[39;00m \u001B[38;5;28mself\u001B[39m\u001B[38;5;241m.\u001B[39m_values[label]\n\u001B[0;32m   1236\u001B[0m \u001B[38;5;66;03m# Similar to Index.get_value, but we do not fall back to positional\u001B[39;00m\n\u001B[1;32m-> 1237\u001B[0m loc \u001B[38;5;241m=\u001B[39m \u001B[38;5;28;43mself\u001B[39;49m\u001B[38;5;241;43m.\u001B[39;49m\u001B[43mindex\u001B[49m\u001B[38;5;241;43m.\u001B[39;49m\u001B[43mget_loc\u001B[49m\u001B[43m(\u001B[49m\u001B[43mlabel\u001B[49m\u001B[43m)\u001B[49m\n\u001B[0;32m   1239\u001B[0m \u001B[38;5;28;01mif\u001B[39;00m is_integer(loc):\n\u001B[0;32m   1240\u001B[0m     \u001B[38;5;28;01mreturn\u001B[39;00m \u001B[38;5;28mself\u001B[39m\u001B[38;5;241m.\u001B[39m_values[loc]\n",
      "File \u001B[1;32m~\\IdeaProjects\\pymovements-videoreplay\\venv\\Lib\\site-packages\\pandas\\core\\indexes\\base.py:3812\u001B[0m, in \u001B[0;36mIndex.get_loc\u001B[1;34m(self, key)\u001B[0m\n\u001B[0;32m   3807\u001B[0m     \u001B[38;5;28;01mif\u001B[39;00m \u001B[38;5;28misinstance\u001B[39m(casted_key, \u001B[38;5;28mslice\u001B[39m) \u001B[38;5;129;01mor\u001B[39;00m (\n\u001B[0;32m   3808\u001B[0m         \u001B[38;5;28misinstance\u001B[39m(casted_key, abc\u001B[38;5;241m.\u001B[39mIterable)\n\u001B[0;32m   3809\u001B[0m         \u001B[38;5;129;01mand\u001B[39;00m \u001B[38;5;28many\u001B[39m(\u001B[38;5;28misinstance\u001B[39m(x, \u001B[38;5;28mslice\u001B[39m) \u001B[38;5;28;01mfor\u001B[39;00m x \u001B[38;5;129;01min\u001B[39;00m casted_key)\n\u001B[0;32m   3810\u001B[0m     ):\n\u001B[0;32m   3811\u001B[0m         \u001B[38;5;28;01mraise\u001B[39;00m InvalidIndexError(key)\n\u001B[1;32m-> 3812\u001B[0m     \u001B[38;5;28;01mraise\u001B[39;00m \u001B[38;5;167;01mKeyError\u001B[39;00m(key) \u001B[38;5;28;01mfrom\u001B[39;00m\u001B[38;5;250m \u001B[39m\u001B[38;5;21;01merr\u001B[39;00m\n\u001B[0;32m   3813\u001B[0m \u001B[38;5;28;01mexcept\u001B[39;00m \u001B[38;5;167;01mTypeError\u001B[39;00m:\n\u001B[0;32m   3814\u001B[0m     \u001B[38;5;66;03m# If we have a listlike key, _check_indexing_error will raise\u001B[39;00m\n\u001B[0;32m   3815\u001B[0m     \u001B[38;5;66;03m#  InvalidIndexError. Otherwise we fall through and re-raise\u001B[39;00m\n\u001B[0;32m   3816\u001B[0m     \u001B[38;5;66;03m#  the TypeError.\u001B[39;00m\n\u001B[0;32m   3817\u001B[0m     \u001B[38;5;28mself\u001B[39m\u001B[38;5;241m.\u001B[39m_check_indexing_error(key)\n",
      "\u001B[1;31mKeyError\u001B[0m: 'x'"
     ]
    }
   ],
   "source": [
    "from IPython.display import Video\n",
    "\n",
    "player.export_replay(\"gaze_replay.mp4\")\n",
    "\n",
    "# Display the exported video\n",
    "Video(\"gaze_replay.mp4\", embed=True)"
   ],
   "metadata": {
    "collapsed": false,
    "ExecuteTime": {
     "end_time": "2025-02-21T14:11:23.496652800Z",
     "start_time": "2025-02-21T14:11:23.049933100Z"
    }
   },
   "id": "631bc00bc6a9d76d"
  },
  {
   "cell_type": "markdown",
   "source": [],
   "metadata": {
    "collapsed": false
   },
   "id": "6bc442766764f5e1"
  }
 ],
 "metadata": {
  "kernelspec": {
   "display_name": "Python 3",
   "language": "python",
   "name": "python3"
  },
  "language_info": {
   "codemirror_mode": {
    "name": "ipython",
    "version": 2
   },
   "file_extension": ".py",
   "mimetype": "text/x-python",
   "name": "python",
   "nbconvert_exporter": "python",
   "pygments_lexer": "ipython2",
   "version": "2.7.6"
  }
 },
 "nbformat": 4,
 "nbformat_minor": 5
}
