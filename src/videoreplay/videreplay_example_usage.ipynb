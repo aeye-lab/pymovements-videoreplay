{
 "cells": [
  {
   "cell_type": "markdown",
   "id": "0",
   "metadata": {},
   "source": [
    "## Select Stimulus (Video or Image)\n",
    "### Select the stimulus video or image file."
   ]
  },
  {
   "cell_type": "code",
   "execution_count": 25,
   "outputs": [
    {
     "data": {
      "text/plain": "FileChooser(path='C:\\Users\\Kirthan\\IdeaProjects\\pymovements-videoreplay\\data', filename='', title='', show_hid…",
      "application/vnd.jupyter.widget-view+json": {
       "version_major": 2,
       "version_minor": 0,
       "model_id": "fd3aa04f435b45b58298513baa99da0b"
      }
     },
     "metadata": {},
     "output_type": "display_data"
    }
   ],
   "source": [
    "import importlib\n",
    "import os\n",
    "import sys\n",
    "from pathlib import Path\n",
    "\n",
    "import ipyfilechooser\n",
    "import pymovements\n",
    "from IPython.display import display\n",
    "\n",
    "import videoreplay.video_player\n",
    "from videoreplay.video_player import VideoPlayer\n",
    "\n",
    "# Step 1: Create the file chooser widget\n",
    "base_dir = os.getcwd()\n",
    "while not base_dir.endswith(\"pymovements-videoreplay\") and os.path.dirname(base_dir) != base_dir:\n",
    "    # Go up one level until we find the project root\n",
    "    base_dir = os.path.dirname(base_dir)\n",
    "\n",
    "default_path = os.path.join(base_dir, \"data\")\n",
    "os.makedirs(default_path, exist_ok=True)\n",
    "\n",
    "chooser = ipyfilechooser.FileChooser(default_path)\n",
    "chooser.filter_pattern = ['*.mp4', '*.jpg', '*.jpeg', '*.png']\n",
    "display(chooser)\n",
    "\n",
    "# Step 2: Function to move the selected file\n",
    "\n",
    "\n",
    "def save_uploaded_stimulus():\n",
    "    selected_file_path = chooser.selected  # Get selected file path\n",
    "    if selected_file_path is None:\n",
    "        print(\"ERROR: No stimulus selected. Please select an image or video.\")\n",
    "        return\n",
    "\n",
    "    # Verify the file exists\n",
    "    stimulus_name = os.path.basename(selected_file_path)\n",
    "    if os.path.exists(selected_file_path):\n",
    "        print(f\"Stimulus saved successfully as '{stimulus_name}'!\")\n",
    "    else:\n",
    "        print(\"ERROR: Stimulus file was not saved correctly!\")\n",
    "\n",
    "    return selected_file_path"
   ],
   "metadata": {
    "collapsed": false,
    "ExecuteTime": {
     "end_time": "2025-05-16T09:57:11.564569600Z",
     "start_time": "2025-05-16T09:57:11.529126600Z"
    }
   },
   "id": "23bb4fd8f910fa78"
  },
  {
   "cell_type": "code",
   "execution_count": 26,
   "outputs": [
    {
     "name": "stdout",
     "output_type": "stream",
     "text": [
      "Stimulus saved successfully as 'reading-dickens-1.png'!\n"
     ]
    }
   ],
   "source": [
    "# Step 3: After Selecting the File, Run:\n",
    "selected_stimulus_path = save_uploaded_stimulus()\n",
    "\n",
    "current_path = Path().resolve()\n",
    "for parent in current_path.parents:\n",
    "    if parent.name == \"pymovements-videoreplay\":\n",
    "        project_root = parent\n",
    "        break\n",
    "else:\n",
    "    raise RuntimeError(\"Project root 'pymovements-videoreplay' not found!\")\n",
    "\n",
    "dataset_path = project_root / \"data\" / \"SB-SAT\" / \"fixation\"\n",
    "selected_dataset_path = dataset_path.resolve()"
   ],
   "metadata": {
    "collapsed": false,
    "ExecuteTime": {
     "end_time": "2025-05-16T09:57:21.806560400Z",
     "start_time": "2025-05-16T09:57:21.797554300Z"
    }
   },
   "id": "20173b2a48ba9a09"
  },
  {
   "cell_type": "markdown",
   "id": "6",
   "metadata": {},
   "source": [
    "## Initialize and Run VideoPlayer\n",
    "Run the VideoPlayer to visualize eye-tracking data overlay."
   ]
  },
  {
   "cell_type": "code",
   "execution_count": 27,
   "id": "7",
   "metadata": {
    "ExecuteTime": {
     "end_time": "2025-05-16T09:59:58.705777300Z",
     "start_time": "2025-05-16T09:57:24.926349900Z"
    }
   },
   "outputs": [
    {
     "name": "stdout",
     "output_type": "stream",
     "text": [
      "Loading gaze data from: C:\\Users\\Kirthan\\IdeaProjects\\pymovements-videoreplay\\data\\SB-SAT\\fixation\\18sat_fixfinal.csv\n"
     ]
    }
   ],
   "source": [
    "# Ensure 'src' is in sys.path\n",
    "src_path = os.path.abspath(os.path.join('src'))\n",
    "if src_path not in sys.path:\n",
    "    sys.path.append(src_path)\n",
    "\n",
    "# Reload the modules\n",
    "importlib.reload(videoreplay.video_player)\n",
    "from videoreplay.video_player import VideoPlayer\n",
    "\n",
    "# Initialize\n",
    "player = VideoPlayer(\n",
    "    stimulus_path=selected_stimulus_path,\n",
    "    dataset_path=selected_dataset_path,\n",
    "    recording_sessions=[\"msd001\", \"msd002\"]\n",
    ")"
   ]
  },
  {
   "cell_type": "markdown",
   "id": "8",
   "metadata": {},
   "source": [
    "## Play Video with Gaze Overlay"
   ]
  },
  {
   "cell_type": "code",
   "execution_count": 28,
   "id": "9",
   "metadata": {
    "ExecuteTime": {
     "end_time": "2025-05-16T10:00:04.799383800Z",
     "start_time": "2025-05-16T10:00:02.257866200Z"
    }
   },
   "outputs": [],
   "source": [
    "player.play(speed=1.0)"
   ]
  },
  {
   "cell_type": "markdown",
   "id": "10",
   "metadata": {},
   "source": [
    "## Navigate Through Fixations\n",
    "Use 'n' for next fixation, 'p' for previous, 'q' to quit."
   ]
  },
  {
   "cell_type": "code",
   "execution_count": 29,
   "id": "11",
   "metadata": {
    "ExecuteTime": {
     "end_time": "2025-05-16T10:00:12.195524800Z",
     "start_time": "2025-05-16T10:00:06.990159800Z"
    }
   },
   "outputs": [],
   "source": [
    "player.fixation_navigation()"
   ]
  },
  {
   "cell_type": "markdown",
   "id": "12",
   "metadata": {},
   "source": [
    "## Export Gaze Replay as MP4\n",
    "Save the replay with gaze overlay."
   ]
  },
  {
   "cell_type": "code",
   "execution_count": 30,
   "id": "13",
   "metadata": {
    "ExecuteTime": {
     "end_time": "2025-05-16T10:00:19.439842700Z",
     "start_time": "2025-05-16T10:00:14.593670200Z"
    }
   },
   "outputs": [
    {
     "name": "stdout",
     "output_type": "stream",
     "text": [
      "Exporting gaze replay for an image stimulus...\n",
      "Image-based replay exported as MP4: gaze_replay.mp4\n"
     ]
    }
   ],
   "source": [
    "player.export_replay(\"gaze_replay\", speed=1.0)"
   ]
  },
  {
   "cell_type": "code",
   "execution_count": null,
   "outputs": [],
   "source": [],
   "metadata": {
    "collapsed": false
   },
   "id": "9f5ef82e0c02265a"
  }
 ],
 "metadata": {
  "kernelspec": {
   "name": "python3",
   "language": "python",
   "display_name": "Python 3 (ipykernel)"
  }
 },
 "nbformat": 4,
 "nbformat_minor": 5
}
