{
 "cells": [
  {
   "cell_type": "markdown",
   "id": "0",
   "metadata": {},
   "source": [
    "## Select Stimulus (Video or Image)\n",
    "### Select the stimulus video or image file."
   ]
  },
  {
   "cell_type": "code",
   "execution_count": null,
   "id": "1",
   "metadata": {},
   "outputs": [],
   "source": [
    "import importlib\n",
    "import os\n",
    "import sys\n",
    "from pathlib import Path\n",
    "\n",
    "import ipyfilechooser\n",
    "import pymovements\n",
    "from IPython.display import display\n",
    "\n",
    "import videoreplay.video_player\n",
    "from videoreplay.video_player import VideoPlayer\n",
    "\n",
    "# Step 1: Create the file chooser widget\n",
    "base_dir = os.getcwd()\n",
    "while not base_dir.endswith(\"pymovements-videoreplay\") and os.path.dirname(base_dir) != base_dir:\n",
    "    # Go up one level until we find the project root\n",
    "    base_dir = os.path.dirname(base_dir)\n",
    "\n",
    "default_path = os.path.join(base_dir, \"data\")\n",
    "os.makedirs(default_path, exist_ok=True)\n",
    "\n",
    "chooser = ipyfilechooser.FileChooser(default_path)\n",
    "chooser.filter_pattern = ['*.mp4', '*.jpg', '*.jpeg', '*.png']\n",
    "display(chooser)\n",
    "\n",
    "# Step 2: Function to move the selected file\n",
    "\n",
    "\n",
    "def save_uploaded_stimulus():\n",
    "    selected_file_path = chooser.selected  # Get selected file path\n",
    "    if selected_file_path is None:\n",
    "        print(\"ERROR: No stimulus selected. Please select an image or video.\")\n",
    "        return\n",
    "\n",
    "    # Verify the file exists\n",
    "    stimulus_name = os.path.basename(selected_file_path)\n",
    "    if os.path.exists(selected_file_path):\n",
    "        print(f\"Stimulus saved successfully as '{stimulus_name}'!\")\n",
    "    else:\n",
    "        print(\"ERROR: Stimulus file was not saved correctly!\")\n",
    "\n",
    "    return selected_file_path"
   ]
  },
  {
   "cell_type": "code",
   "execution_count": null,
   "id": "2",
   "metadata": {},
   "outputs": [],
   "source": [
    "# Step 3: After Selecting the File, Run:\n",
    "selected_stimulus_path = save_uploaded_stimulus()\n",
    "\n",
    "\n",
    "current_path = Path().resolve()\n",
    "for parent in current_path.parents:\n",
    "    if parent.name == \"pymovements-videoreplay\":\n",
    "        project_root = parent\n",
    "        break\n",
    "else:\n",
    "    raise RuntimeError(\"Project root 'pymovements-videoreplay' not found!\")\n",
    "\n",
    "dataset_path = project_root / \"data\" / \"SB-SAT\" / \"fixation\"\n",
    "selected_dataset_path = dataset_path.resolve()"
   ]
  },
  {
   "cell_type": "markdown",
   "id": "3",
   "metadata": {},
   "source": [
    "### Or download a public dataset from pymovements"
   ]
  },
  {
   "cell_type": "code",
   "execution_count": null,
   "id": "4",
   "metadata": {},
   "outputs": [],
   "source": [
    "def select_public_dataset() -> str | None:\n",
    "    available_datasets = pymovements.datasets.__all__\n",
    "    if not available_datasets:\n",
    "        print(\"No public datasets available from pymovements.\")\n",
    "        return None\n",
    "\n",
    "    dataset_prompt = \"Select a public dataset by number:\\n\\n\"\n",
    "    for i, name in enumerate(available_datasets):\n",
    "        dataset_prompt += f\"  {i + 1}: {name}\\n\"\n",
    "    dataset_prompt += \"\\nYour choice: \"\n",
    "\n",
    "    try:\n",
    "        choice = int(input(dataset_prompt)) - 1\n",
    "        if 0 <= choice < len(available_datasets):\n",
    "            return available_datasets[choice]\n",
    "        else:\n",
    "            print(\"Invalid selection.\")\n",
    "    except ValueError:\n",
    "        print(\"Invalid input. Please enter a number.\")\n",
    "\n",
    "    return None"
   ]
  },
  {
   "cell_type": "code",
   "execution_count": null,
   "id": "5",
   "metadata": {},
   "outputs": [],
   "source": [
    "dataset = None\n",
    "\n",
    "dataset_name = select_public_dataset()\n",
    "if dataset_name is not None:\n",
    "    dataset = pymovements.Dataset(dataset_name, f'data/{dataset_name}')\n",
    "    dataset.download()\n",
    "    dataset.load()\n",
    "    print(f\"Successfully loaded public dataset: {dataset_name}\")\n",
    "else:\n",
    "    print(\"ERROR: No dataset loaded. Please select a dataset first.\")\n",
    "\n",
    "if dataset is not None:\n",
    "    selected_dataset_path = dataset.paths.precomputed_events\n",
    "    # selected_stimulus_path = dataset.paths.stimuli\n",
    "    print(selected_dataset_path)"
   ]
  },
  {
   "cell_type": "markdown",
   "id": "6",
   "metadata": {},
   "source": [
    "## Initialize and Run VideoPlayer\n",
    "Run the VideoPlayer to visualize eye-tracking data overlay."
   ]
  },
  {
   "cell_type": "code",
   "execution_count": null,
   "id": "7",
   "metadata": {},
   "outputs": [],
   "source": [
    "# Ensure 'src' is in sys.path\n",
    "src_path = os.path.abspath(os.path.join('src'))\n",
    "if src_path not in sys.path:\n",
    "    sys.path.append(src_path)\n",
    "\n",
    "# Import and Reload the module\n",
    "importlib.reload(videoreplay.video_player)\n",
    "\n",
    "# Now import the updated class\n",
    "\n",
    "# Initialize the VideoPlayer with the uploaded video\n",
    "player = VideoPlayer(stimulus_path=selected_stimulus_path,\n",
    "                     dataset_path=selected_dataset_path,\n",
    "                     recording_sessions=[\"msd001\", \"msd002\"])"
   ]
  },
  {
   "cell_type": "markdown",
   "id": "8",
   "metadata": {},
   "source": [
    "## Play Video with Gaze Overlay"
   ]
  },
  {
   "cell_type": "code",
   "execution_count": null,
   "id": "9",
   "metadata": {},
   "outputs": [],
   "source": [
    "player.play(speed=1.0)"
   ]
  },
  {
   "cell_type": "markdown",
   "id": "10",
   "metadata": {},
   "source": [
    "## Navigate Through Fixations\n",
    "Use 'n' for next fixation, 'p' for previous, 'q' to quit."
   ]
  },
  {
   "cell_type": "code",
   "execution_count": null,
   "id": "11",
   "metadata": {},
   "outputs": [],
   "source": [
    "player.fixation_navigation()"
   ]
  },
  {
   "cell_type": "markdown",
   "id": "12",
   "metadata": {},
   "source": [
    "## Export Gaze Replay as MP4\n",
    "Save the replay with gaze overlay."
   ]
  },
  {
   "cell_type": "code",
   "execution_count": null,
   "id": "13",
   "metadata": {},
   "outputs": [],
   "source": [
    "player.export_replay(\"gaze_replay\", speed=1.0)"
   ]
  },
  {
   "cell_type": "code",
   "execution_count": null,
   "id": "14",
   "metadata": {},
   "outputs": [],
   "source": []
  }
 ],
 "metadata": {},
 "nbformat": 4,
 "nbformat_minor": 5
}
