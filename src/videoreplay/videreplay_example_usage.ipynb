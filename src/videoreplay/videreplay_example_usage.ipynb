{
 "cells": [
  {
   "cell_type": "markdown",
   "source": [
    "## Select Stimulus (Video or Image)\n",
    "### Select the stimulus video or image file."
   ],
   "metadata": {
    "collapsed": false
   },
   "id": "f9eaa6d2e61fa349"
  },
  {
   "cell_type": "code",
   "execution_count": 22,
   "outputs": [
    {
     "data": {
      "text/plain": "FileChooser(path='C:\\Users\\Kirthan\\IdeaProjects\\pymovements-videoreplay\\data', filename='', title='', show_hid…",
      "application/vnd.jupyter.widget-view+json": {
       "version_major": 2,
       "version_minor": 0,
       "model_id": "a9ddd31e3402452aafd4fbd5018a4a4b"
      }
     },
     "metadata": {},
     "output_type": "display_data"
    }
   ],
   "source": [
    "import os\n",
    "import ipyfilechooser\n",
    "from IPython.display import display\n",
    "\n",
    "# Step 1: Create the file chooser widget\n",
    "base_dir = os.getcwd()\n",
    "while not base_dir.endswith(\"pymovements-videoreplay\") and os.path.dirname(base_dir) != base_dir:\n",
    "    base_dir = os.path.dirname(base_dir)  # Go up one level until we find the project root\n",
    "\n",
    "default_path = os.path.join(base_dir, \"data\")\n",
    "os.makedirs(default_path, exist_ok=True)\n",
    "\n",
    "chooser = ipyfilechooser.FileChooser(default_path)\n",
    "chooser.filter_pattern = ['*.mp4', '*.jpg', '*.jpeg', '*.png']\n",
    "display(chooser)\n",
    "\n",
    "# Step 2: Function to move the selected file\n",
    "def save_uploaded_stimulus():\n",
    "    selected_file_path = chooser.selected  # Get selected file path\n",
    "    if selected_file_path is None:\n",
    "        print(\"ERROR: No stimulus selected. Please select an image or video.\")\n",
    "        return\n",
    "\n",
    "    # Verify the file exists\n",
    "    stimulus_name = os.path.basename(selected_file_path)\n",
    "    if os.path.exists(selected_file_path):\n",
    "        print(f\"Stimulus saved successfully as '{stimulus_name}'!\")\n",
    "    else:\n",
    "        print(\"ERROR: Stimulus file was not saved correctly!\")\n",
    "        \n",
    "    return selected_file_path    "
   ],
   "metadata": {
    "collapsed": false,
    "ExecuteTime": {
     "end_time": "2025-04-04T09:24:51.161444300Z",
     "start_time": "2025-04-04T09:24:51.095691700Z"
    }
   },
   "id": "1162337fc9170355"
  },
  {
   "cell_type": "code",
   "execution_count": 23,
   "outputs": [
    {
     "name": "stdout",
     "output_type": "stream",
     "text": [
      "Stimulus saved successfully as 'reading-dickens-1.png'!\n"
     ]
    }
   ],
   "source": [
    "# Step 3: After Selecting the File, Run:\n",
    "selected_stimulus_path = save_uploaded_stimulus()\n",
    "selected_dataset_path = \"data/SB-SAT/fixation\""
   ],
   "metadata": {
    "collapsed": false,
    "ExecuteTime": {
     "end_time": "2025-04-04T09:25:02.233445500Z",
     "start_time": "2025-04-04T09:25:02.227587Z"
    }
   },
   "id": "a809dd6db8c32e68"
  },
  {
   "cell_type": "markdown",
   "source": [
    "### Or download a public dataset from pymovements"
   ],
   "metadata": {
    "collapsed": false
   },
   "id": "f9380d60d5271d23"
  },
  {
   "cell_type": "code",
   "execution_count": null,
   "outputs": [],
   "source": [
    "import pymovements\n",
    "\n",
    "def select_public_dataset() -> str | None:\n",
    "    available_datasets = pymovements.datasets.__all__\n",
    "    if not available_datasets:\n",
    "        print(\"No public datasets available from pymovements.\")\n",
    "        return None\n",
    "\n",
    "    dataset_prompt = \"Select a public dataset by number:\\n\\n\"\n",
    "    for i, name in enumerate(available_datasets):\n",
    "        dataset_prompt += f\"  {i + 1}: {name}\\n\"\n",
    "    dataset_prompt += \"\\nYour choice: \"\n",
    "\n",
    "    try:\n",
    "        choice = int(input(dataset_prompt)) - 1\n",
    "        if 0 <= choice < len(available_datasets):\n",
    "            return available_datasets[choice]\n",
    "        else:\n",
    "            print(\"Invalid selection.\")\n",
    "    except ValueError:\n",
    "        print(\"Invalid input. Please enter a number.\")\n",
    "\n",
    "    return None"
   ],
   "metadata": {
    "collapsed": false
   },
   "id": "a30820038fcc43e"
  },
  {
   "cell_type": "code",
   "execution_count": null,
   "outputs": [],
   "source": [
    "dataset = None\n",
    "\n",
    "dataset_name = select_public_dataset()\n",
    "if dataset_name is not None:\n",
    "    dataset = pymovements.Dataset(dataset_name, f'data/{dataset_name}')\n",
    "    dataset.download()\n",
    "    dataset.load()\n",
    "    print(f\"Successfully loaded public dataset: {dataset_name}\")\n",
    "else:\n",
    "    print(\"ERROR: No dataset loaded. Please select a dataset first.\")\n",
    "\n",
    "if dataset is not None:\n",
    "    selected_dataset_path = dataset.paths.precomputed_events\n",
    "    # selected_stimulus_path = dataset.paths.stimuli\n",
    "    print(selected_dataset_path)"
   ],
   "metadata": {
    "collapsed": false
   },
   "id": "11b1c0aa24b43b1d"
  },
  {
   "cell_type": "markdown",
   "source": [
    "## Initialize and Run VideoPlayer\n",
    "Run the VideoPlayer to visualize eye-tracking data overlay."
   ],
   "metadata": {
    "collapsed": false
   },
   "id": "10a82e6f8033e65e"
  },
  {
   "cell_type": "code",
   "execution_count": 24,
   "outputs": [
    {
     "name": "stdout",
     "output_type": "stream",
     "text": [
      "Loading gaze data from: data\\SB-SAT\\fixation\\18sat_fixfinal.csv\n"
     ]
    }
   ],
   "source": [
    "import sys\n",
    "import importlib\n",
    "\n",
    "# Ensure 'src' is in sys.path\n",
    "src_path = os.path.abspath(os.path.join('src'))\n",
    "if src_path not in sys.path:\n",
    "    sys.path.append(src_path)\n",
    "\n",
    "# Import and Reload the module\n",
    "import videoreplay.video_player\n",
    "importlib.reload(videoreplay.video_player)\n",
    "\n",
    "# Now import the updated class\n",
    "from videoreplay.video_player import VideoPlayer\n",
    "\n",
    "# Initialize the VideoPlayer with the uploaded video\n",
    "player = VideoPlayer(stimulus_path=selected_stimulus_path,\n",
    "                     dataset_path=selected_dataset_path,\n",
    "                     recording_sessions=[\"msd001\", \"msd002\"])"
   ],
   "metadata": {
    "collapsed": false,
    "ExecuteTime": {
     "end_time": "2025-04-04T09:25:13.195138900Z",
     "start_time": "2025-04-04T09:25:11.912569300Z"
    }
   },
   "id": "7c39103f12e1f3a6"
  },
  {
   "cell_type": "markdown",
   "source": [
    "## Play Video with Gaze Overlay"
   ],
   "metadata": {
    "collapsed": false
   },
   "id": "e9052d0fc6291892"
  },
  {
   "cell_type": "code",
   "execution_count": 25,
   "outputs": [],
   "source": [
    "player.play(speed=1.0)"
   ],
   "metadata": {
    "collapsed": false,
    "ExecuteTime": {
     "end_time": "2025-04-04T09:25:16.851916100Z",
     "start_time": "2025-04-04T09:25:14.523774900Z"
    }
   },
   "id": "3aee00cf0ec53a19"
  },
  {
   "cell_type": "markdown",
   "source": [
    "## Navigate Through Fixations\n",
    "Use 'n' for next fixation, 'p' for previous, 'q' to quit."
   ],
   "metadata": {
    "collapsed": false
   },
   "id": "3dcd85d32ca9377c"
  },
  {
   "cell_type": "code",
   "execution_count": 26,
   "outputs": [],
   "source": [
    "player.fixation_navigation()"
   ],
   "metadata": {
    "collapsed": false,
    "ExecuteTime": {
     "end_time": "2025-04-04T09:25:29.556487Z",
     "start_time": "2025-04-04T09:25:19.220075Z"
    }
   },
   "id": "52cb04263c330cfd"
  },
  {
   "cell_type": "markdown",
   "source": [
    "## Export Gaze Replay as MP4\n",
    "Save the replay with gaze overlay."
   ],
   "metadata": {
    "collapsed": false
   },
   "id": "b1f1a0f4921025"
  },
  {
   "cell_type": "code",
   "execution_count": 27,
   "outputs": [
    {
     "name": "stdout",
     "output_type": "stream",
     "text": [
      "Exporting gaze replay for an image stimulus...\n",
      "Image-based replay exported as MP4: gaze_replay.mp4\n"
     ]
    }
   ],
   "source": [
    "player.export_replay(\"gaze_replay\", speed=1.0)"
   ],
   "metadata": {
    "collapsed": false,
    "ExecuteTime": {
     "end_time": "2025-04-04T09:25:37.583934100Z",
     "start_time": "2025-04-04T09:25:32.901990900Z"
    }
   },
   "id": "631bc00bc6a9d76d"
  }
 ],
 "metadata": {
  "kernelspec": {
   "display_name": "Python 3",
   "language": "python",
   "name": "python3"
  },
  "language_info": {
   "codemirror_mode": {
    "name": "ipython",
    "version": 2
   },
   "file_extension": ".py",
   "mimetype": "text/x-python",
   "name": "python",
   "nbconvert_exporter": "python",
   "pygments_lexer": "ipython2",
   "version": "2.7.6"
  }
 },
 "nbformat": 4,
 "nbformat_minor": 5
}
