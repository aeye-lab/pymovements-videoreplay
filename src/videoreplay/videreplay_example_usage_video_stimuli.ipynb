{
 "cells": [
  {
   "cell_type": "markdown",
   "id": "0",
   "metadata": {},
   "source": [
    "# Example Usage: VideoPlayer (video stimuli)\n",
    "## Import necessary libraries"
   ]
  },
  {
   "cell_type": "code",
   "execution_count": 1,
   "outputs": [],
   "source": [
    "import importlib\n",
    "import os\n",
    "from pathlib import Path\n",
    "\n",
    "import ipyfilechooser\n",
    "from IPython.display import display"
   ],
   "metadata": {
    "collapsed": false,
    "ExecuteTime": {
     "end_time": "2025-05-17T08:44:12.778600200Z",
     "start_time": "2025-05-17T08:44:12.692185900Z"
    }
   },
   "id": "76c66b2ec2bd40b8"
  },
  {
   "cell_type": "markdown",
   "source": [
    "## Select Stimulus (Video or Image)\n",
    "Select the stimulus video or image file."
   ],
   "metadata": {
    "collapsed": false
   },
   "id": "8504d0f3a41ff215"
  },
  {
   "cell_type": "code",
   "execution_count": 2,
   "outputs": [
    {
     "data": {
      "text/plain": "FileChooser(path='C:\\Users\\Kirthan\\IdeaProjects\\pymovements-videoreplay\\data', filename='', title='', show_hid…",
      "application/vnd.jupyter.widget-view+json": {
       "version_major": 2,
       "version_minor": 0,
       "model_id": "f6c99faa72804d8fa71f28ec60c9ecbe"
      }
     },
     "metadata": {},
     "output_type": "display_data"
    }
   ],
   "source": [
    "base_dir = os.getcwd()\n",
    "while (not base_dir.endswith(\"pymovements-videoreplay\") and\n",
    "       os.path.dirname(base_dir) != base_dir):\n",
    "    base_dir = os.path.dirname(base_dir)\n",
    "\n",
    "default_path = os.path.join(base_dir, \"data\")\n",
    "os.makedirs(default_path, exist_ok=True)\n",
    "\n",
    "chooser = ipyfilechooser.FileChooser(default_path)\n",
    "chooser.filter_pattern = ['*.mp4', '*.jpg', '*.jpeg', '*.png', '*.mov']\n",
    "display(chooser)\n",
    "\n",
    "\n",
    "def save_uploaded_stimulus():\n",
    "    selected_file_path = chooser.selected\n",
    "    if selected_file_path is None:\n",
    "        print(\"ERROR: No stimulus selected. Please select an image or video.\")\n",
    "        return\n",
    "\n",
    "    # Verify the file exists\n",
    "    stimulus_name = os.path.basename(selected_file_path)\n",
    "    if os.path.exists(selected_file_path):\n",
    "        print(f\"Stimulus saved successfully as '{stimulus_name}'!\")\n",
    "    else:\n",
    "        print(\"ERROR: Stimulus file was not saved correctly!\")\n",
    "\n",
    "    return selected_file_path"
   ],
   "metadata": {
    "collapsed": false,
    "ExecuteTime": {
     "end_time": "2025-05-17T08:44:19.158949200Z",
     "start_time": "2025-05-17T08:44:19.109195600Z"
    }
   },
   "id": "2cc28025d97f41ed"
  },
  {
   "cell_type": "markdown",
   "id": "4",
   "metadata": {},
   "source": [
    "After Selecting the File, Run:"
   ]
  },
  {
   "cell_type": "code",
   "execution_count": 3,
   "id": "5",
   "metadata": {
    "ExecuteTime": {
     "end_time": "2025-05-17T08:44:34.315897700Z",
     "start_time": "2025-05-17T08:44:34.308680Z"
    }
   },
   "outputs": [
    {
     "name": "stdout",
     "output_type": "stream",
     "text": [
      "Stimulus saved successfully as 'c1r1.mov'!\n"
     ]
    }
   ],
   "source": [
    "selected_stimulus_path = save_uploaded_stimulus()\n",
    "\n",
    "current_path = Path().resolve()\n",
    "for parent in current_path.parents:\n",
    "    if parent.name == \"pymovements-videoreplay\":\n",
    "        project_root = parent\n",
    "        break\n",
    "else:\n",
    "    raise RuntimeError(\"Project root 'pymovements-videoreplay' not found!\")\n",
    "\n",
    "dataset_path = project_root / \"data\" / \"UTF-8S1T4\" / \"fixation\"\n",
    "selected_dataset_path = dataset_path.resolve()"
   ]
  },
  {
   "cell_type": "markdown",
   "id": "6",
   "metadata": {},
   "source": [
    "## Initialize and Run VideoPlayer\n",
    "Run the VideoPlayer to visualize eye-tracking data overlay."
   ]
  },
  {
   "cell_type": "code",
   "execution_count": 4,
   "id": "7",
   "metadata": {
    "ExecuteTime": {
     "end_time": "2025-05-17T08:45:18.855440100Z",
     "start_time": "2025-05-17T08:44:39.472243100Z"
    }
   },
   "outputs": [
    {
     "name": "stdout",
     "output_type": "stream",
     "text": [
      "Loading gaze data from: C:\\Users\\Kirthan\\IdeaProjects\\pymovements-videoreplay\\data\\UTF-8S1T4\\fixation\\S1T4_fixfinal.csv\n",
      "Checking video path: C:\\Users\\Kirthan\\IdeaProjects\\pymovements-videoreplay\\data\\UTF-8S1T4\\S1T4 videos\\c1r1.mov\n",
      "Video loaded successfully! FPS: 60.0, Total Frames: 1816\n"
     ]
    }
   ],
   "source": [
    "# Reload the modules\n",
    "import videoreplay.video_player\n",
    "from videoreplay.video_player import VideoPlayer\n",
    "importlib.reload(videoreplay.video_player)\n",
    "\n",
    "# Initialize\n",
    "player = VideoPlayer(\n",
    "    stimulus_path=selected_stimulus_path,\n",
    "    dataset_path=selected_dataset_path,\n",
    "    recording_sessions=[\"S1T4\"]\n",
    ")"
   ]
  },
  {
   "cell_type": "markdown",
   "id": "8",
   "metadata": {},
   "source": [
    "## Play Video with Gaze Overlay"
   ]
  },
  {
   "cell_type": "code",
   "execution_count": 5,
   "id": "9",
   "metadata": {
    "ExecuteTime": {
     "end_time": "2025-05-17T08:45:34.758972400Z",
     "start_time": "2025-05-17T08:45:21.225820100Z"
    }
   },
   "outputs": [],
   "source": [
    "player.play(speed=1.0)"
   ]
  },
  {
   "cell_type": "markdown",
   "id": "10",
   "metadata": {},
   "source": [
    "## Navigate Through Fixations\n",
    "Use 'n' for next fixation, 'p' for previous, 'q' to quit."
   ]
  },
  {
   "cell_type": "code",
   "execution_count": 6,
   "id": "11",
   "metadata": {
    "ExecuteTime": {
     "end_time": "2025-05-17T08:46:22.591819300Z",
     "start_time": "2025-05-17T08:45:37.890980Z"
    }
   },
   "outputs": [],
   "source": [
    "player.fixation_navigation()"
   ]
  },
  {
   "cell_type": "markdown",
   "id": "12",
   "metadata": {},
   "source": [
    "## Export Gaze Replay as MP4\n",
    "Save the replay with gaze overlay."
   ]
  },
  {
   "cell_type": "code",
   "execution_count": 9,
   "id": "13",
   "metadata": {
    "ExecuteTime": {
     "end_time": "2025-05-17T08:07:21.796773200Z",
     "start_time": "2025-05-17T08:05:48.193852300Z"
    }
   },
   "outputs": [
    {
     "name": "stdout",
     "output_type": "stream",
     "text": [
      "Exporting gaze replay for a video stimulus...\n",
      "ERROR converting pixel data: could not convert string to float: '.', Value: ('.', '.')\n",
      "ERROR converting pixel data: could not convert string to float: '.', Value: ('.', '.')\n",
      "ERROR converting pixel data: could not convert string to float: '.', Value: ('.', '.')\n",
      "ERROR converting pixel data: could not convert string to float: '.', Value: ('.', '.')\n",
      "ERROR converting pixel data: could not convert string to float: '.', Value: ('.', '.')\n",
      "ERROR converting pixel data: could not convert string to float: '.', Value: ('.', '.')\n",
      "ERROR converting pixel data: could not convert string to float: '.', Value: ('.', '.')\n",
      "ERROR converting pixel data: could not convert string to float: '.', Value: ('.', '.')\n",
      "ERROR converting pixel data: could not convert string to float: '.', Value: ('.', '.')\n",
      "ERROR converting pixel data: could not convert string to float: '.', Value: ('.', '.')\n",
      "ERROR converting pixel data: could not convert string to float: '.', Value: ('.', '.')\n",
      "ERROR converting pixel data: could not convert string to float: '.', Value: ('.', '.')\n",
      "ERROR converting pixel data: could not convert string to float: '.', Value: ('.', '.')\n",
      "ERROR converting pixel data: could not convert string to float: '.', Value: ('.', '.')\n",
      "ERROR converting pixel data: could not convert string to float: '.', Value: ('.', '.')\n",
      "ERROR converting pixel data: could not convert string to float: '.', Value: ('.', '.')\n",
      "ERROR converting pixel data: could not convert string to float: '.', Value: ('.', '.')\n",
      "Video-based replay exported as MP4: gaze_replay.mp4\n"
     ]
    }
   ],
   "source": [
    "player.export_replay(\"gaze_replay\", speed=1.0)"
   ]
  },
  {
   "cell_type": "code",
   "execution_count": null,
   "outputs": [],
   "source": [],
   "metadata": {
    "collapsed": false
   },
   "id": "b0876b99048b42c9"
  }
 ],
 "metadata": {
  "kernelspec": {
   "name": "python3",
   "language": "python",
   "display_name": "Python 3 (ipykernel)"
  }
 },
 "nbformat": 4,
 "nbformat_minor": 5
}
