{
 "cells": [
  {
   "cell_type": "markdown",
   "id": "0",
   "metadata": {},
   "source": [
    "# Example Usage: VideoPlayer (image stimuli)\n",
    "## Import necessary libraries"
   ]
  },
  {
   "cell_type": "code",
   "execution_count": null,
   "id": "1",
   "metadata": {},
   "outputs": [],
   "source": [
    "import importlib\n",
    "import os\n",
    "\n",
    "import ipyfilechooser\n",
    "from IPython.display import display\n",
    "\n",
    "import videoreplay.video_player\n",
    "from videoreplay.video_player import VideoPlayer"
   ]
  },
  {
   "cell_type": "markdown",
   "id": "2",
   "metadata": {},
   "source": [
    "## Select Stimulus (Video or Image)"
   ]
  },
  {
   "cell_type": "code",
   "execution_count": null,
   "id": "3",
   "metadata": {},
   "outputs": [],
   "source": [
    "base_dir = os.getcwd()\n",
    "while (not base_dir.endswith(\"pymovements-videoreplay\") and\n",
    "       os.path.dirname(base_dir) != base_dir):\n",
    "    base_dir = os.path.dirname(base_dir)\n",
    "\n",
    "default_path = os.path.join(base_dir, \"data\")\n",
    "os.makedirs(default_path, exist_ok=True)\n",
    "\n",
    "chooser = ipyfilechooser.FileChooser(default_path)\n",
    "chooser.filter_pattern = ['*.jpg', '*.jpeg', '*.png']\n",
    "chooser.title = \"<b>Select Stimulus</b>\"\n",
    "display(chooser)\n",
    "\n",
    "def save_uploaded_stimulus():\n",
    "    selected_file_path = chooser.selected\n",
    "    if selected_file_path is None:\n",
    "        print(\"ERROR: No stimulus selected. Please select an image or video.\")\n",
    "        return\n",
    "\n",
    "    # Verify the file exists\n",
    "    stimulus_name = os.path.basename(selected_file_path)\n",
    "    if os.path.exists(selected_file_path):\n",
    "        print(f\"Stimulus saved successfully as '{stimulus_name}'!\")\n",
    "    else:\n",
    "        print(\"ERROR: Stimulus file was not saved correctly!\")\n",
    "\n",
    "    return selected_file_path"
   ]
  },
  {
   "cell_type": "markdown",
   "id": "4",
   "metadata": {},
   "source": [
    "After Selecting the File, Run:"
   ]
  },
  {
   "cell_type": "code",
   "execution_count": null,
   "id": "5",
   "metadata": {},
   "outputs": [],
   "source": [
    "selected_stimulus_path = save_uploaded_stimulus()"
   ]
  },
  {
   "cell_type": "markdown",
   "id": "6",
   "metadata": {},
   "source": [
    "## Select Dataset (CSV file)"
   ]
  },
  {
   "cell_type": "code",
   "execution_count": null,
   "id": "7",
   "metadata": {},
   "outputs": [],
   "source": [
    "base_dir = os.getcwd()\n",
    "while (not base_dir.endswith(\"pymovements-videoreplay\") and\n",
    "       os.path.dirname(base_dir) != base_dir):\n",
    "    base_dir = os.path.dirname(base_dir)\n",
    "\n",
    "default_path = os.path.join(base_dir, \"data\")\n",
    "os.makedirs(default_path, exist_ok=True)\n",
    "\n",
    "chooser = ipyfilechooser.FileChooser(default_path)\n",
    "chooser.filter_pattern = ['*.csv']\n",
    "chooser.title = \"<b>Select CSV file</b>\"\n",
    "display(chooser)\n",
    "\n",
    "def save_uploaded_dataset():\n",
    "    selected_file_path = chooser.selected\n",
    "    if selected_file_path is None:\n",
    "        print(\"ERROR: No dataset selected. Please select a CSV file.\")\n",
    "        return\n",
    "\n",
    "    # Verify the file exists\n",
    "    if os.path.exists(selected_file_path):\n",
    "        print(\"CSV file saved successfully!\")\n",
    "    else:\n",
    "        print(\"ERROR: CSV file was not saved correctly!\")\n",
    "\n",
    "    return selected_file_path"
   ]
  },
  {
   "cell_type": "markdown",
   "id": "8",
   "metadata": {},
   "source": [
    "After Selecting the File, Run:"
   ]
  },
  {
   "cell_type": "code",
   "execution_count": null,
   "id": "9",
   "metadata": {},
   "outputs": [],
   "source": [
    "selected_dataset_path = save_uploaded_dataset()"
   ]
  },
  {
   "cell_type": "markdown",
   "id": "10",
   "metadata": {},
   "source": [
    "## Initialize and Run VideoPlayer\n",
    "Run the VideoPlayer to visualize eye-tracking data overlay."
   ]
  },
  {
   "cell_type": "code",
   "execution_count": null,
   "id": "11",
   "metadata": {},
   "outputs": [],
   "source": [
    "# Reload the modules\n",
    "importlib.reload(videoreplay.video_player)\n",
    "\n",
    "# Initialize\n",
    "player = VideoPlayer(\n",
    "    stimulus_path=selected_stimulus_path,\n",
    "    dataset_path=selected_dataset_path,\n",
    "    recording_sessions=[\"msd001\", \"msd002\", \"msd003\", \"msd004\"]\n",
    ")"
   ]
  },
  {
   "cell_type": "markdown",
   "id": "12",
   "metadata": {},
   "source": [
    "## Play Video with Gaze Overlay"
   ]
  },
  {
   "cell_type": "code",
   "execution_count": null,
   "id": "13",
   "metadata": {},
   "outputs": [],
   "source": [
    "player.play(speed=1.0)"
   ]
  },
  {
   "cell_type": "markdown",
   "id": "14",
   "metadata": {},
   "source": [
    "## Navigate Through Fixations\n",
    "Use 'n' for next fixation, 'p' for previous, 'q' to quit."
   ]
  },
  {
   "cell_type": "code",
   "execution_count": null,
   "id": "15",
   "metadata": {},
   "outputs": [],
   "source": [
    "player.fixation_navigation()"
   ]
  },
  {
   "cell_type": "markdown",
   "id": "16",
   "metadata": {},
   "source": [
    "## Export Gaze Replay as MP4\n",
    "Save the replay with gaze overlay."
   ]
  },
  {
   "cell_type": "code",
   "execution_count": null,
   "id": "17",
   "metadata": {},
   "outputs": [],
   "source": [
    "player.export_replay(\"gaze_replay\", speed=1.0)"
   ]
  },
  {
   "cell_type": "code",
   "execution_count": null,
   "id": "18",
   "metadata": {},
   "outputs": [],
   "source": []
  }
 ],
 "metadata": {},
 "nbformat": 4,
 "nbformat_minor": 5
}
