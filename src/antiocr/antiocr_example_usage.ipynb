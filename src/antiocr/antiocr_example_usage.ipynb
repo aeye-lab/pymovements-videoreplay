{
 "cells": [
  {
   "cell_type": "markdown",
   "id": "0",
   "metadata": {},
   "source": [
    "# Example Usage: AntiOCR\n",
    "## Import necessary libraries"
   ]
  },
  {
   "cell_type": "code",
   "execution_count": 12,
   "outputs": [],
   "source": [
    "import importlib\n",
    "from pathlib import Path\n",
    "\n",
    "import antiocr.anti_ocr\n",
    "from antiocr.anti_ocr import AntiOCR"
   ],
   "metadata": {
    "collapsed": false,
    "ExecuteTime": {
     "end_time": "2025-05-17T20:25:50.076405300Z",
     "start_time": "2025-05-17T20:25:50.061209300Z"
    }
   },
   "id": "6a0a575f37f94c25"
  },
  {
   "cell_type": "markdown",
   "source": [
    "## Define dataset path"
   ],
   "metadata": {
    "collapsed": false
   },
   "id": "cf705a6e832567af"
  },
  {
   "cell_type": "code",
   "execution_count": 13,
   "outputs": [],
   "source": [
    "current_path = Path().resolve()\n",
    "for parent in current_path.parents:\n",
    "    if parent.name == \"pymovements-videoreplay\":\n",
    "        project_root = parent\n",
    "        break\n",
    "else:\n",
    "    raise RuntimeError(\"Project root 'pymovements-videoreplay' not found!\")\n",
    "\n",
    "dataset_path = project_root / \"data\" / \"SB-SAT\" / \"fixation\"\n",
    "selected_dataset_path = dataset_path.resolve()"
   ],
   "metadata": {
    "collapsed": false,
    "ExecuteTime": {
     "end_time": "2025-05-17T20:25:51.783939700Z",
     "start_time": "2025-05-17T20:25:51.780755300Z"
    }
   },
   "id": "f6e28903d219e0d6"
  },
  {
   "cell_type": "markdown",
   "source": [
    "## Initialize AntiOCR"
   ],
   "metadata": {
    "collapsed": false
   },
   "id": "a083a09859c6fcae"
  },
  {
   "cell_type": "code",
   "execution_count": 14,
   "outputs": [],
   "source": [
    "# Reload the module\n",
    "importlib.reload(antiocr.anti_ocr)\n",
    "\n",
    "# Initialize the VideoPlayer with the uploaded video\n",
    "antiocr = AntiOCR(920, 690)"
   ],
   "metadata": {
    "collapsed": false,
    "ExecuteTime": {
     "end_time": "2025-05-17T20:25:53.405414300Z",
     "start_time": "2025-05-17T20:25:53.368659800Z"
    }
   },
   "id": "1e9c5fa0f38ace70"
  },
  {
   "cell_type": "markdown",
   "source": [
    "## Generate Stimulus from CSV"
   ],
   "metadata": {
    "collapsed": false
   },
   "id": "63b2c5e4210177c6"
  },
  {
   "cell_type": "code",
   "execution_count": 15,
   "outputs": [
    {
     "name": "stdout",
     "output_type": "stream",
     "text": [
      "Loading gaze data from: C:\\Users\\Kirthan\\IdeaProjects\\pymovements-videoreplay\\data\\SB-SAT\\fixation\\18sat_fixfinal.csv\n",
      "Stimulus image successfully saved to: generated_stimulus.png\n"
     ]
    }
   ],
   "source": [
    "antiocr.generate_from_csv(\n",
    "    selected_dataset_path,\n",
    "    \"reading-dickens-1\",\n",
    "    \"msd001\",\n",
    "    \"generated_stimulus.png\"\n",
    ")"
   ],
   "metadata": {
    "collapsed": false,
    "ExecuteTime": {
     "end_time": "2025-05-17T20:26:59.262685Z",
     "start_time": "2025-05-17T20:25:56.528823900Z"
    }
   },
   "id": "b61f08736d57349e"
  },
  {
   "cell_type": "code",
   "execution_count": null,
   "outputs": [],
   "source": [],
   "metadata": {
    "collapsed": false
   },
   "id": "9ead27df211881bc"
  }
 ],
 "metadata": {
  "kernelspec": {
   "name": "python3",
   "language": "python",
   "display_name": "Python 3 (ipykernel)"
  }
 },
 "nbformat": 4,
 "nbformat_minor": 5
}
