{
 "cells": [
  {
   "cell_type": "markdown",
   "id": "0",
   "metadata": {},
   "source": [
    "## Initialize and Run AntiOCR\n",
    "Run the AntiOCR to generate stimulus image."
   ]
  },
  {
   "cell_type": "code",
   "execution_count": null,
   "id": "1",
   "metadata": {},
   "outputs": [],
   "source": [
    "import importlib\n",
    "import os\n",
    "import sys\n",
    "from pathlib import Path\n",
    "\n",
    "import antiocr.anti_ocr\n",
    "from antiocr.anti_ocr import AntiOCR\n",
    "\n",
    "# Ensure 'src' is in sys.path\n",
    "src_path = os.path.abspath(os.path.join('src'))\n",
    "if src_path not in sys.path:\n",
    "    sys.path.append(src_path)\n",
    "\n",
    "# Import and Reload the module\n",
    "importlib.reload(antiocr.anti_ocr)\n",
    "\n",
    "# Now import the updated class\n",
    "\n",
    "# Initialize the VideoPlayer with the uploaded video\n",
    "antiocr = AntiOCR(920, 690)"
   ]
  },
  {
   "cell_type": "markdown",
   "id": "2",
   "metadata": {},
   "source": [
    "## Generate Stimulus from CSV"
   ]
  },
  {
   "cell_type": "code",
   "execution_count": null,
   "id": "3",
   "metadata": {},
   "outputs": [],
   "source": [
    "current_path = Path().resolve()\n",
    "for parent in current_path.parents:\n",
    "    if parent.name == \"pymovements-videoreplay\":\n",
    "        project_root = parent\n",
    "        break\n",
    "else:\n",
    "    raise RuntimeError(\"Project root 'pymovements-videoreplay' not found!\")\n",
    "\n",
    "dataset_path = project_root / \"data\" / \"SB-SAT\" / \"fixation\"\n",
    "selected_dataset_path = dataset_path.resolve()"
   ]
  },
  {
   "cell_type": "code",
   "execution_count": null,
   "id": "4",
   "metadata": {},
   "outputs": [],
   "source": [
    "antiocr.generate_from_csv(\n",
    "    selected_dataset_path,\n",
    "    \"reading-dickens-1\",\n",
    "    \"msd001\",\n",
    "    \"generated_stimulus.png\"\n",
    ")"
   ]
  },
  {
   "cell_type": "code",
   "execution_count": null,
   "id": "5",
   "metadata": {},
   "outputs": [],
   "source": []
  }
 ],
 "metadata": {},
 "nbformat": 4,
 "nbformat_minor": 5
}
