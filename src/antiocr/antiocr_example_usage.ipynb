{
 "cells": [
  {
   "cell_type": "markdown",
   "id": "0",
   "metadata": {},
   "source": [
    "# Example Usage: AntiOCR\n",
    "## Import necessary libraries"
   ]
  },
  {
   "cell_type": "code",
   "execution_count": null,
   "id": "1",
   "metadata": {},
   "outputs": [],
   "source": [
    "import importlib\n",
    "import os\n",
    "\n",
    "import ipyfilechooser\n",
    "from IPython.display import display\n",
    "\n",
    "import antiocr.anti_ocr\n",
    "from antiocr.anti_ocr import AntiOCR"
   ]
  },
  {
   "cell_type": "markdown",
   "id": "2",
   "metadata": {},
   "source": [
    "## Select Dataset (CSV file)"
   ]
  },
  {
   "cell_type": "code",
   "execution_count": null,
   "id": "3",
   "metadata": {},
   "outputs": [],
   "source": [
    "base_dir = os.getcwd()\n",
    "while (not base_dir.endswith(\"pymovements-videoreplay\") and\n",
    "       os.path.dirname(base_dir) != base_dir):\n",
    "    base_dir = os.path.dirname(base_dir)\n",
    "\n",
    "default_path = os.path.join(base_dir, \"data\")\n",
    "os.makedirs(default_path, exist_ok=True)\n",
    "\n",
    "chooser = ipyfilechooser.FileChooser(default_path)\n",
    "chooser.filter_pattern = ['*.csv']\n",
    "chooser.title = \"<b>Select CSV file</b>\"\n",
    "display(chooser)\n",
    "\n",
    "def save_uploaded_dataset():\n",
    "    selected_file_path = chooser.selected\n",
    "    if selected_file_path is None:\n",
    "        print(\"ERROR: No dataset selected. Please select a CSV file.\")\n",
    "        return\n",
    "\n",
    "    # Verify the file exists\n",
    "    if os.path.exists(selected_file_path):\n",
    "        print(\"CSV file saved successfully!\")\n",
    "    else:\n",
    "        print(\"ERROR: CSV file was not saved correctly!\")\n",
    "\n",
    "    return selected_file_path"
   ]
  },
  {
   "cell_type": "markdown",
   "id": "4",
   "metadata": {},
   "source": [
    "After Selecting the File, Run:"
   ]
  },
  {
   "cell_type": "code",
   "execution_count": null,
   "id": "5",
   "metadata": {},
   "outputs": [],
   "source": [
    "selected_dataset_path = save_uploaded_dataset()"
   ]
  },
  {
   "cell_type": "markdown",
   "id": "6",
   "metadata": {},
   "source": [
    "## Initialize AntiOCR"
   ]
  },
  {
   "cell_type": "code",
   "execution_count": null,
   "id": "7",
   "metadata": {},
   "outputs": [],
   "source": [
    "# Reload the module\n",
    "importlib.reload(antiocr.anti_ocr)\n",
    "\n",
    "# Initialize the VideoPlayer with the uploaded video\n",
    "antiocr = AntiOCR(920, 690)"
   ]
  },
  {
   "cell_type": "markdown",
   "id": "8",
   "metadata": {},
   "source": [
    "## Generate Stimulus from CSV"
   ]
  },
  {
   "cell_type": "code",
   "execution_count": null,
   "id": "9",
   "metadata": {},
   "outputs": [],
   "source": [
    "antiocr.generate_from_csv(\n",
    "    selected_dataset_path,\n",
    "    \"reading-dickens-1\",\n",
    "    \"msd001\",\n",
    "    \"generated_stimulus.png\"\n",
    ")"
   ]
  },
  {
   "cell_type": "code",
   "execution_count": null,
   "id": "10",
   "metadata": {},
   "outputs": [],
   "source": []
  }
 ],
 "metadata": {},
 "nbformat": 4,
 "nbformat_minor": 5
}
