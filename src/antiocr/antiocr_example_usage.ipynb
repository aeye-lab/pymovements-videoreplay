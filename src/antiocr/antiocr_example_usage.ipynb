{
 "cells": [
  {
   "cell_type": "markdown",
   "source": [
    "# Example Usage: AntiOCR\n",
    "## Import necessary libraries"
   ],
   "metadata": {
    "collapsed": false
   },
   "id": "8ccaff2691a6f665"
  },
  {
   "cell_type": "code",
   "execution_count": 1,
   "outputs": [],
   "source": [
    "import importlib\n",
    "from pathlib import Path"
   ],
   "metadata": {
    "collapsed": false,
    "ExecuteTime": {
     "end_time": "2025-05-16T13:32:27.599576500Z",
     "start_time": "2025-05-16T13:32:27.588832600Z"
    }
   },
   "id": "bfa567d14895b517"
  },
  {
   "cell_type": "markdown",
   "source": [
    "## Define dataset path"
   ],
   "metadata": {
    "collapsed": false
   },
   "id": "934050aa2589892a"
  },
  {
   "cell_type": "code",
   "execution_count": 2,
   "outputs": [],
   "source": [
    "current_path = Path().resolve()\n",
    "for parent in current_path.parents:\n",
    "    if parent.name == \"pymovements-videoreplay\":\n",
    "        project_root = parent\n",
    "        break\n",
    "else:\n",
    "    raise RuntimeError(\"Project root 'pymovements-videoreplay' not found!\")\n",
    "\n",
    "dataset_path = project_root / \"data\" / \"SB-SAT\" / \"fixation\"\n",
    "selected_dataset_path = dataset_path.resolve()"
   ],
   "metadata": {
    "collapsed": false,
    "ExecuteTime": {
     "end_time": "2025-05-16T13:32:40.042749800Z",
     "start_time": "2025-05-16T13:32:40.032513700Z"
    }
   },
   "id": "96f46d1a50366794"
  },
  {
   "cell_type": "markdown",
   "source": [
    "## Initialize AntiOCR"
   ],
   "metadata": {
    "collapsed": false
   },
   "id": "aaa3601a11335680"
  },
  {
   "cell_type": "code",
   "execution_count": 3,
   "outputs": [],
   "source": [
    "# Reload the module\n",
    "import antiocr.anti_ocr\n",
    "importlib.reload(antiocr.anti_ocr)\n",
    "from antiocr.anti_ocr import AntiOCR\n",
    "\n",
    "# Initialize the VideoPlayer with the uploaded video\n",
    "antiocr = AntiOCR(920, 690)"
   ],
   "metadata": {
    "collapsed": false,
    "ExecuteTime": {
     "end_time": "2025-05-16T13:32:42.499983800Z",
     "start_time": "2025-05-16T13:32:41.662811300Z"
    }
   },
   "id": "849d428ff61d0828"
  },
  {
   "cell_type": "markdown",
   "source": [
    "## Generate Stimulus from CSV"
   ],
   "metadata": {
    "collapsed": false
   },
   "id": "fa7380214a3f878b"
  },
  {
   "cell_type": "code",
   "execution_count": 4,
   "outputs": [
    {
     "name": "stdout",
     "output_type": "stream",
     "text": [
      "Loading gaze data from: C:\\Users\\Kirthan\\IdeaProjects\\pymovements-videoreplay\\data\\SB-SAT\\fixation\\18sat_fixfinal.csv\n",
      "Stimulus image successfully saved to: generated_stimulus.png\n"
     ]
    }
   ],
   "source": [
    "antiocr.generate_from_csv(\n",
    "    selected_dataset_path,\n",
    "    \"reading-dickens-1\",\n",
    "    \"msd001\",\n",
    "    \"generated_stimulus.png\"\n",
    ")"
   ],
   "metadata": {
    "collapsed": false,
    "ExecuteTime": {
     "end_time": "2025-05-16T13:33:17.398408200Z",
     "start_time": "2025-05-16T13:32:43.944004800Z"
    }
   },
   "id": "449b8efd9e8979d3"
  }
 ],
 "metadata": {
  "kernelspec": {
   "name": "python3",
   "language": "python",
   "display_name": "Python 3 (ipykernel)"
  }
 },
 "nbformat": 4,
 "nbformat_minor": 5
}
