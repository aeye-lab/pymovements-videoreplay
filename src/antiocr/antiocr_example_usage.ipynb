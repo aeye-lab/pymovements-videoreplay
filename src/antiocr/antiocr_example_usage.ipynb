{
 "cells": [
  {
   "cell_type": "markdown",
   "source": [
    "## Initialize and Run AntiOCR\n",
    "Run the AntiOCR to generate stimulus image."
   ],
   "metadata": {
    "collapsed": false
   },
   "id": "10a82e6f8033e65e"
  },
  {
   "cell_type": "code",
   "execution_count": 30,
   "outputs": [],
   "source": [
    "import os\n",
    "import sys\n",
    "import importlib\n",
    "\n",
    "# Ensure 'src' is in sys.path\n",
    "src_path = os.path.abspath(os.path.join('src'))\n",
    "if src_path not in sys.path:\n",
    "    sys.path.append(src_path)\n",
    "\n",
    "# Import and Reload the module\n",
    "import antiocr.anti_ocr\n",
    "importlib.reload(antiocr.anti_ocr)\n",
    "\n",
    "# Now import the updated class\n",
    "from antiocr.anti_ocr import AntiOCR\n",
    "\n",
    "# Initialize the VideoPlayer with the uploaded video\n",
    "antiocr = AntiOCR(920, 690)"
   ],
   "metadata": {
    "collapsed": false,
    "ExecuteTime": {
     "end_time": "2025-05-04T11:11:35.368230900Z",
     "start_time": "2025-05-04T11:11:35.360095800Z"
    }
   },
   "id": "7c39103f12e1f3a6"
  },
  {
   "cell_type": "markdown",
   "source": [
    "## Generate Stimulus from CSV"
   ],
   "metadata": {
    "collapsed": false
   },
   "id": "e9052d0fc6291892"
  },
  {
   "cell_type": "code",
   "execution_count": 31,
   "outputs": [],
   "source": [
    "from pathlib import Path\n",
    "\n",
    "current_path = Path().resolve()\n",
    "for parent in current_path.parents:\n",
    "    if parent.name == \"pymovements-videoreplay\":\n",
    "        project_root = parent\n",
    "        break\n",
    "else:\n",
    "    raise RuntimeError(\"Project root 'pymovements-videoreplay' not found!\")\n",
    "\n",
    "dataset_path = project_root / \"data\" / \"SB-SAT\" / \"fixation\"\n",
    "selected_dataset_path = dataset_path.resolve()"
   ],
   "metadata": {
    "collapsed": false,
    "ExecuteTime": {
     "end_time": "2025-05-04T11:11:37.459004Z",
     "start_time": "2025-05-04T11:11:37.448761600Z"
    }
   },
   "id": "3aee00cf0ec53a19"
  },
  {
   "cell_type": "code",
   "execution_count": 33,
   "outputs": [
    {
     "name": "stdout",
     "output_type": "stream",
     "text": [
      "Loading gaze data from: C:\\Users\\Kirthan\\IdeaProjects\\pymovements-videoreplay\\data\\SB-SAT\\fixation\\18sat_fixfinal.csv\n",
      "Index(['recording_session', 'pixel_x', 'pixel_y', 'word', 'page_name'], dtype='object')\n",
      "Stimulus image successfully saved to: generated_stimulus.png\n"
     ]
    }
   ],
   "source": [
    "antiocr.generate_from_csv(\n",
    "    selected_dataset_path, \n",
    "    \"reading-dickens-1\",\n",
    "    \"msd001\",\n",
    "    \"generated_stimulus.png\"\n",
    ")"
   ],
   "metadata": {
    "collapsed": false,
    "ExecuteTime": {
     "end_time": "2025-05-04T11:11:53.003590200Z",
     "start_time": "2025-05-04T11:11:51.553939800Z"
    }
   },
   "id": "b1c0e8387d50ddf2"
  },
  {
   "cell_type": "code",
   "execution_count": null,
   "outputs": [],
   "source": [],
   "metadata": {
    "collapsed": false
   },
   "id": "96e7c7e1594b4639"
  }
 ],
 "metadata": {
  "kernelspec": {
   "display_name": "Python 3",
   "language": "python",
   "name": "python3"
  },
  "language_info": {
   "codemirror_mode": {
    "name": "ipython",
    "version": 2
   },
   "file_extension": ".py",
   "mimetype": "text/x-python",
   "name": "python",
   "nbconvert_exporter": "python",
   "pygments_lexer": "ipython2",
   "version": "2.7.6"
  }
 },
 "nbformat": 4,
 "nbformat_minor": 5
}
