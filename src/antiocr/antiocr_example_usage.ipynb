{
 "cells": [
  {
   "cell_type": "markdown",
   "id": "0",
   "metadata": {},
   "source": [
    "# Example Usage: AntiOCR\n",
    "## Import necessary libraries"
   ]
  },
  {
   "cell_type": "code",
   "execution_count": 1,
   "id": "1",
   "metadata": {
    "ExecuteTime": {
     "end_time": "2025-05-17T09:03:30.380076300Z",
     "start_time": "2025-05-17T09:03:29.782604300Z"
    }
   },
   "outputs": [],
   "source": [
    "import importlib\n",
    "from pathlib import Path"
   ]
  },
  {
   "cell_type": "markdown",
   "id": "2",
   "metadata": {},
   "source": [
    "## Define dataset path"
   ]
  },
  {
   "cell_type": "code",
   "execution_count": 2,
   "id": "3",
   "metadata": {
    "ExecuteTime": {
     "end_time": "2025-05-17T09:04:01.789593900Z",
     "start_time": "2025-05-17T09:04:01.780468100Z"
    }
   },
   "outputs": [],
   "source": [
    "current_path = Path().resolve()\n",
    "for parent in current_path.parents:\n",
    "    if parent.name == \"pymovements-videoreplay\":\n",
    "        project_root = parent\n",
    "        break\n",
    "else:\n",
    "    raise RuntimeError(\"Project root 'pymovements-videoreplay' not found!\")\n",
    "\n",
    "dataset_path = project_root / \"data\" / \"SB-SAT\" / \"fixation\"\n",
    "selected_dataset_path = dataset_path.resolve()"
   ]
  },
  {
   "cell_type": "markdown",
   "id": "4",
   "metadata": {},
   "source": [
    "## Initialize AntiOCR"
   ]
  },
  {
   "cell_type": "code",
   "execution_count": 3,
   "id": "5",
   "metadata": {
    "ExecuteTime": {
     "end_time": "2025-05-17T09:04:18.657152400Z",
     "start_time": "2025-05-17T09:04:18.633131100Z"
    }
   },
   "outputs": [],
   "source": [
    "# Reload the module\n",
    "import antiocr.anti_ocr\n",
    "from antiocr.anti_ocr import AntiOCR\n",
    "importlib.reload(antiocr.anti_ocr)\n",
    "\n",
    "# Initialize the VideoPlayer with the uploaded video\n",
    "antiocr = AntiOCR(920, 690)"
   ]
  },
  {
   "cell_type": "markdown",
   "id": "6",
   "metadata": {},
   "source": [
    "## Generate Stimulus from CSV"
   ]
  },
  {
   "cell_type": "code",
   "execution_count": 4,
   "id": "7",
   "metadata": {
    "ExecuteTime": {
     "end_time": "2025-05-17T09:04:57.814088400Z",
     "start_time": "2025-05-17T09:04:21.972570500Z"
    }
   },
   "outputs": [
    {
     "name": "stdout",
     "output_type": "stream",
     "text": [
      "Loading gaze data from: C:\\Users\\Kirthan\\IdeaProjects\\pymovements-videoreplay\\data\\SB-SAT\\fixation\\18sat_fixfinal.csv\n",
      "Stimulus image successfully saved to: generated_stimulus.png\n"
     ]
    }
   ],
   "source": [
    "antiocr.generate_from_csv(\n",
    "    selected_dataset_path,\n",
    "    \"reading-dickens-1\",\n",
    "    \"msd001\",\n",
    "    \"generated_stimulus.png\"\n",
    ")"
   ]
  },
  {
   "cell_type": "code",
   "execution_count": null,
   "outputs": [],
   "source": [],
   "metadata": {
    "collapsed": false
   },
   "id": "fba436b17548fcda"
  }
 ],
 "metadata": {
  "kernelspec": {
   "name": "python3",
   "language": "python",
   "display_name": "Python 3 (ipykernel)"
  }
 },
 "nbformat": 4,
 "nbformat_minor": 5
}
