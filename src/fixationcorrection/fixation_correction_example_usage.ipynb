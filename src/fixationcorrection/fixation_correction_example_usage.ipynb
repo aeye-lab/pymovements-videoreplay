{
 "cells": [
  {
   "cell_type": "code",
   "execution_count": null,
   "id": "0",
   "metadata": {},
   "outputs": [],
   "source": [
    "import importlib\n",
    "import os\n",
    "\n",
    "import ipyfilechooser\n",
    "from IPython.display import display\n",
    "\n",
    "import src.fixationcorrection.fixation_correction as correction\n",
    "\n",
    "# Step 1: Create the file chooser widget\n",
    "base_dir = os.getcwd()\n",
    "while (not base_dir.endswith(\"pymovements-videoreplay\")\n",
    "       and os.path.dirname(base_dir) != base_dir):\n",
    "    # Go up one level until we find the project root\n",
    "    base_dir = os.path.dirname(base_dir)\n",
    "\n",
    "default_path = os.path.join(base_dir, \"data\")\n",
    "os.makedirs(default_path, exist_ok=True)\n",
    "\n",
    "image_folder_chooser = ipyfilechooser.FileChooser(\n",
    "    path=default_path,                             # Starting path\n",
    "    select_dirs=True,                     # Allow only folder selection\n",
    "    show_only_dirs=True,                  # Only show directories\n",
    "    title='Select the folder containing your stimuli'\n",
    ")\n",
    "data_file_chooser = ipyfilechooser.FileChooser(\n",
    "    path=default_path,                             # Starting path\n",
    "    filter_pattern='*.csv',\n",
    "    title='Select the file containing your data'\n",
    ")\n",
    "\n",
    "\n",
    "def get_selected_image_folder():\n",
    "    folder_path = image_folder_chooser.selected_path\n",
    "    if not folder_path or not os.path.isdir(folder_path):\n",
    "        print(\"Invalid or no folder selected.\")\n",
    "        return None\n",
    "    print(\"Folder:\", folder_path)\n",
    "    return folder_path\n",
    "\n",
    "\n",
    "def get_selected_data_file():\n",
    "    file_path = data_file_chooser.selected\n",
    "    if not file_path:\n",
    "        print(\"Invalid or no folder selected.\")\n",
    "        return None\n",
    "    print(\"File:\", file_path)\n",
    "    return file_path\n",
    "\n",
    "\n",
    "display(image_folder_chooser)\n",
    "display(data_file_chooser)"
   ]
  },
  {
   "cell_type": "code",
   "execution_count": null,
   "id": "1",
   "metadata": {},
   "outputs": [],
   "source": [
    "image_folder = get_selected_image_folder()\n",
    "data_file = get_selected_data_file()"
   ]
  },
  {
   "cell_type": "code",
   "execution_count": null,
   "id": "2",
   "metadata": {},
   "outputs": [],
   "source": [
    "mapping = {\n",
    "    'pixel_x': 'CURRENT_FIX_X',\n",
    "    'pixel_y': 'CURRENT_FIX_Y',\n",
    "    'image_column': 'page_name',\n",
    "    'grouping': ['RECORDING_SESSION_LABEL', 'page_name'],\n",
    "    'filter_columns': {\n",
    "        'RECORDING_SESSION_LABEL': ['msd002', 'msd003'],\n",
    "        'page_name': ['reading-dickens-1']\n",
    "    }\n",
    "}"
   ]
  },
  {
   "cell_type": "code",
   "execution_count": null,
   "id": "3",
   "metadata": {},
   "outputs": [],
   "source": [
    "importlib.reload(correction)\n",
    "correction.run_fixation_correction(\n",
    "    data_file, image_folder, mapping)"
   ]
  }
 ],
 "metadata": {},
 "nbformat": 4,
 "nbformat_minor": 5
}
