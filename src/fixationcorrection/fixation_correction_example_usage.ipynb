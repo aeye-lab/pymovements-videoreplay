{
 "cells": [
  {
   "cell_type": "code",
   "id": "0",
   "metadata": {},
   "source": [
    "import importlib\n",
    "import os\n",
    "\n",
    "import ipyfilechooser\n",
    "import ipywidgets as widgets\n",
    "from IPython.display import display\n",
    "\n",
    "import src.fixationcorrection.fixation_correction as correction\n",
    "import src.fixationcorrection.ocr_reader as ocr\n",
    "\n",
    "# Step 1: Create the file chooser widget\n",
    "base_dir = os.getcwd()\n",
    "while not base_dir.endswith(\"pymovements-videoreplay\") and os.path.dirname(base_dir) != base_dir:\n",
    "    # Go up one level until we find the project root\n",
    "    base_dir = os.path.dirname(base_dir)\n",
    "\n",
    "default_path = os.path.join(base_dir, \"data\")\n",
    "os.makedirs(default_path, exist_ok=True)\n",
    "\n",
    "image_folder_chooser = ipyfilechooser.FileChooser(\n",
    "    path=default_path,                             # Starting path\n",
    "    select_dirs=True,                     # Allow only folder selection\n",
    "    show_only_dirs=True,                  # Only show directories\n",
    "    title='Select the folder containing your stimuli'\n",
    ")\n",
    "data_file_chooser = ipyfilechooser.FileChooser(\n",
    "    path=default_path,                             # Starting path\n",
    "    filter_pattern='*.csv',\n",
    "    title='Select the file containing your data'\n",
    ")\n",
    "\n",
    "def get_selected_image_folder():\n",
    "    folder_path = image_folder_chooser.selected_path\n",
    "    if not folder_path or not os.path.isdir(folder_path):\n",
    "        print(\"❌ Invalid or no folder selected.\")\n",
    "        return None\n",
    "    # if not file_path or not os.path.isfile(file_path):\n",
    "     #   print(\"⚠️ Invalid or no file selected.\")\n",
    "      #  return None\n",
    "    print(\"✅ Folder:\", folder_path)\n",
    "    return folder_path\n",
    "\n",
    "\n",
    "def get_selected_data_file():\n",
    "    file_path = data_file_chooser.selected\n",
    "    if not file_path:\n",
    "        print(\"❌ Invalid or no folder selected.\")\n",
    "        return None\n",
    "    print(\"✅ File:\", file_path)\n",
    "    return file_path\n",
    "\n",
    "\n",
    "display(image_folder_chooser)\n",
    "display(data_file_chooser)\n"
   ],
   "outputs": [],
   "execution_count": null
  },
  {
   "cell_type": "code",
   "id": "1",
   "metadata": {},
   "source": [
    "image_folder = get_selected_image_folder()\n",
    "data_file = get_selected_data_file()"
   ],
   "outputs": [],
   "execution_count": null
  },
  {
   "cell_type": "code",
   "id": "3",
   "metadata": {},
   "source": [
    "importlib.reload(correction)\n",
    "correction.run_fixation_correction(\n",
    "    data_file, image_folder)"
   ],
   "outputs": [],
   "execution_count": null
  }
 ],
 "metadata": {
  "kernelspec": {
   "name": "python3",
   "language": "python",
   "display_name": "Python 3 (ipykernel)"
  }
 },
 "nbformat": 4,
 "nbformat_minor": 5
}
